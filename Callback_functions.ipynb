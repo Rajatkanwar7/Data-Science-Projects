{
 "cells": [
  {
   "cell_type": "markdown",
   "id": "c1292bd0-d6b9-4194-a462-366f70864a68",
   "metadata": {},
   "source": [
    "### Q1. Install and load the latest versions of TensorFlow and Keras. Print their versions."
   ]
  },
  {
   "cell_type": "code",
   "execution_count": 1,
   "id": "050f4177-a831-4a11-82bc-426dda866a70",
   "metadata": {},
   "outputs": [
    {
     "name": "stdout",
     "output_type": "stream",
     "text": [
      "Requirement already satisfied: tensorflow in /opt/conda/lib/python3.10/site-packages (2.17.0)\n",
      "Requirement already satisfied: protobuf!=4.21.0,!=4.21.1,!=4.21.2,!=4.21.3,!=4.21.4,!=4.21.5,<5.0.0dev,>=3.20.3 in /opt/conda/lib/python3.10/site-packages (from tensorflow) (4.21.11)\n",
      "Requirement already satisfied: packaging in /opt/conda/lib/python3.10/site-packages (from tensorflow) (22.0)\n",
      "Requirement already satisfied: grpcio<2.0,>=1.24.3 in /opt/conda/lib/python3.10/site-packages (from tensorflow) (1.65.4)\n",
      "Requirement already satisfied: ml-dtypes<0.5.0,>=0.3.1 in /opt/conda/lib/python3.10/site-packages (from tensorflow) (0.4.0)\n",
      "Requirement already satisfied: requests<3,>=2.21.0 in /opt/conda/lib/python3.10/site-packages (from tensorflow) (2.28.1)\n",
      "Requirement already satisfied: typing-extensions>=3.6.6 in /opt/conda/lib/python3.10/site-packages (from tensorflow) (4.12.2)\n",
      "Requirement already satisfied: h5py>=3.10.0 in /opt/conda/lib/python3.10/site-packages (from tensorflow) (3.11.0)\n",
      "Requirement already satisfied: tensorboard<2.18,>=2.17 in /opt/conda/lib/python3.10/site-packages (from tensorflow) (2.17.0)\n",
      "Requirement already satisfied: numpy<2.0.0,>=1.23.5 in /opt/conda/lib/python3.10/site-packages (from tensorflow) (1.23.5)\n",
      "Requirement already satisfied: setuptools in /opt/conda/lib/python3.10/site-packages (from tensorflow) (65.5.1)\n",
      "Requirement already satisfied: termcolor>=1.1.0 in /opt/conda/lib/python3.10/site-packages (from tensorflow) (2.4.0)\n",
      "Requirement already satisfied: wrapt>=1.11.0 in /opt/conda/lib/python3.10/site-packages (from tensorflow) (1.16.0)\n",
      "Requirement already satisfied: libclang>=13.0.0 in /opt/conda/lib/python3.10/site-packages (from tensorflow) (18.1.1)\n",
      "Requirement already satisfied: absl-py>=1.0.0 in /opt/conda/lib/python3.10/site-packages (from tensorflow) (2.1.0)\n",
      "Requirement already satisfied: six>=1.12.0 in /opt/conda/lib/python3.10/site-packages (from tensorflow) (1.16.0)\n",
      "Requirement already satisfied: tensorflow-io-gcs-filesystem>=0.23.1 in /opt/conda/lib/python3.10/site-packages (from tensorflow) (0.37.1)\n",
      "Requirement already satisfied: keras>=3.2.0 in /opt/conda/lib/python3.10/site-packages (from tensorflow) (3.4.1)\n",
      "Requirement already satisfied: flatbuffers>=24.3.25 in /opt/conda/lib/python3.10/site-packages (from tensorflow) (24.3.25)\n",
      "Requirement already satisfied: gast!=0.5.0,!=0.5.1,!=0.5.2,>=0.2.1 in /opt/conda/lib/python3.10/site-packages (from tensorflow) (0.6.0)\n",
      "Requirement already satisfied: astunparse>=1.6.0 in /opt/conda/lib/python3.10/site-packages (from tensorflow) (1.6.3)\n",
      "Requirement already satisfied: google-pasta>=0.1.1 in /opt/conda/lib/python3.10/site-packages (from tensorflow) (0.2.0)\n",
      "Requirement already satisfied: opt-einsum>=2.3.2 in /opt/conda/lib/python3.10/site-packages (from tensorflow) (3.3.0)\n",
      "Requirement already satisfied: wheel<1.0,>=0.23.0 in /opt/conda/lib/python3.10/site-packages (from astunparse>=1.6.0->tensorflow) (0.38.4)\n",
      "Requirement already satisfied: namex in /opt/conda/lib/python3.10/site-packages (from keras>=3.2.0->tensorflow) (0.0.8)\n",
      "Requirement already satisfied: rich in /opt/conda/lib/python3.10/site-packages (from keras>=3.2.0->tensorflow) (13.7.1)\n",
      "Requirement already satisfied: optree in /opt/conda/lib/python3.10/site-packages (from keras>=3.2.0->tensorflow) (0.12.1)\n",
      "Requirement already satisfied: idna<4,>=2.5 in /opt/conda/lib/python3.10/site-packages (from requests<3,>=2.21.0->tensorflow) (3.4)\n",
      "Requirement already satisfied: charset-normalizer<3,>=2 in /opt/conda/lib/python3.10/site-packages (from requests<3,>=2.21.0->tensorflow) (2.1.1)\n",
      "Requirement already satisfied: certifi>=2017.4.17 in /opt/conda/lib/python3.10/site-packages (from requests<3,>=2.21.0->tensorflow) (2022.12.7)\n",
      "Requirement already satisfied: urllib3<1.27,>=1.21.1 in /opt/conda/lib/python3.10/site-packages (from requests<3,>=2.21.0->tensorflow) (1.26.13)\n",
      "Requirement already satisfied: werkzeug>=1.0.1 in /opt/conda/lib/python3.10/site-packages (from tensorboard<2.18,>=2.17->tensorflow) (3.0.3)\n",
      "Requirement already satisfied: tensorboard-data-server<0.8.0,>=0.7.0 in /opt/conda/lib/python3.10/site-packages (from tensorboard<2.18,>=2.17->tensorflow) (0.7.2)\n",
      "Requirement already satisfied: markdown>=2.6.8 in /opt/conda/lib/python3.10/site-packages (from tensorboard<2.18,>=2.17->tensorflow) (3.6)\n",
      "Requirement already satisfied: MarkupSafe>=2.1.1 in /opt/conda/lib/python3.10/site-packages (from werkzeug>=1.0.1->tensorboard<2.18,>=2.17->tensorflow) (2.1.1)\n",
      "Requirement already satisfied: markdown-it-py>=2.2.0 in /opt/conda/lib/python3.10/site-packages (from rich->keras>=3.2.0->tensorflow) (3.0.0)\n",
      "Requirement already satisfied: pygments<3.0.0,>=2.13.0 in /opt/conda/lib/python3.10/site-packages (from rich->keras>=3.2.0->tensorflow) (2.13.0)\n",
      "Requirement already satisfied: mdurl~=0.1 in /opt/conda/lib/python3.10/site-packages (from markdown-it-py>=2.2.0->rich->keras>=3.2.0->tensorflow) (0.1.2)\n"
     ]
    }
   ],
   "source": [
    "!pip install tensorflow\n"
   ]
  },
  {
   "cell_type": "code",
   "execution_count": 2,
   "id": "3390069d-71ad-4edd-a852-010aadde94a6",
   "metadata": {},
   "outputs": [
    {
     "name": "stderr",
     "output_type": "stream",
     "text": [
      "2024-08-04 16:01:49.845628: I external/local_xla/xla/tsl/cuda/cudart_stub.cc:32] Could not find cuda drivers on your machine, GPU will not be used.\n",
      "2024-08-04 16:01:49.851153: I external/local_xla/xla/tsl/cuda/cudart_stub.cc:32] Could not find cuda drivers on your machine, GPU will not be used.\n",
      "2024-08-04 16:01:49.870165: E external/local_xla/xla/stream_executor/cuda/cuda_fft.cc:485] Unable to register cuFFT factory: Attempting to register factory for plugin cuFFT when one has already been registered\n",
      "2024-08-04 16:01:49.901826: E external/local_xla/xla/stream_executor/cuda/cuda_dnn.cc:8454] Unable to register cuDNN factory: Attempting to register factory for plugin cuDNN when one has already been registered\n",
      "2024-08-04 16:01:49.911858: E external/local_xla/xla/stream_executor/cuda/cuda_blas.cc:1452] Unable to register cuBLAS factory: Attempting to register factory for plugin cuBLAS when one has already been registered\n",
      "2024-08-04 16:01:49.935602: I tensorflow/core/platform/cpu_feature_guard.cc:210] This TensorFlow binary is optimized to use available CPU instructions in performance-critical operations.\n",
      "To enable the following instructions: AVX2 FMA, in other operations, rebuild TensorFlow with the appropriate compiler flags.\n",
      "2024-08-04 16:01:51.481733: W tensorflow/compiler/tf2tensorrt/utils/py_utils.cc:38] TF-TRT Warning: Could not find TensorRT\n"
     ]
    },
    {
     "name": "stdout",
     "output_type": "stream",
     "text": [
      "TensorFlow version: 2.17.0\n",
      "Keras version: 3.4.1\n"
     ]
    }
   ],
   "source": [
    "import tensorflow as tf\n",
    "from tensorflow import keras\n",
    "\n",
    "print(\"TensorFlow version:\", tf.__version__)\n",
    "print(\"Keras version:\", keras.__version__)"
   ]
  },
  {
   "cell_type": "code",
   "execution_count": null,
   "id": "b094fdf8-06c3-435f-8972-b826f09cbb08",
   "metadata": {},
   "outputs": [],
   "source": []
  },
  {
   "cell_type": "markdown",
   "id": "abd7a6f3-08f7-4d7e-bde3-bd82a849a809",
   "metadata": {},
   "source": [
    "### Q2. Load the Wine Quality dataset and explore its dimensions.\n",
    "### Dataset: https://www.kaggle.com/datasets/nareshbhat/wine-quality-binary-classification"
   ]
  },
  {
   "cell_type": "code",
   "execution_count": 3,
   "id": "ffeaf160-4c7c-45ae-bbdd-a4c22e9f6ad9",
   "metadata": {},
   "outputs": [
    {
     "name": "stdout",
     "output_type": "stream",
     "text": [
      "Dataset dimensions: (1599, 12)\n"
     ]
    },
    {
     "data": {
      "text/html": [
       "<div>\n",
       "<style scoped>\n",
       "    .dataframe tbody tr th:only-of-type {\n",
       "        vertical-align: middle;\n",
       "    }\n",
       "\n",
       "    .dataframe tbody tr th {\n",
       "        vertical-align: top;\n",
       "    }\n",
       "\n",
       "    .dataframe thead th {\n",
       "        text-align: right;\n",
       "    }\n",
       "</style>\n",
       "<table border=\"1\" class=\"dataframe\">\n",
       "  <thead>\n",
       "    <tr style=\"text-align: right;\">\n",
       "      <th></th>\n",
       "      <th>fixed acidity</th>\n",
       "      <th>volatile acidity</th>\n",
       "      <th>citric acid</th>\n",
       "      <th>residual sugar</th>\n",
       "      <th>chlorides</th>\n",
       "      <th>free sulfur dioxide</th>\n",
       "      <th>total sulfur dioxide</th>\n",
       "      <th>density</th>\n",
       "      <th>pH</th>\n",
       "      <th>sulphates</th>\n",
       "      <th>alcohol</th>\n",
       "      <th>quality</th>\n",
       "    </tr>\n",
       "  </thead>\n",
       "  <tbody>\n",
       "    <tr>\n",
       "      <th>0</th>\n",
       "      <td>7.4</td>\n",
       "      <td>0.70</td>\n",
       "      <td>0.00</td>\n",
       "      <td>1.9</td>\n",
       "      <td>0.076</td>\n",
       "      <td>11.0</td>\n",
       "      <td>34.0</td>\n",
       "      <td>0.9978</td>\n",
       "      <td>3.51</td>\n",
       "      <td>0.56</td>\n",
       "      <td>9.4</td>\n",
       "      <td>bad</td>\n",
       "    </tr>\n",
       "    <tr>\n",
       "      <th>1</th>\n",
       "      <td>7.8</td>\n",
       "      <td>0.88</td>\n",
       "      <td>0.00</td>\n",
       "      <td>2.6</td>\n",
       "      <td>0.098</td>\n",
       "      <td>25.0</td>\n",
       "      <td>67.0</td>\n",
       "      <td>0.9968</td>\n",
       "      <td>3.20</td>\n",
       "      <td>0.68</td>\n",
       "      <td>9.8</td>\n",
       "      <td>bad</td>\n",
       "    </tr>\n",
       "    <tr>\n",
       "      <th>2</th>\n",
       "      <td>7.8</td>\n",
       "      <td>0.76</td>\n",
       "      <td>0.04</td>\n",
       "      <td>2.3</td>\n",
       "      <td>0.092</td>\n",
       "      <td>15.0</td>\n",
       "      <td>54.0</td>\n",
       "      <td>0.9970</td>\n",
       "      <td>3.26</td>\n",
       "      <td>0.65</td>\n",
       "      <td>9.8</td>\n",
       "      <td>bad</td>\n",
       "    </tr>\n",
       "    <tr>\n",
       "      <th>3</th>\n",
       "      <td>11.2</td>\n",
       "      <td>0.28</td>\n",
       "      <td>0.56</td>\n",
       "      <td>1.9</td>\n",
       "      <td>0.075</td>\n",
       "      <td>17.0</td>\n",
       "      <td>60.0</td>\n",
       "      <td>0.9980</td>\n",
       "      <td>3.16</td>\n",
       "      <td>0.58</td>\n",
       "      <td>9.8</td>\n",
       "      <td>good</td>\n",
       "    </tr>\n",
       "    <tr>\n",
       "      <th>4</th>\n",
       "      <td>7.4</td>\n",
       "      <td>0.70</td>\n",
       "      <td>0.00</td>\n",
       "      <td>1.9</td>\n",
       "      <td>0.076</td>\n",
       "      <td>11.0</td>\n",
       "      <td>34.0</td>\n",
       "      <td>0.9978</td>\n",
       "      <td>3.51</td>\n",
       "      <td>0.56</td>\n",
       "      <td>9.4</td>\n",
       "      <td>bad</td>\n",
       "    </tr>\n",
       "  </tbody>\n",
       "</table>\n",
       "</div>"
      ],
      "text/plain": [
       "   fixed acidity  volatile acidity  citric acid  residual sugar  chlorides  \\\n",
       "0            7.4              0.70         0.00             1.9      0.076   \n",
       "1            7.8              0.88         0.00             2.6      0.098   \n",
       "2            7.8              0.76         0.04             2.3      0.092   \n",
       "3           11.2              0.28         0.56             1.9      0.075   \n",
       "4            7.4              0.70         0.00             1.9      0.076   \n",
       "\n",
       "   free sulfur dioxide  total sulfur dioxide  density    pH  sulphates  \\\n",
       "0                 11.0                  34.0   0.9978  3.51       0.56   \n",
       "1                 25.0                  67.0   0.9968  3.20       0.68   \n",
       "2                 15.0                  54.0   0.9970  3.26       0.65   \n",
       "3                 17.0                  60.0   0.9980  3.16       0.58   \n",
       "4                 11.0                  34.0   0.9978  3.51       0.56   \n",
       "\n",
       "   alcohol quality  \n",
       "0      9.4     bad  \n",
       "1      9.8     bad  \n",
       "2      9.8     bad  \n",
       "3      9.8    good  \n",
       "4      9.4     bad  "
      ]
     },
     "execution_count": 3,
     "metadata": {},
     "output_type": "execute_result"
    }
   ],
   "source": [
    "import pandas as pd\n",
    "import numpy as np\n",
    "\n",
    "data = pd.read_csv(\"wine.csv\")\n",
    "\n",
    "# Explore dimensions\n",
    "print(\"Dataset dimensions:\", data.shape)\n",
    "data.head()"
   ]
  },
  {
   "cell_type": "code",
   "execution_count": null,
   "id": "4bbe2274-5d76-487d-8c11-2b5b0aa5d6ab",
   "metadata": {},
   "outputs": [],
   "source": []
  },
  {
   "cell_type": "markdown",
   "id": "3eda26c8-0f8f-4d2a-a256-f0dc2408491e",
   "metadata": {},
   "source": [
    "### Q3. Check for null values, identify categorical variables, and encode them."
   ]
  },
  {
   "cell_type": "code",
   "execution_count": 4,
   "id": "1aef33cf-6f4c-4428-80f9-d5b60d6268f6",
   "metadata": {},
   "outputs": [
    {
     "data": {
      "text/plain": [
       "fixed acidity           0\n",
       "volatile acidity        0\n",
       "citric acid             0\n",
       "residual sugar          0\n",
       "chlorides               0\n",
       "free sulfur dioxide     0\n",
       "total sulfur dioxide    0\n",
       "density                 0\n",
       "pH                      0\n",
       "sulphates               0\n",
       "alcohol                 0\n",
       "quality                 0\n",
       "dtype: int64"
      ]
     },
     "execution_count": 4,
     "metadata": {},
     "output_type": "execute_result"
    }
   ],
   "source": [
    "data.isnull().sum()"
   ]
  },
  {
   "cell_type": "code",
   "execution_count": 5,
   "id": "59425a2b-7c40-440f-9b05-97b8421da55f",
   "metadata": {},
   "outputs": [
    {
     "data": {
      "text/plain": [
       "array(['bad', 'good'], dtype=object)"
      ]
     },
     "execution_count": 5,
     "metadata": {},
     "output_type": "execute_result"
    }
   ],
   "source": [
    "data[\"quality\"].unique()"
   ]
  },
  {
   "cell_type": "code",
   "execution_count": 6,
   "id": "7454a2a8-ae23-447d-a0d9-8e7022519e1d",
   "metadata": {},
   "outputs": [],
   "source": [
    "## Encoding\n",
    "data['quality']=np.where(data['quality'].str.contains(\"bad\"),0,1)"
   ]
  },
  {
   "cell_type": "code",
   "execution_count": 7,
   "id": "41b125f7-64d4-4830-964d-e3c87164bd1c",
   "metadata": {},
   "outputs": [
    {
     "data": {
      "text/plain": [
       "1    855\n",
       "0    744\n",
       "Name: quality, dtype: int64"
      ]
     },
     "execution_count": 7,
     "metadata": {},
     "output_type": "execute_result"
    }
   ],
   "source": [
    "data['quality'].value_counts()"
   ]
  },
  {
   "cell_type": "code",
   "execution_count": null,
   "id": "50f4f0fd-6b58-4767-9e6f-c29329146e49",
   "metadata": {},
   "outputs": [],
   "source": []
  },
  {
   "cell_type": "markdown",
   "id": "b3d675b6-5f9d-4782-9900-86c6d4600731",
   "metadata": {},
   "source": [
    "### Q4. Separate the features and target variables from the dataframe."
   ]
  },
  {
   "cell_type": "code",
   "execution_count": 8,
   "id": "ef73a7ee-2f0a-4ad0-a2b4-ec15268a96bd",
   "metadata": {},
   "outputs": [],
   "source": [
    "# Independent and dependent Variables\n",
    "X=data.drop('quality',axis=1)\n",
    "y=data['quality']"
   ]
  },
  {
   "cell_type": "code",
   "execution_count": null,
   "id": "97897935-7069-416d-b481-dce18beff703",
   "metadata": {},
   "outputs": [],
   "source": []
  },
  {
   "cell_type": "markdown",
   "id": "dea0e28b-17b2-43cb-b4d4-977e12719a55",
   "metadata": {},
   "source": [
    "### Q5. Perform a train-test split and divide the data into training, validation, and test datasets."
   ]
  },
  {
   "cell_type": "code",
   "execution_count": 9,
   "id": "d68c0b53-4aad-4c25-a64f-42395b9c76c5",
   "metadata": {},
   "outputs": [],
   "source": [
    "from sklearn.model_selection import train_test_split\n",
    "\n",
    "# Split the data into training and test sets\n",
    "X_train, X_test, y_train, y_test = train_test_split(X, y, test_size=0.2, random_state=42)\n",
    "\n",
    "# Further split the training set into training and validation sets\n",
    "X_train, X_val, y_train, y_val = train_test_split(X_train, y_train, test_size=0.2, random_state=42)\n"
   ]
  },
  {
   "cell_type": "code",
   "execution_count": null,
   "id": "b2dcbed2-afc7-4f88-acdc-6aa1570eafef",
   "metadata": {},
   "outputs": [],
   "source": []
  },
  {
   "cell_type": "markdown",
   "id": "8ea4fca3-b5c4-40ce-a2a1-8a152f631f9c",
   "metadata": {},
   "source": [
    "### Q6. Perform scaling on the dataset."
   ]
  },
  {
   "cell_type": "code",
   "execution_count": 10,
   "id": "f1f4315c-b4e9-4933-8c62-8f5c7980eaa2",
   "metadata": {},
   "outputs": [],
   "source": [
    "from sklearn.preprocessing import StandardScaler\n",
    "\n",
    "# Initialize the scaler\n",
    "scaler = StandardScaler()\n",
    "\n",
    "# Fit the scaler on the training data and transform the training, validation, and test data\n",
    "X_train_scaled = scaler.fit_transform(X_train)\n",
    "X_val_scaled = scaler.transform(X_val)\n",
    "X_test_scaled = scaler.transform(X_test)\n"
   ]
  },
  {
   "cell_type": "code",
   "execution_count": null,
   "id": "b68ca35f-19b2-4abf-800d-16881f37d824",
   "metadata": {},
   "outputs": [],
   "source": []
  },
  {
   "cell_type": "markdown",
   "id": "f8041432-d2e6-4d6c-87c1-64df9891931c",
   "metadata": {},
   "source": [
    "### Q7. Create at least 2 hidden layers and an output layer for the binary categorical variables.\n",
    "### Q8. Create a Sequential model and add all the layers to it."
   ]
  },
  {
   "cell_type": "code",
   "execution_count": 11,
   "id": "7d1023d5-4aca-4d75-98ab-9702797b5ba5",
   "metadata": {},
   "outputs": [
    {
     "name": "stderr",
     "output_type": "stream",
     "text": [
      "/opt/conda/lib/python3.10/site-packages/keras/src/layers/core/dense.py:87: UserWarning: Do not pass an `input_shape`/`input_dim` argument to a layer. When using Sequential models, prefer using an `Input(shape)` object as the first layer in the model instead.\n",
      "  super().__init__(activity_regularizer=activity_regularizer, **kwargs)\n"
     ]
    }
   ],
   "source": [
    "from tensorflow.keras.models import Sequential\n",
    "from tensorflow.keras.layers import Dense\n",
    "\n",
    "# Create the model\n",
    "model = Sequential()\n",
    "\n",
    "# Add layers\n",
    "model.add(Dense(64, activation='relu', input_shape=(X_train_scaled.shape[1],)))\n",
    "model.add(Dense(32, activation='relu'))\n",
    "model.add(Dense(1, activation='sigmoid'))\n"
   ]
  },
  {
   "cell_type": "code",
   "execution_count": null,
   "id": "ecb4961e-ea21-4ba6-99cd-daa84f569f0d",
   "metadata": {},
   "outputs": [],
   "source": []
  },
  {
   "cell_type": "markdown",
   "id": "db422ddc-fb4a-4a46-bcbf-7cfaa59f321f",
   "metadata": {},
   "source": [
    "### Q9. Implement a TensorBoard callback to visualize and monitor the model's training process."
   ]
  },
  {
   "cell_type": "code",
   "execution_count": 12,
   "id": "e094625b-243f-4f68-8257-dc55620ef8f0",
   "metadata": {},
   "outputs": [],
   "source": [
    "import datetime\n",
    "from tensorflow.keras.callbacks import TensorBoard\n",
    "\n",
    "# Create a TensorBoard callback\n",
    "log_dir = \"logs/fit/\" + datetime.datetime.now().strftime(\"%Y%m%d-%H%M%S\")\n",
    "tensorboard_callback = TensorBoard(log_dir=log_dir, histogram_freq=1)\n"
   ]
  },
  {
   "cell_type": "code",
   "execution_count": null,
   "id": "ba21e8a9-901f-4b44-a1b1-9ef161b53f30",
   "metadata": {},
   "outputs": [],
   "source": []
  },
  {
   "cell_type": "markdown",
   "id": "ea141c79-8076-433b-89a2-ea60850c3900",
   "metadata": {},
   "source": [
    "### Q10. Use Early Stopping to prevent overfitting by monitoring a chosen metric and stopping the training if no improvement is observed."
   ]
  },
  {
   "cell_type": "code",
   "execution_count": 13,
   "id": "b8176895-b8c0-46ed-be7a-2046674b729b",
   "metadata": {},
   "outputs": [],
   "source": [
    "from tensorflow.keras.callbacks import EarlyStopping\n",
    "\n",
    "# Create an EarlyStopping callback\n",
    "early_stopping_callback = EarlyStopping(monitor='val_loss', patience=10, restore_best_weights=True)\n"
   ]
  },
  {
   "cell_type": "code",
   "execution_count": null,
   "id": "cbdd44dc-ae61-4397-825e-afab62a75ba8",
   "metadata": {},
   "outputs": [],
   "source": []
  },
  {
   "cell_type": "markdown",
   "id": "999bd147-bbf2-4806-864a-d4b016d54ffd",
   "metadata": {},
   "source": [
    "### Q11. Implement a ModelCheckpoint callback to save the best model based on a chosen metric during training."
   ]
  },
  {
   "cell_type": "code",
   "execution_count": 15,
   "id": "8859a310-7dc1-425e-bc69-f69fb1e864f4",
   "metadata": {},
   "outputs": [],
   "source": [
    "from tensorflow.keras.callbacks import ModelCheckpoint\n",
    "\n",
    "# Create a ModelCheckpoint callback\n",
    "checkpoint_callback = ModelCheckpoint('best_model.keras', monitor='val_loss', save_best_only=True)\n",
    "\n"
   ]
  },
  {
   "cell_type": "code",
   "execution_count": null,
   "id": "28ce14e8-a161-4af7-a4cd-0a3a86b4d9d3",
   "metadata": {},
   "outputs": [],
   "source": []
  },
  {
   "cell_type": "markdown",
   "id": "f37aee7c-f997-48ce-94f5-ee3ddcd8ade3",
   "metadata": {},
   "source": [
    "### Q12. Print the model summary."
   ]
  },
  {
   "cell_type": "code",
   "execution_count": 16,
   "id": "30ee5045-02fc-406f-a2f6-a75f8b117219",
   "metadata": {},
   "outputs": [
    {
     "data": {
      "text/html": [
       "<pre style=\"white-space:pre;overflow-x:auto;line-height:normal;font-family:Menlo,'DejaVu Sans Mono',consolas,'Courier New',monospace\"><span style=\"font-weight: bold\">Model: \"sequential\"</span>\n",
       "</pre>\n"
      ],
      "text/plain": [
       "\u001b[1mModel: \"sequential\"\u001b[0m\n"
      ]
     },
     "metadata": {},
     "output_type": "display_data"
    },
    {
     "data": {
      "text/html": [
       "<pre style=\"white-space:pre;overflow-x:auto;line-height:normal;font-family:Menlo,'DejaVu Sans Mono',consolas,'Courier New',monospace\">┏━━━━━━━━━━━━━━━━━━━━━━━━━━━━━━━━━┳━━━━━━━━━━━━━━━━━━━━━━━━┳━━━━━━━━━━━━━━━┓\n",
       "┃<span style=\"font-weight: bold\"> Layer (type)                    </span>┃<span style=\"font-weight: bold\"> Output Shape           </span>┃<span style=\"font-weight: bold\">       Param # </span>┃\n",
       "┡━━━━━━━━━━━━━━━━━━━━━━━━━━━━━━━━━╇━━━━━━━━━━━━━━━━━━━━━━━━╇━━━━━━━━━━━━━━━┩\n",
       "│ dense (<span style=\"color: #0087ff; text-decoration-color: #0087ff\">Dense</span>)                   │ (<span style=\"color: #00d7ff; text-decoration-color: #00d7ff\">None</span>, <span style=\"color: #00af00; text-decoration-color: #00af00\">64</span>)             │           <span style=\"color: #00af00; text-decoration-color: #00af00\">768</span> │\n",
       "├─────────────────────────────────┼────────────────────────┼───────────────┤\n",
       "│ dense_1 (<span style=\"color: #0087ff; text-decoration-color: #0087ff\">Dense</span>)                 │ (<span style=\"color: #00d7ff; text-decoration-color: #00d7ff\">None</span>, <span style=\"color: #00af00; text-decoration-color: #00af00\">32</span>)             │         <span style=\"color: #00af00; text-decoration-color: #00af00\">2,080</span> │\n",
       "├─────────────────────────────────┼────────────────────────┼───────────────┤\n",
       "│ dense_2 (<span style=\"color: #0087ff; text-decoration-color: #0087ff\">Dense</span>)                 │ (<span style=\"color: #00d7ff; text-decoration-color: #00d7ff\">None</span>, <span style=\"color: #00af00; text-decoration-color: #00af00\">1</span>)              │            <span style=\"color: #00af00; text-decoration-color: #00af00\">33</span> │\n",
       "└─────────────────────────────────┴────────────────────────┴───────────────┘\n",
       "</pre>\n"
      ],
      "text/plain": [
       "┏━━━━━━━━━━━━━━━━━━━━━━━━━━━━━━━━━┳━━━━━━━━━━━━━━━━━━━━━━━━┳━━━━━━━━━━━━━━━┓\n",
       "┃\u001b[1m \u001b[0m\u001b[1mLayer (type)                   \u001b[0m\u001b[1m \u001b[0m┃\u001b[1m \u001b[0m\u001b[1mOutput Shape          \u001b[0m\u001b[1m \u001b[0m┃\u001b[1m \u001b[0m\u001b[1m      Param #\u001b[0m\u001b[1m \u001b[0m┃\n",
       "┡━━━━━━━━━━━━━━━━━━━━━━━━━━━━━━━━━╇━━━━━━━━━━━━━━━━━━━━━━━━╇━━━━━━━━━━━━━━━┩\n",
       "│ dense (\u001b[38;5;33mDense\u001b[0m)                   │ (\u001b[38;5;45mNone\u001b[0m, \u001b[38;5;34m64\u001b[0m)             │           \u001b[38;5;34m768\u001b[0m │\n",
       "├─────────────────────────────────┼────────────────────────┼───────────────┤\n",
       "│ dense_1 (\u001b[38;5;33mDense\u001b[0m)                 │ (\u001b[38;5;45mNone\u001b[0m, \u001b[38;5;34m32\u001b[0m)             │         \u001b[38;5;34m2,080\u001b[0m │\n",
       "├─────────────────────────────────┼────────────────────────┼───────────────┤\n",
       "│ dense_2 (\u001b[38;5;33mDense\u001b[0m)                 │ (\u001b[38;5;45mNone\u001b[0m, \u001b[38;5;34m1\u001b[0m)              │            \u001b[38;5;34m33\u001b[0m │\n",
       "└─────────────────────────────────┴────────────────────────┴───────────────┘\n"
      ]
     },
     "metadata": {},
     "output_type": "display_data"
    },
    {
     "data": {
      "text/html": [
       "<pre style=\"white-space:pre;overflow-x:auto;line-height:normal;font-family:Menlo,'DejaVu Sans Mono',consolas,'Courier New',monospace\"><span style=\"font-weight: bold\"> Total params: </span><span style=\"color: #00af00; text-decoration-color: #00af00\">2,881</span> (11.25 KB)\n",
       "</pre>\n"
      ],
      "text/plain": [
       "\u001b[1m Total params: \u001b[0m\u001b[38;5;34m2,881\u001b[0m (11.25 KB)\n"
      ]
     },
     "metadata": {},
     "output_type": "display_data"
    },
    {
     "data": {
      "text/html": [
       "<pre style=\"white-space:pre;overflow-x:auto;line-height:normal;font-family:Menlo,'DejaVu Sans Mono',consolas,'Courier New',monospace\"><span style=\"font-weight: bold\"> Trainable params: </span><span style=\"color: #00af00; text-decoration-color: #00af00\">2,881</span> (11.25 KB)\n",
       "</pre>\n"
      ],
      "text/plain": [
       "\u001b[1m Trainable params: \u001b[0m\u001b[38;5;34m2,881\u001b[0m (11.25 KB)\n"
      ]
     },
     "metadata": {},
     "output_type": "display_data"
    },
    {
     "data": {
      "text/html": [
       "<pre style=\"white-space:pre;overflow-x:auto;line-height:normal;font-family:Menlo,'DejaVu Sans Mono',consolas,'Courier New',monospace\"><span style=\"font-weight: bold\"> Non-trainable params: </span><span style=\"color: #00af00; text-decoration-color: #00af00\">0</span> (0.00 B)\n",
       "</pre>\n"
      ],
      "text/plain": [
       "\u001b[1m Non-trainable params: \u001b[0m\u001b[38;5;34m0\u001b[0m (0.00 B)\n"
      ]
     },
     "metadata": {},
     "output_type": "display_data"
    }
   ],
   "source": [
    "# Print the model summary\n",
    "model.summary()\n"
   ]
  },
  {
   "cell_type": "code",
   "execution_count": null,
   "id": "96399590-e367-4219-99ae-3d474f536f9c",
   "metadata": {},
   "outputs": [],
   "source": []
  },
  {
   "cell_type": "markdown",
   "id": "2a7b7219-ac0f-4ba4-8079-6ba6cf2af39a",
   "metadata": {},
   "source": [
    "### Q13. Use binary cross-entropy as the loss function, Adam optimizer, and include the metric ['accuracy'].\n",
    "### Q14. Compile the model with the specified loss function, optimizer, and metrics."
   ]
  },
  {
   "cell_type": "code",
   "execution_count": 17,
   "id": "daf93cf7-e935-4673-bc5e-66705f1d180b",
   "metadata": {},
   "outputs": [],
   "source": [
    "# Compile the model\n",
    "model.compile(loss='binary_crossentropy',\n",
    "              optimizer='adam',\n",
    "              metrics=['accuracy'])\n"
   ]
  },
  {
   "cell_type": "code",
   "execution_count": null,
   "id": "93112a3d-9cf2-4769-99f6-a704c3e2ff7c",
   "metadata": {},
   "outputs": [],
   "source": []
  },
  {
   "cell_type": "markdown",
   "id": "d0677314-f8b4-4788-9b60-b4791dea16ee",
   "metadata": {},
   "source": [
    "### Q15. Fit the model to the data, incorporating the TensorBoard, Early Stopping, and ModelCheckpoint callbacks."
   ]
  },
  {
   "cell_type": "code",
   "execution_count": 18,
   "id": "3c5208ba-f62c-4357-8978-f9f9b830083a",
   "metadata": {},
   "outputs": [
    {
     "name": "stdout",
     "output_type": "stream",
     "text": [
      "Epoch 1/100\n",
      "\u001b[1m32/32\u001b[0m \u001b[32m━━━━━━━━━━━━━━━━━━━━\u001b[0m\u001b[37m\u001b[0m \u001b[1m2s\u001b[0m 14ms/step - accuracy: 0.5914 - loss: 0.6649 - val_accuracy: 0.7227 - val_loss: 0.6200\n",
      "Epoch 2/100\n",
      "\u001b[1m32/32\u001b[0m \u001b[32m━━━━━━━━━━━━━━━━━━━━\u001b[0m\u001b[37m\u001b[0m \u001b[1m0s\u001b[0m 6ms/step - accuracy: 0.7307 - loss: 0.5716 - val_accuracy: 0.7266 - val_loss: 0.5753\n",
      "Epoch 3/100\n",
      "\u001b[1m32/32\u001b[0m \u001b[32m━━━━━━━━━━━━━━━━━━━━\u001b[0m\u001b[37m\u001b[0m \u001b[1m0s\u001b[0m 7ms/step - accuracy: 0.7468 - loss: 0.5272 - val_accuracy: 0.7422 - val_loss: 0.5634\n",
      "Epoch 4/100\n",
      "\u001b[1m32/32\u001b[0m \u001b[32m━━━━━━━━━━━━━━━━━━━━\u001b[0m\u001b[37m\u001b[0m \u001b[1m0s\u001b[0m 6ms/step - accuracy: 0.7454 - loss: 0.5257 - val_accuracy: 0.7500 - val_loss: 0.5542\n",
      "Epoch 5/100\n",
      "\u001b[1m32/32\u001b[0m \u001b[32m━━━━━━━━━━━━━━━━━━━━\u001b[0m\u001b[37m\u001b[0m \u001b[1m0s\u001b[0m 6ms/step - accuracy: 0.7422 - loss: 0.5179 - val_accuracy: 0.7578 - val_loss: 0.5489\n",
      "Epoch 6/100\n",
      "\u001b[1m32/32\u001b[0m \u001b[32m━━━━━━━━━━━━━━━━━━━━\u001b[0m\u001b[37m\u001b[0m \u001b[1m0s\u001b[0m 6ms/step - accuracy: 0.7640 - loss: 0.4852 - val_accuracy: 0.7617 - val_loss: 0.5412\n",
      "Epoch 7/100\n",
      "\u001b[1m32/32\u001b[0m \u001b[32m━━━━━━━━━━━━━━━━━━━━\u001b[0m\u001b[37m\u001b[0m \u001b[1m0s\u001b[0m 5ms/step - accuracy: 0.7614 - loss: 0.4832 - val_accuracy: 0.7695 - val_loss: 0.5433\n",
      "Epoch 8/100\n",
      "\u001b[1m32/32\u001b[0m \u001b[32m━━━━━━━━━━━━━━━━━━━━\u001b[0m\u001b[37m\u001b[0m \u001b[1m0s\u001b[0m 5ms/step - accuracy: 0.7607 - loss: 0.4693 - val_accuracy: 0.7734 - val_loss: 0.5478\n",
      "Epoch 9/100\n",
      "\u001b[1m32/32\u001b[0m \u001b[32m━━━━━━━━━━━━━━━━━━━━\u001b[0m\u001b[37m\u001b[0m \u001b[1m0s\u001b[0m 6ms/step - accuracy: 0.7859 - loss: 0.4556 - val_accuracy: 0.7656 - val_loss: 0.5455\n",
      "Epoch 10/100\n",
      "\u001b[1m32/32\u001b[0m \u001b[32m━━━━━━━━━━━━━━━━━━━━\u001b[0m\u001b[37m\u001b[0m \u001b[1m0s\u001b[0m 6ms/step - accuracy: 0.7525 - loss: 0.4850 - val_accuracy: 0.7773 - val_loss: 0.5406\n",
      "Epoch 11/100\n",
      "\u001b[1m32/32\u001b[0m \u001b[32m━━━━━━━━━━━━━━━━━━━━\u001b[0m\u001b[37m\u001b[0m \u001b[1m0s\u001b[0m 5ms/step - accuracy: 0.7576 - loss: 0.4612 - val_accuracy: 0.7656 - val_loss: 0.5547\n",
      "Epoch 12/100\n",
      "\u001b[1m32/32\u001b[0m \u001b[32m━━━━━━━━━━━━━━━━━━━━\u001b[0m\u001b[37m\u001b[0m \u001b[1m0s\u001b[0m 5ms/step - accuracy: 0.7813 - loss: 0.4438 - val_accuracy: 0.7695 - val_loss: 0.5387\n",
      "Epoch 13/100\n",
      "\u001b[1m32/32\u001b[0m \u001b[32m━━━━━━━━━━━━━━━━━━━━\u001b[0m\u001b[37m\u001b[0m \u001b[1m0s\u001b[0m 6ms/step - accuracy: 0.7664 - loss: 0.4719 - val_accuracy: 0.7617 - val_loss: 0.5495\n",
      "Epoch 14/100\n",
      "\u001b[1m32/32\u001b[0m \u001b[32m━━━━━━━━━━━━━━━━━━━━\u001b[0m\u001b[37m\u001b[0m \u001b[1m0s\u001b[0m 5ms/step - accuracy: 0.7951 - loss: 0.4448 - val_accuracy: 0.7695 - val_loss: 0.5487\n",
      "Epoch 15/100\n",
      "\u001b[1m32/32\u001b[0m \u001b[32m━━━━━━━━━━━━━━━━━━━━\u001b[0m\u001b[37m\u001b[0m \u001b[1m0s\u001b[0m 6ms/step - accuracy: 0.7793 - loss: 0.4644 - val_accuracy: 0.7773 - val_loss: 0.5435\n",
      "Epoch 16/100\n",
      "\u001b[1m32/32\u001b[0m \u001b[32m━━━━━━━━━━━━━━━━━━━━\u001b[0m\u001b[37m\u001b[0m \u001b[1m0s\u001b[0m 5ms/step - accuracy: 0.7879 - loss: 0.4565 - val_accuracy: 0.7617 - val_loss: 0.5575\n",
      "Epoch 17/100\n",
      "\u001b[1m32/32\u001b[0m \u001b[32m━━━━━━━━━━━━━━━━━━━━\u001b[0m\u001b[37m\u001b[0m \u001b[1m0s\u001b[0m 6ms/step - accuracy: 0.7853 - loss: 0.4228 - val_accuracy: 0.7773 - val_loss: 0.5472\n",
      "Epoch 18/100\n",
      "\u001b[1m32/32\u001b[0m \u001b[32m━━━━━━━━━━━━━━━━━━━━\u001b[0m\u001b[37m\u001b[0m \u001b[1m0s\u001b[0m 5ms/step - accuracy: 0.7939 - loss: 0.4378 - val_accuracy: 0.7656 - val_loss: 0.5607\n",
      "Epoch 19/100\n",
      "\u001b[1m32/32\u001b[0m \u001b[32m━━━━━━━━━━━━━━━━━━━━\u001b[0m\u001b[37m\u001b[0m \u001b[1m0s\u001b[0m 5ms/step - accuracy: 0.8043 - loss: 0.4227 - val_accuracy: 0.7695 - val_loss: 0.5526\n",
      "Epoch 20/100\n",
      "\u001b[1m32/32\u001b[0m \u001b[32m━━━━━━━━━━━━━━━━━━━━\u001b[0m\u001b[37m\u001b[0m \u001b[1m0s\u001b[0m 5ms/step - accuracy: 0.7927 - loss: 0.4341 - val_accuracy: 0.7695 - val_loss: 0.5566\n",
      "Epoch 21/100\n",
      "\u001b[1m32/32\u001b[0m \u001b[32m━━━━━━━━━━━━━━━━━━━━\u001b[0m\u001b[37m\u001b[0m \u001b[1m0s\u001b[0m 5ms/step - accuracy: 0.8099 - loss: 0.4311 - val_accuracy: 0.7734 - val_loss: 0.5625\n",
      "Epoch 22/100\n",
      "\u001b[1m32/32\u001b[0m \u001b[32m━━━━━━━━━━━━━━━━━━━━\u001b[0m\u001b[37m\u001b[0m \u001b[1m0s\u001b[0m 5ms/step - accuracy: 0.8036 - loss: 0.4203 - val_accuracy: 0.7773 - val_loss: 0.5562\n"
     ]
    }
   ],
   "source": [
    "# Fit the model\n",
    "history = model.fit(X_train_scaled, y_train,\n",
    "                    epochs=100,\n",
    "                    batch_size=32,\n",
    "                    validation_data=(X_val_scaled, y_val),\n",
    "                    callbacks=[tensorboard_callback, early_stopping_callback, checkpoint_callback])\n"
   ]
  },
  {
   "cell_type": "code",
   "execution_count": null,
   "id": "2ca78a9b-7315-4d96-885b-114b0020f28a",
   "metadata": {},
   "outputs": [],
   "source": []
  },
  {
   "cell_type": "markdown",
   "id": "c687c4cf-b14e-4fb3-81e5-05708d08f556",
   "metadata": {},
   "source": [
    "### Q16. Get the model's parameters."
   ]
  },
  {
   "cell_type": "code",
   "execution_count": 19,
   "id": "a0fcd9aa-0ae6-41fe-b268-e3fc347ad10d",
   "metadata": {},
   "outputs": [
    {
     "name": "stdout",
     "output_type": "stream",
     "text": [
      "Weights: [[-1.08542722e-02  2.00083464e-01  1.40128717e-01  1.51091572e-02\n",
      "   1.74069926e-01 -1.83070973e-01 -9.10982341e-02 -7.67292231e-02\n",
      "   2.87333056e-02  4.94597740e-02  7.83387274e-02 -2.32052878e-01\n",
      "  -1.85939550e-01  1.46878317e-01  2.27478996e-01  2.42547989e-01\n",
      "  -1.12195067e-01 -2.67364889e-01  3.67794768e-03  2.36105949e-01\n",
      "   3.82210985e-02  2.54036546e-01  6.50781989e-02 -2.51692981e-01\n",
      "   1.91109836e-01 -6.90904036e-02 -1.33553401e-01 -3.23432274e-02\n",
      "   2.25705896e-02 -1.65286243e-01 -1.22697361e-01  2.86171168e-01\n",
      "  -1.81474075e-01  2.98879474e-01  1.08082972e-01 -2.03406826e-01\n",
      "  -1.21962354e-01 -6.20299652e-02 -1.76199570e-01  1.94193169e-01\n",
      "  -1.39990941e-01  2.82272190e-01 -9.33095887e-02  1.89125925e-01\n",
      "   3.09491038e-01 -8.41681585e-02 -2.06603438e-01  1.81249790e-02\n",
      "  -9.32539478e-02 -2.49484047e-01  9.07783657e-02  6.71671778e-02\n",
      "   2.86297560e-01 -2.81245112e-01  6.97409064e-02  1.82193041e-01\n",
      "   2.40171999e-01  6.58226758e-02 -2.90688038e-01 -1.10262208e-01\n",
      "  -1.06478475e-01 -1.82589423e-03  1.30530134e-01  2.01678544e-01]\n",
      " [ 2.24067688e-01 -2.12766021e-01  2.81411167e-02 -2.54772216e-01\n",
      "  -1.04050331e-01  1.99416071e-01 -1.23836309e-01 -5.33331260e-02\n",
      "   1.42063960e-01  3.09962213e-01 -3.07502091e-01 -1.82699785e-01\n",
      "   1.71318561e-01  1.52659342e-01 -1.96862087e-01  1.56416401e-01\n",
      "  -2.33406320e-01  5.53134046e-02  3.63553502e-02  6.31891713e-02\n",
      "   2.12654024e-01  3.77744064e-02 -7.02547804e-02 -1.17081158e-01\n",
      "  -1.75567716e-01 -1.86820716e-01 -1.11064017e-01 -2.64541209e-01\n",
      "  -1.03611853e-02 -1.55852616e-01  1.88188046e-01  1.01845926e-02\n",
      "  -2.11864933e-01  3.03850099e-02 -7.30596557e-02 -1.21438839e-01\n",
      "  -2.25363374e-01 -4.24504206e-02 -2.56684482e-01 -2.59874582e-01\n",
      "  -1.99682638e-01 -1.21244848e-01  9.46782380e-02  2.17853472e-01\n",
      "   2.97626674e-01  2.37332210e-02  1.91548124e-01  2.24491045e-01\n",
      "   8.42410475e-02  1.29627377e-01  2.42332041e-01  2.06184715e-01\n",
      "   1.07123308e-01  1.56062216e-01 -6.91099325e-03  1.63652033e-01\n",
      "   1.84968054e-01  2.31674224e-01  2.33732350e-02 -8.00334513e-02\n",
      "  -2.91812271e-01 -2.04044282e-01 -1.03585139e-01  8.33234712e-02]\n",
      " [-4.54691201e-02 -2.36282036e-01 -2.20315441e-01 -3.01504761e-01\n",
      "   7.07265064e-02  1.27128839e-01 -2.49126609e-02  1.72848642e-01\n",
      "   2.27625951e-01  9.03885588e-02  8.20078794e-03  2.30765864e-01\n",
      "  -9.50792804e-02  1.17155656e-01 -2.65880078e-01  4.66528274e-02\n",
      "  -2.10983545e-01  5.93472980e-02  1.36499526e-02  7.03256130e-02\n",
      "  -1.97687164e-01  2.03998774e-01  3.05881649e-01 -2.76628762e-01\n",
      "  -2.07104206e-01  1.43811807e-01 -2.13389069e-01 -9.89846140e-03\n",
      "  -2.80516073e-02  2.37139449e-01 -2.66108006e-01  1.55322194e-01\n",
      "   1.65977895e-01  2.67169569e-02  2.17285678e-01  8.32332112e-03\n",
      "  -2.63226569e-01  7.27909952e-02  7.11856931e-02  9.88893434e-02\n",
      "   3.86704355e-02  6.35148864e-03  3.14403206e-01  1.83622181e-01\n",
      "  -2.38804407e-02 -9.00929496e-02  5.24776243e-02 -2.31056854e-01\n",
      "  -3.78788337e-02  8.08928534e-02  6.59533739e-02  1.92983881e-01\n",
      "  -2.49203920e-01 -3.97947952e-02 -2.05562070e-01 -9.58057195e-02\n",
      "   1.83219060e-01 -1.68531701e-01 -1.91991329e-01  2.16401443e-02\n",
      "   1.34028286e-01 -1.39788523e-01  2.83218771e-01  2.40591615e-01]\n",
      " [ 2.86560118e-01 -4.93818894e-02  7.86468610e-02 -1.11883409e-01\n",
      "   1.93828985e-01  1.67985484e-01  8.06640387e-02 -1.02995597e-01\n",
      "   2.18700677e-01  1.95597708e-02  1.89925969e-01 -2.20493764e-01\n",
      "   1.18059561e-01 -1.99152112e-01  2.81256527e-01 -1.26607344e-01\n",
      "  -1.07919589e-01 -4.30036783e-02  1.22496732e-01 -1.04438193e-01\n",
      "   2.13912874e-01 -2.78651416e-01 -2.76821479e-02  1.88295282e-02\n",
      "   1.69332296e-01 -1.95904687e-01 -1.48461074e-01  2.08170772e-01\n",
      "   1.31679296e-01 -4.37085256e-02 -2.72887856e-01  1.09470531e-01\n",
      "   5.65346368e-02  2.14724883e-01 -6.19918332e-02  5.16166398e-03\n",
      "   9.46785137e-02  1.06080703e-01 -4.68054153e-02 -9.17519554e-02\n",
      "  -8.73976722e-02  1.53829396e-01  1.81037024e-01 -1.84544638e-01\n",
      "   1.18660897e-01  1.29997417e-01  2.04014536e-02 -3.60279754e-02\n",
      "  -1.23818673e-01 -1.84898376e-01 -1.71832442e-01 -3.34576108e-02\n",
      "  -1.79501623e-01  1.63901746e-02 -1.44330367e-01 -9.08991694e-02\n",
      "  -1.63022712e-01 -6.74512461e-02  1.48634985e-01 -1.33526817e-01\n",
      "   1.35346934e-01 -2.40087599e-01 -8.21675509e-02 -5.06598726e-02]\n",
      " [-2.26759189e-03  8.46203566e-02 -3.60977985e-02  1.02045059e-01\n",
      "  -2.50811130e-01 -1.74476519e-01 -4.61749434e-02  2.79051542e-01\n",
      "   2.36395359e-01  2.68785030e-01 -1.38923705e-01  1.88760504e-01\n",
      "  -2.89288163e-01 -1.44033790e-01  1.41330495e-01  6.35958463e-02\n",
      "   9.57206711e-02 -1.22832596e-01  1.26309879e-02 -1.91964909e-01\n",
      "   1.04888387e-01  2.21758485e-01  1.90812618e-01 -4.66022789e-02\n",
      "   2.01176599e-01 -3.22272956e-01  7.29958415e-02 -8.64677429e-02\n",
      "   2.19133541e-01 -1.23483017e-01 -8.96645859e-02  1.05781905e-01\n",
      "   1.37684777e-01  9.44543704e-02 -1.47429004e-01 -2.28156060e-01\n",
      "  -1.92299530e-01 -2.34733582e-01  1.16435416e-01 -7.28853494e-02\n",
      "   2.16254979e-01 -1.94160968e-01  1.81683630e-01  1.64499495e-03\n",
      "   2.37371594e-01 -2.20019579e-01  4.63178866e-02  8.23103264e-02\n",
      "   2.43574396e-01  1.89105496e-01  2.08131388e-01 -1.33026630e-01\n",
      "  -1.21284723e-01 -1.94758505e-01 -1.70047313e-01  2.49418810e-01\n",
      "   2.72876352e-01  2.52866238e-01 -1.27270892e-01 -2.80317128e-01\n",
      "   3.05335522e-01 -1.29493296e-01 -2.25811958e-01  1.07465543e-01]\n",
      " [-4.30693328e-02 -2.06523016e-01 -2.16538295e-01  1.45908371e-01\n",
      "  -4.17674631e-02 -9.05964598e-02 -1.30040735e-01 -3.17027062e-01\n",
      "   1.22784637e-01  2.53396183e-01 -1.16076350e-01  4.68971096e-02\n",
      "   3.76897156e-02  3.43287766e-01  1.22706557e-03 -1.99339986e-02\n",
      "   3.59986633e-01 -9.98868272e-02  1.76497579e-01  2.60046333e-01\n",
      "   1.35592788e-01 -6.49126619e-02 -7.89180249e-02 -1.25076190e-01\n",
      "  -2.07824200e-01 -8.03447217e-02  1.18105054e-01 -1.82532623e-01\n",
      "  -1.82291985e-01  1.41531304e-01  1.29306346e-01  4.97540608e-02\n",
      "  -2.43174762e-01 -2.14210108e-01 -3.11041176e-01 -2.61192709e-01\n",
      "   8.65975320e-02 -2.67936647e-01  1.03756562e-01  7.11984113e-02\n",
      "   1.49285913e-01  4.12622876e-02 -1.95542589e-01 -5.67226820e-02\n",
      "  -1.13842428e-01 -2.68443078e-01  2.24072427e-01 -2.85138071e-01\n",
      "   3.23376060e-01 -1.28840446e-01  8.38834569e-02 -2.79751360e-01\n",
      "  -2.21245550e-02  8.88107531e-03  2.28477687e-01  3.68660018e-02\n",
      "  -1.72898173e-01  2.77403802e-01  4.79339361e-02  5.74299991e-02\n",
      "   1.05949238e-01 -1.75068885e-01  2.06691623e-01 -1.19126156e-01]\n",
      " [ 2.23711357e-01 -8.12517107e-02  7.57223517e-02  5.22236787e-02\n",
      "   2.43912667e-01  1.74130037e-01 -2.01849639e-01 -2.70423472e-01\n",
      "   3.46999109e-01  4.11791913e-02 -1.91663772e-01  3.76806676e-01\n",
      "   2.08681170e-03 -5.58765307e-02 -2.58715361e-01 -2.97127932e-01\n",
      "  -6.44340441e-02 -2.42906183e-01  1.38908150e-02 -2.05339193e-02\n",
      "  -2.63585925e-01 -1.82451487e-01  1.41782343e-01  3.20918351e-01\n",
      "   2.12040339e-02 -2.24251792e-01 -1.00975864e-01  3.35451216e-03\n",
      "   2.55065560e-01 -1.90871358e-02  1.02018239e-02 -1.48424193e-01\n",
      "   3.73082533e-02 -5.28740957e-02 -1.62550598e-01  2.99396198e-02\n",
      "  -2.63461530e-01 -1.88122734e-01 -1.27291605e-01  7.49883652e-02\n",
      "  -2.55376309e-01  1.88470617e-01  2.23730177e-01 -3.80432867e-02\n",
      "   2.38204941e-01 -2.45618552e-01 -7.39052072e-02 -1.10607222e-01\n",
      "  -9.85602513e-02 -4.69641164e-02 -2.80815419e-02  3.21114026e-02\n",
      "  -4.78170216e-02  2.88722962e-01  1.35463759e-01  1.42222987e-02\n",
      "  -1.84930488e-01  2.48057544e-01  8.07371438e-02 -1.97632775e-01\n",
      "   1.66228130e-01  9.97644961e-02  1.71576768e-01  1.09943561e-01]\n",
      " [-1.19951159e-01 -2.57405102e-01 -8.23923126e-02 -1.55885547e-01\n",
      "   2.69911677e-01  2.21395746e-01  5.20122796e-02 -8.72292672e-04\n",
      "  -8.07329416e-02  2.21167475e-01  5.14811799e-02  1.42823532e-01\n",
      "   1.59811080e-01  2.92341802e-02 -2.46206969e-02 -5.90819754e-02\n",
      "  -2.24909857e-01  6.58796579e-02 -2.64643937e-01  3.84133682e-02\n",
      "   1.56818569e-01 -3.17948788e-01  2.98236042e-01  5.99344335e-02\n",
      "   1.83286533e-01  1.62318736e-01  1.04091845e-01 -3.10488194e-01\n",
      "   1.96195126e-01  3.32384020e-01 -1.30131319e-02  1.69268847e-02\n",
      "  -2.13266909e-01  2.37933800e-01 -1.13649115e-01  2.74480850e-01\n",
      "  -6.12224378e-02 -3.86040956e-02 -2.88490385e-01  1.92562208e-01\n",
      "  -2.86998212e-01  2.07533747e-01 -2.62588054e-01  1.11083299e-01\n",
      "  -1.75738126e-01  1.64530262e-01  9.46786404e-02  1.56508788e-01\n",
      "  -2.07693890e-01  4.86694612e-02  1.88052341e-01 -2.12700382e-01\n",
      "   1.51235759e-01  1.85483158e-01 -3.28058720e-01  3.16468269e-01\n",
      "  -8.63271356e-02 -1.23507828e-01 -8.82488266e-02  7.21829608e-02\n",
      "  -2.80284226e-01 -1.68498233e-01  1.84302345e-01  1.49300724e-01]\n",
      " [-2.14917406e-01 -2.45534122e-01 -1.77337244e-01  1.99171379e-01\n",
      "   3.45865376e-02  8.87238756e-02 -1.94973215e-01  1.46753699e-01\n",
      "  -2.68722117e-01  5.29277101e-02 -6.57292157e-02 -1.11837268e-01\n",
      "   1.26980469e-01 -1.40709355e-01  2.74786204e-01  1.79082170e-01\n",
      "   2.41593570e-01  1.79965079e-01 -2.02819750e-01  3.07230026e-01\n",
      "  -1.93944484e-01 -3.02344132e-02 -2.70582408e-01 -3.24726522e-01\n",
      "   2.43364885e-01 -2.80300563e-04 -7.16323480e-02  1.30724013e-01\n",
      "   2.48820084e-04  2.06272870e-01 -1.84635773e-01 -2.24217027e-01\n",
      "   2.88753033e-01  1.54284999e-01  2.41155922e-01 -1.08013257e-01\n",
      "   2.14085907e-01  1.75909445e-01  1.69681415e-01  1.04090661e-01\n",
      "  -2.17084706e-01  1.57456264e-01 -2.34387107e-02 -1.67160317e-01\n",
      "   4.07987610e-02  1.89076453e-01  4.82856389e-03 -7.19284266e-02\n",
      "  -6.75392002e-02  3.35995793e-01  6.57697860e-03 -4.33407687e-02\n",
      "  -2.04343826e-01 -1.77205831e-01  8.93197358e-02 -4.28507626e-02\n",
      "   2.94607580e-01 -2.53607094e-01 -6.69473335e-02  1.72538921e-01\n",
      "   1.11930259e-01  9.36821252e-02 -1.38924614e-01  2.59712815e-01]\n",
      " [-4.43116836e-02 -1.70770567e-02  2.46069118e-01 -7.14919018e-03\n",
      "  -2.22127587e-01  9.62553769e-02  2.13609606e-01 -1.67784452e-01\n",
      "  -1.84187487e-01 -1.08086936e-01  1.44699737e-01  2.09017560e-01\n",
      "  -3.33683014e-01  1.46236971e-01  2.90184557e-01 -2.29666919e-01\n",
      "   2.17711255e-01 -8.24407786e-02 -1.20724104e-02 -3.64030302e-01\n",
      "   1.83097869e-01 -1.43622339e-01  2.55401731e-01  2.46614367e-01\n",
      "  -7.11180270e-02  3.10271472e-01  2.02749982e-01  1.50828078e-01\n",
      "  -1.15499496e-01  1.32454127e-01  1.31791253e-02  1.06636755e-01\n",
      "  -3.54791760e-01 -3.26140642e-01 -2.07336321e-01 -2.23105192e-01\n",
      "   6.97297007e-02 -3.00851882e-01  2.96507597e-01  9.77134611e-03\n",
      "  -6.47121817e-02  1.20780030e-02 -2.29192212e-01  2.56554723e-01\n",
      "  -1.74806975e-02 -2.21307129e-01  8.33417028e-02 -4.47271904e-03\n",
      "   1.92064837e-01 -1.98228449e-01 -1.20086353e-02 -3.77606481e-01\n",
      "  -1.13871306e-01 -1.88975111e-01  1.21108063e-01 -1.77737828e-02\n",
      "   7.39766955e-02 -2.11983025e-01  2.05898285e-01  6.99701533e-02\n",
      "   6.81171715e-02  1.16433084e-01  2.46301323e-01  1.70278579e-01]\n",
      " [-1.29028156e-01  8.55405554e-02 -4.37005088e-02  2.09839821e-01\n",
      "  -7.31535703e-02 -8.87499899e-02  1.60398871e-01  1.69022515e-01\n",
      "  -9.66003314e-02 -5.36692366e-02  1.36846587e-01 -1.43325567e-01\n",
      "  -1.92807272e-01 -1.92268923e-01  1.78820223e-01 -6.95693195e-02\n",
      "  -2.55801708e-01 -2.59152442e-01  4.00979578e-01  1.10111058e-01\n",
      "   8.02912712e-02  1.87558845e-01 -1.83138296e-01 -1.31235346e-01\n",
      "   2.54742593e-01  1.48259118e-01 -2.13256612e-01  2.51624048e-01\n",
      "  -2.80345887e-01  1.29789814e-01 -1.17877893e-01 -1.69088870e-01\n",
      "  -4.69324738e-02  7.09246099e-02 -2.46840984e-01  2.55414695e-01\n",
      "   1.44902259e-01  5.24385497e-02  2.06196040e-01 -1.76529959e-01\n",
      "  -8.94909501e-02  9.71936733e-02 -2.29650512e-01  2.69816101e-01\n",
      "  -2.05005467e-01 -1.36234805e-01  4.20411855e-01 -1.06283218e-01\n",
      "  -3.20353687e-01  1.21867605e-01  3.32125217e-01 -1.70170367e-01\n",
      "   3.22574168e-01 -5.99217974e-02  2.49948055e-01  2.79242713e-02\n",
      "   4.04585004e-02 -1.09320365e-01 -3.04905295e-01  5.08158840e-02\n",
      "   3.03358436e-02  9.43157636e-03  1.00516714e-01  2.57992476e-01]]\n",
      "Biases: [-0.01566262  0.00700757 -0.0062336   0.03123721  0.01005189  0.00929225\n",
      "  0.05206268  0.07993368  0.04499951  0.0083478   0.06035319  0.02210902\n",
      "  0.04165325  0.0299649   0.09124751  0.01037574  0.08420807 -0.00770299\n",
      "  0.02145843  0.02511313  0.03104385 -0.04614158 -0.00593199 -0.08721592\n",
      "  0.04063149  0.05872053 -0.09542827  0.11031569  0.0109625   0.08156553\n",
      "  0.03531023 -0.0390531  -0.01885093 -0.0212011  -0.01834191 -0.02170046\n",
      "  0.08861036 -0.04918792  0.11548578  0.06010516  0.0428044  -0.02431859\n",
      " -0.00620558  0.04444265  0.01361016 -0.05236766  0.0478908  -0.00558952\n",
      " -0.06727028  0.01688052 -0.00190884  0.04183385  0.05187667  0.02457608\n",
      "  0.05568662 -0.00333182  0.00215613 -0.04029497 -0.01414111  0.10467482\n",
      " -0.03725037  0.03502215  0.0187567  -0.01899596]\n"
     ]
    }
   ],
   "source": [
    "# Get the model's weights and biases\n",
    "weights, biases = model.layers[0].get_weights()\n",
    "print(\"Weights:\", weights)\n",
    "print(\"Biases:\", biases)\n"
   ]
  },
  {
   "cell_type": "code",
   "execution_count": null,
   "id": "70a25039-bafe-4794-8da5-71a6c5aa87da",
   "metadata": {},
   "outputs": [],
   "source": []
  },
  {
   "cell_type": "markdown",
   "id": "0852cc59-c8f4-447e-bb49-da5a8dc03b9b",
   "metadata": {},
   "source": [
    "### Q17. Store the model's training history as a Pandas DataFrame."
   ]
  },
  {
   "cell_type": "code",
   "execution_count": 20,
   "id": "05c9bb9a-7a22-4717-bb1d-a15bfa060e4d",
   "metadata": {},
   "outputs": [],
   "source": [
    "# Convert the training history to a DataFrame\n",
    "history_df = pd.DataFrame(history.history)\n"
   ]
  },
  {
   "cell_type": "code",
   "execution_count": null,
   "id": "ff1dfc82-08f1-4ec5-9fe8-9065fbeb4691",
   "metadata": {},
   "outputs": [],
   "source": []
  },
  {
   "cell_type": "markdown",
   "id": "68327f95-881e-4b1b-b201-edabc5dd9f86",
   "metadata": {},
   "source": [
    "### Q18. Plot the model's training history."
   ]
  },
  {
   "cell_type": "code",
   "execution_count": 21,
   "id": "6eaaff56-b1cd-41a2-8964-22d1a4c3ae4b",
   "metadata": {},
   "outputs": [
    {
     "data": {
      "image/png": "[encoded data removed]",
      "text/plain": [
       "<Figure size 640x480 with 1 Axes>"
      ]
     },
     "metadata": {},
     "output_type": "display_data"
    },
    {
     "data": {
      "image/png": "[encoded data removed]",
      "text/plain": [
       "<Figure size 640x480 with 1 Axes>"
      ]
     },
     "metadata": {},
     "output_type": "display_data"
    }
   ],
   "source": [
    "import matplotlib.pyplot as plt\n",
    "\n",
    "# Plot the training and validation accuracy\n",
    "plt.plot(history_df['accuracy'], label='Training Accuracy')\n",
    "plt.plot(history_df['val_accuracy'], label='Validation Accuracy')\n",
    "plt.xlabel('Epochs')\n",
    "plt.ylabel('Accuracy')\n",
    "plt.legend()\n",
    "plt.show()\n",
    "\n",
    "# Plot the training and validation loss\n",
    "plt.plot(history_df['loss'], label='Training Loss')\n",
    "plt.plot(history_df['val_loss'], label='Validation Loss')\n",
    "plt.xlabel('Epochs')\n",
    "plt.ylabel('Loss')\n",
    "plt.legend()\n",
    "plt.show()\n"
   ]
  },
  {
   "cell_type": "code",
   "execution_count": null,
   "id": "ec4b3736-93e3-4fac-804a-76be46a0fad3",
   "metadata": {},
   "outputs": [],
   "source": []
  },
  {
   "cell_type": "markdown",
   "id": "6b67beaf-19c7-4936-9bd6-562bbe8b2d2f",
   "metadata": {},
   "source": [
    "### Q19. Evaluate the model's performance using the test data."
   ]
  },
  {
   "cell_type": "code",
   "execution_count": 22,
   "id": "0cc9de05-6541-494b-8fb7-c99249f7aa8f",
   "metadata": {},
   "outputs": [
    {
     "name": "stdout",
     "output_type": "stream",
     "text": [
      "\u001b[1m10/10\u001b[0m \u001b[32m━━━━━━━━━━━━━━━━━━━━\u001b[0m\u001b[37m\u001b[0m \u001b[1m0s\u001b[0m 1ms/step - accuracy: 0.7526 - loss: 0.4811 \n",
      "Test Loss: 0.4952\n",
      "Test Accuracy: 74.06%\n"
     ]
    }
   ],
   "source": [
    "# Evaluate the model on the test data\n",
    "test_loss, test_accuracy = model.evaluate(X_test_scaled, y_test)\n",
    "\n",
    "# Print the test loss and accuracy in percentage\n",
    "print(f\"Test Loss: {test_loss:.4f}\")\n",
    "print(f\"Test Accuracy: {test_accuracy * 100:.2f}%\")\n"
   ]
  },
  {
   "cell_type": "code",
   "execution_count": null,
   "id": "61b7746f-2ff1-4638-9b86-b7d291080a5e",
   "metadata": {},
   "outputs": [],
   "source": []
  },
  {
   "cell_type": "code",
   "execution_count": null,
   "id": "9d01285c-a3ee-4df9-a0c0-47d93c317fc5",
   "metadata": {},
   "outputs": [],
   "source": []
  },
  {
   "cell_type": "code",
   "execution_count": null,
   "id": "7b88b87f-d924-46ac-8ae4-a6a6403b223f",
   "metadata": {},
   "outputs": [],
   "source": []
  }
 ],
 "metadata": {
  "kernelspec": {
   "display_name": "Python 3 (ipykernel)",
   "language": "python",
   "name": "python3"
  },
  "language_info": {
   "codemirror_mode": {
    "name": "ipython",
    "version": 3
   },
   "file_extension": ".py",
   "mimetype": "text/x-python",
   "name": "python",
   "nbconvert_exporter": "python",
   "pygments_lexer": "ipython3",
   "version": "3.10.8"
  }
 },
 "nbformat": 4,
 "nbformat_minor": 5
}
