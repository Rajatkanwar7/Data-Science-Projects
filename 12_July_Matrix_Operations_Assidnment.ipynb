{
 "cells": [
  {
   "cell_type": "code",
   "execution_count": 2,
   "id": "f54f9c61-9c2f-4e21-aea3-d513667365d4",
   "metadata": {},
   "outputs": [
    {
     "name": "stdout",
     "output_type": "stream",
     "text": [
      "Collecting tensorflow\n",
      "  Downloading tensorflow-2.17.0-cp310-cp310-manylinux_2_17_x86_64.manylinux2014_x86_64.whl (601.3 MB)\n",
      "\u001b[2K     \u001b[90m━━━━━━━━━━━━━━━━━━━━━━━━━━━━━━━━━━━━━━━\u001b[0m \u001b[32m601.3/601.3 MB\u001b[0m \u001b[31m2.6 MB/s\u001b[0m eta \u001b[36m0:00:00\u001b[0m00:01\u001b[0m00:01\u001b[0m\n",
      "\u001b[?25hRequirement already satisfied: numpy<2.0.0,>=1.23.5 in /opt/conda/lib/python3.10/site-packages (from tensorflow) (1.23.5)\n",
      "Collecting google-pasta>=0.1.1\n",
      "  Downloading google_pasta-0.2.0-py3-none-any.whl (57 kB)\n",
      "\u001b[2K     \u001b[90m━━━━━━━━━━━━━━━━━━━━━━━━━━━━━━━━━━━━━━━━\u001b[0m \u001b[32m57.5/57.5 kB\u001b[0m \u001b[31m9.4 MB/s\u001b[0m eta \u001b[36m0:00:00\u001b[0m\n",
      "\u001b[?25hRequirement already satisfied: setuptools in /opt/conda/lib/python3.10/site-packages (from tensorflow) (65.5.1)\n",
      "Collecting astunparse>=1.6.0\n",
      "  Downloading astunparse-1.6.3-py2.py3-none-any.whl (12 kB)\n",
      "Collecting libclang>=13.0.0\n",
      "  Downloading libclang-18.1.1-py2.py3-none-manylinux2010_x86_64.whl (24.5 MB)\n",
      "\u001b[2K     \u001b[90m━━━━━━━━━━━━━━━━━━━━━━━━━━━━━━━━━━━━━━━━\u001b[0m \u001b[32m24.5/24.5 MB\u001b[0m \u001b[31m41.0 MB/s\u001b[0m eta \u001b[36m0:00:00\u001b[0m00:01\u001b[0m00:01\u001b[0m\n",
      "\u001b[?25hCollecting termcolor>=1.1.0\n",
      "  Downloading termcolor-2.4.0-py3-none-any.whl (7.7 kB)\n",
      "Collecting opt-einsum>=2.3.2\n",
      "  Downloading opt_einsum-3.3.0-py3-none-any.whl (65 kB)\n",
      "\u001b[2K     \u001b[90m━━━━━━━━━━━━━━━━━━━━━━━━━━━━━━━━━━━━━━━━\u001b[0m \u001b[32m65.5/65.5 kB\u001b[0m \u001b[31m11.9 MB/s\u001b[0m eta \u001b[36m0:00:00\u001b[0m\n",
      "\u001b[?25hCollecting tensorflow-io-gcs-filesystem>=0.23.1\n",
      "  Downloading tensorflow_io_gcs_filesystem-0.37.1-cp310-cp310-manylinux_2_17_x86_64.manylinux2014_x86_64.whl (5.1 MB)\n",
      "\u001b[2K     \u001b[90m━━━━━━━━━━━━━━━━━━━━━━━━━━━━━━━━━━━━━━━━\u001b[0m \u001b[32m5.1/5.1 MB\u001b[0m \u001b[31m59.9 MB/s\u001b[0m eta \u001b[36m0:00:00\u001b[0m00:01\u001b[0m:00:01\u001b[0m\n",
      "\u001b[?25hCollecting ml-dtypes<0.5.0,>=0.3.1\n",
      "  Downloading ml_dtypes-0.4.0-cp310-cp310-manylinux_2_17_x86_64.manylinux2014_x86_64.whl (2.2 MB)\n",
      "\u001b[2K     \u001b[90m━━━━━━━━━━━━━━━━━━━━━━━━━━━━━━━━━━━━━━━━\u001b[0m \u001b[32m2.2/2.2 MB\u001b[0m \u001b[31m57.3 MB/s\u001b[0m eta \u001b[36m0:00:00\u001b[0m00:01\u001b[0m\n",
      "\u001b[?25hCollecting tensorboard<2.18,>=2.17\n",
      "  Downloading tensorboard-2.17.0-py3-none-any.whl (5.5 MB)\n",
      "\u001b[2K     \u001b[90m━━━━━━━━━━━━━━━━━━━━━━━━━━━━━━━━━━━━━━━━\u001b[0m \u001b[32m5.5/5.5 MB\u001b[0m \u001b[31m67.7 MB/s\u001b[0m eta \u001b[36m0:00:00\u001b[0m00:01\u001b[0m:00:01\u001b[0m\n",
      "\u001b[?25hCollecting keras>=3.2.0\n",
      "  Downloading keras-3.4.1-py3-none-any.whl (1.1 MB)\n",
      "\u001b[2K     \u001b[90m━━━━━━━━━━━━━━━━━━━━━━━━━━━━━━━━━━━━━━━━\u001b[0m \u001b[32m1.1/1.1 MB\u001b[0m \u001b[31m47.6 MB/s\u001b[0m eta \u001b[36m0:00:00\u001b[0m\n",
      "\u001b[?25hCollecting wrapt>=1.11.0\n",
      "  Downloading wrapt-1.16.0-cp310-cp310-manylinux_2_5_x86_64.manylinux1_x86_64.manylinux_2_17_x86_64.manylinux2014_x86_64.whl (80 kB)\n",
      "\u001b[2K     \u001b[90m━━━━━━━━━━━━━━━━━━━━━━━━━━━━━━━━━━━━━━━━\u001b[0m \u001b[32m80.3/80.3 kB\u001b[0m \u001b[31m11.5 MB/s\u001b[0m eta \u001b[36m0:00:00\u001b[0m\n",
      "\u001b[?25hCollecting grpcio<2.0,>=1.24.3\n",
      "  Downloading grpcio-1.65.4-cp310-cp310-manylinux_2_17_x86_64.manylinux2014_x86_64.whl (5.7 MB)\n",
      "\u001b[2K     \u001b[90m━━━━━━━━━━━━━━━━━━━━━━━━━━━━━━━━━━━━━━━━\u001b[0m \u001b[32m5.7/5.7 MB\u001b[0m \u001b[31m67.0 MB/s\u001b[0m eta \u001b[36m0:00:00\u001b[0m00:01\u001b[0m:00:01\u001b[0m\n",
      "\u001b[?25hCollecting flatbuffers>=24.3.25\n",
      "  Downloading flatbuffers-24.3.25-py2.py3-none-any.whl (26 kB)\n",
      "Collecting h5py>=3.10.0\n",
      "  Downloading h5py-3.11.0-cp310-cp310-manylinux_2_17_x86_64.manylinux2014_x86_64.whl (5.3 MB)\n",
      "\u001b[2K     \u001b[90m━━━━━━━━━━━━━━━━━━━━━━━━━━━━━━━━━━━━━━━━\u001b[0m \u001b[32m5.3/5.3 MB\u001b[0m \u001b[31m69.1 MB/s\u001b[0m eta \u001b[36m0:00:00\u001b[0m:00:01\u001b[0m00:01\u001b[0m\n",
      "\u001b[?25hRequirement already satisfied: packaging in /opt/conda/lib/python3.10/site-packages (from tensorflow) (22.0)\n",
      "Requirement already satisfied: protobuf!=4.21.0,!=4.21.1,!=4.21.2,!=4.21.3,!=4.21.4,!=4.21.5,<5.0.0dev,>=3.20.3 in /opt/conda/lib/python3.10/site-packages (from tensorflow) (4.21.11)\n",
      "Collecting gast!=0.5.0,!=0.5.1,!=0.5.2,>=0.2.1\n",
      "  Downloading gast-0.6.0-py3-none-any.whl (21 kB)\n",
      "Requirement already satisfied: six>=1.12.0 in /opt/conda/lib/python3.10/site-packages (from tensorflow) (1.16.0)\n",
      "Collecting absl-py>=1.0.0\n",
      "  Downloading absl_py-2.1.0-py3-none-any.whl (133 kB)\n",
      "\u001b[2K     \u001b[90m━━━━━━━━━━━━━━━━━━━━━━━━━━━━━━━━━━━━━━\u001b[0m \u001b[32m133.7/133.7 kB\u001b[0m \u001b[31m21.6 MB/s\u001b[0m eta \u001b[36m0:00:00\u001b[0m\n",
      "\u001b[?25hRequirement already satisfied: typing-extensions>=3.6.6 in /opt/conda/lib/python3.10/site-packages (from tensorflow) (4.4.0)\n",
      "Requirement already satisfied: requests<3,>=2.21.0 in /opt/conda/lib/python3.10/site-packages (from tensorflow) (2.28.1)\n",
      "Requirement already satisfied: wheel<1.0,>=0.23.0 in /opt/conda/lib/python3.10/site-packages (from astunparse>=1.6.0->tensorflow) (0.38.4)\n",
      "Collecting optree\n",
      "  Downloading optree-0.12.1-cp310-cp310-manylinux_2_17_x86_64.manylinux2014_x86_64.whl (347 kB)\n",
      "\u001b[2K     \u001b[90m━━━━━━━━━━━━━━━━━━━━━━━━━━━━━━━━━━━━━━\u001b[0m \u001b[32m347.7/347.7 kB\u001b[0m \u001b[31m35.8 MB/s\u001b[0m eta \u001b[36m0:00:00\u001b[0m\n",
      "\u001b[?25hCollecting namex\n",
      "  Downloading namex-0.0.8-py3-none-any.whl (5.8 kB)\n",
      "Collecting rich\n",
      "  Downloading rich-13.7.1-py3-none-any.whl (240 kB)\n",
      "\u001b[2K     \u001b[90m━━━━━━━━━━━━━━━━━━━━━━━━━━━━━━━━━━━━━━\u001b[0m \u001b[32m240.7/240.7 kB\u001b[0m \u001b[31m27.7 MB/s\u001b[0m eta \u001b[36m0:00:00\u001b[0m\n",
      "\u001b[?25hRequirement already satisfied: idna<4,>=2.5 in /opt/conda/lib/python3.10/site-packages (from requests<3,>=2.21.0->tensorflow) (3.4)\n",
      "Requirement already satisfied: certifi>=2017.4.17 in /opt/conda/lib/python3.10/site-packages (from requests<3,>=2.21.0->tensorflow) (2022.12.7)\n",
      "Requirement already satisfied: charset-normalizer<3,>=2 in /opt/conda/lib/python3.10/site-packages (from requests<3,>=2.21.0->tensorflow) (2.1.1)\n",
      "Requirement already satisfied: urllib3<1.27,>=1.21.1 in /opt/conda/lib/python3.10/site-packages (from requests<3,>=2.21.0->tensorflow) (1.26.13)\n",
      "Collecting markdown>=2.6.8\n",
      "  Downloading Markdown-3.6-py3-none-any.whl (105 kB)\n",
      "\u001b[2K     \u001b[90m━━━━━━━━━━━━━━━━━━━━━━━━━━━━━━━━━━━━━━\u001b[0m \u001b[32m105.4/105.4 kB\u001b[0m \u001b[31m17.2 MB/s\u001b[0m eta \u001b[36m0:00:00\u001b[0m\n",
      "\u001b[?25hCollecting werkzeug>=1.0.1\n",
      "  Downloading werkzeug-3.0.3-py3-none-any.whl (227 kB)\n",
      "\u001b[2K     \u001b[90m━━━━━━━━━━━━━━━━━━━━━━━━━━━━━━━━━━━━━━\u001b[0m \u001b[32m227.3/227.3 kB\u001b[0m \u001b[31m28.5 MB/s\u001b[0m eta \u001b[36m0:00:00\u001b[0m\n",
      "\u001b[?25hCollecting tensorboard-data-server<0.8.0,>=0.7.0\n",
      "  Downloading tensorboard_data_server-0.7.2-py3-none-manylinux_2_31_x86_64.whl (6.6 MB)\n",
      "\u001b[2K     \u001b[90m━━━━━━━━━━━━━━━━━━━━━━━━━━━━━━━━━━━━━━━━\u001b[0m \u001b[32m6.6/6.6 MB\u001b[0m \u001b[31m63.0 MB/s\u001b[0m eta \u001b[36m0:00:00\u001b[0m00:01\u001b[0m00:01\u001b[0m\n",
      "\u001b[?25hRequirement already satisfied: MarkupSafe>=2.1.1 in /opt/conda/lib/python3.10/site-packages (from werkzeug>=1.0.1->tensorboard<2.18,>=2.17->tensorflow) (2.1.1)\n",
      "Collecting typing-extensions>=3.6.6\n",
      "  Downloading typing_extensions-4.12.2-py3-none-any.whl (37 kB)\n",
      "Requirement already satisfied: pygments<3.0.0,>=2.13.0 in /opt/conda/lib/python3.10/site-packages (from rich->keras>=3.2.0->tensorflow) (2.13.0)\n",
      "Collecting markdown-it-py>=2.2.0\n",
      "  Downloading markdown_it_py-3.0.0-py3-none-any.whl (87 kB)\n",
      "\u001b[2K     \u001b[90m━━━━━━━━━━━━━━━━━━━━━━━━━━━━━━━━━━━━━━━━\u001b[0m \u001b[32m87.5/87.5 kB\u001b[0m \u001b[31m14.6 MB/s\u001b[0m eta \u001b[36m0:00:00\u001b[0m\n",
      "\u001b[?25hCollecting mdurl~=0.1\n",
      "  Downloading mdurl-0.1.2-py3-none-any.whl (10.0 kB)\n",
      "Installing collected packages: namex, libclang, flatbuffers, wrapt, werkzeug, typing-extensions, termcolor, tensorflow-io-gcs-filesystem, tensorboard-data-server, opt-einsum, ml-dtypes, mdurl, markdown, h5py, grpcio, google-pasta, gast, astunparse, absl-py, tensorboard, optree, markdown-it-py, rich, keras, tensorflow\n",
      "  Attempting uninstall: typing-extensions\n",
      "    Found existing installation: typing_extensions 4.4.0\n",
      "    Uninstalling typing_extensions-4.4.0:\n",
      "      Successfully uninstalled typing_extensions-4.4.0\n",
      "  Attempting uninstall: h5py\n",
      "    Found existing installation: h5py 3.7.0\n",
      "    Uninstalling h5py-3.7.0:\n",
      "      Successfully uninstalled h5py-3.7.0\n",
      "Successfully installed absl-py-2.1.0 astunparse-1.6.3 flatbuffers-24.3.25 gast-0.6.0 google-pasta-0.2.0 grpcio-1.65.4 h5py-3.11.0 keras-3.4.1 libclang-18.1.1 markdown-3.6 markdown-it-py-3.0.0 mdurl-0.1.2 ml-dtypes-0.4.0 namex-0.0.8 opt-einsum-3.3.0 optree-0.12.1 rich-13.7.1 tensorboard-2.17.0 tensorboard-data-server-0.7.2 tensorflow-2.17.0 tensorflow-io-gcs-filesystem-0.37.1 termcolor-2.4.0 typing-extensions-4.12.2 werkzeug-3.0.3 wrapt-1.16.0\n"
     ]
    }
   ],
   "source": [
    "!pip install tensorflow"
   ]
  },
  {
   "cell_type": "markdown",
   "id": "7ddd3ad4-121d-432a-98ce-40861125887b",
   "metadata": {},
   "source": []
  },
  {
   "cell_type": "markdown",
   "id": "0cceb3bb-d995-4956-b381-1437f63a4e16",
   "metadata": {},
   "source": [
    "### 1. What are the different data structures used in TensorFlow? Give some examples.\n",
    "\n",
    "\n",
    "#### Ans: \n",
    "#### TensorFlow uses several data structures to represent data:\n",
    "\n",
    "1. Tensors: The core data structure in TensorFlow, analogous to arrays in NumPy. Tensors can be scalars, vectors, matrices, or higher-dimensional arrays.\n",
    "Example: tf.constant([1, 2, 3]) creates a 1D tensor.\n",
    "\n",
    "2. Variables: Mutable data structures used to store model parameters.\n",
    "Example: tf.Variable([1, 2, 3]) creates a variable tensor.\n",
    "\n",
    "\n",
    "3. Datasets: Used for input pipelines, representing a sequence of elements.\n",
    "Example: tf.data.Dataset.from_tensor_slices([1, 2, 3]) creates a dataset from a tensor."
   ]
  },
  {
   "cell_type": "code",
   "execution_count": null,
   "id": "cdde363c-1807-473e-985e-1b3dd9c15de3",
   "metadata": {},
   "outputs": [],
   "source": []
  },
  {
   "cell_type": "markdown",
   "id": "9fbdd3aa-0b09-4ea8-9de9-cd36e285a0d5",
   "metadata": {},
   "source": [
    "### 2. How does the TensorFlow constant differ from a TensorFlow variable? Explain with an example."
   ]
  },
  {
   "cell_type": "markdown",
   "id": "b5c5f0c9-3e90-4daf-9b01-0da5ebff8a7d",
   "metadata": {},
   "source": [
    "### Ans :\n",
    "TensorFlow Constant: Immutable once defined. It's useful for values that don't change during execution."
   ]
  },
  {
   "cell_type": "code",
   "execution_count": 1,
   "id": "add98b58-896c-4992-b2e5-e1d42dea6599",
   "metadata": {},
   "outputs": [
    {
     "name": "stderr",
     "output_type": "stream",
     "text": [
      "2024-08-04 17:17:24.787225: I external/local_xla/xla/tsl/cuda/cudart_stub.cc:32] Could not find cuda drivers on your machine, GPU will not be used.\n",
      "2024-08-04 17:17:24.793116: I external/local_xla/xla/tsl/cuda/cudart_stub.cc:32] Could not find cuda drivers on your machine, GPU will not be used.\n",
      "2024-08-04 17:17:24.814051: E external/local_xla/xla/stream_executor/cuda/cuda_fft.cc:485] Unable to register cuFFT factory: Attempting to register factory for plugin cuFFT when one has already been registered\n",
      "2024-08-04 17:17:24.845482: E external/local_xla/xla/stream_executor/cuda/cuda_dnn.cc:8454] Unable to register cuDNN factory: Attempting to register factory for plugin cuDNN when one has already been registered\n",
      "2024-08-04 17:17:24.854833: E external/local_xla/xla/stream_executor/cuda/cuda_blas.cc:1452] Unable to register cuBLAS factory: Attempting to register factory for plugin cuBLAS when one has already been registered\n",
      "2024-08-04 17:17:24.878159: I tensorflow/core/platform/cpu_feature_guard.cc:210] This TensorFlow binary is optimized to use available CPU instructions in performance-critical operations.\n",
      "To enable the following instructions: AVX2 FMA, in other operations, rebuild TensorFlow with the appropriate compiler flags.\n",
      "2024-08-04 17:17:26.437507: W tensorflow/compiler/tf2tensorrt/utils/py_utils.cc:38] TF-TRT Warning: Could not find TensorRT\n"
     ]
    },
    {
     "name": "stdout",
     "output_type": "stream",
     "text": [
      "tf.Tensor([1 2 3], shape=(3,), dtype=int32)\n"
     ]
    }
   ],
   "source": [
    "## Example:\n",
    "import tensorflow as tf\n",
    "const = tf.constant([1, 2, 3])\n",
    "print(const)"
   ]
  },
  {
   "cell_type": "code",
   "execution_count": 2,
   "id": "5c37725e-8034-4508-a7a4-fcb1337807ec",
   "metadata": {},
   "outputs": [
    {
     "name": "stdout",
     "output_type": "stream",
     "text": [
      "<tf.Variable 'Variable:0' shape=(3,) dtype=int32, numpy=array([4, 5, 6], dtype=int32)>\n"
     ]
    }
   ],
   "source": [
    "# TensorFlow Variable: Mutable and can be updated during execution, useful for model parameters that need to be learned.\n",
    "\n",
    "# Example:\n",
    "\n",
    "var = tf.Variable([1, 2, 3])\n",
    "var.assign([4, 5, 6])\n",
    "print(var)"
   ]
  },
  {
   "cell_type": "code",
   "execution_count": null,
   "id": "b1d2a4a6-e6b7-48e1-965d-feb51f1afe53",
   "metadata": {},
   "outputs": [],
   "source": []
  },
  {
   "cell_type": "markdown",
   "id": "bdb5c92f-0c8a-45e8-87e8-cb99f1f3a9c1",
   "metadata": {},
   "source": [
    "### 3. Describe the process of matrix addition, multiplication, and element-wise operations in TensorFlow.\n",
    "#### Ans: \n",
    "1. Matrix Addition: Adding corresponding elements of two matrices.\n",
    "Example: tf.add(A, B)\n",
    "\n",
    "2. Matrix Multiplication: Performing the dot product of two matrices.\n",
    "Example: tf.matmul(A, B)\n",
    "\n",
    "3. Element-wise Operations: Applying operations element by element.\n",
    "Example: tf.multiply(A, B) for element-wise multiplication."
   ]
  },
  {
   "cell_type": "code",
   "execution_count": null,
   "id": "05157f8e-0448-44c6-8d3b-938513710005",
   "metadata": {},
   "outputs": [],
   "source": []
  },
  {
   "cell_type": "markdown",
   "id": "06f97238-04c3-478b-bc1e-63ba29d1e61b",
   "metadata": {},
   "source": [
    "## Part 2: Practical Implementation\n",
    "### Task 1: Creating and Manipulating Matrices"
   ]
  },
  {
   "cell_type": "markdown",
   "id": "83ae34e8-d595-4639-9c90-a4c8499b57d3",
   "metadata": {},
   "source": [
    "#### 1. Create a normal matrix A with dimensions 2x2, using TensorFlow's random_normal function. Display the values of matrix A.1. Create a normal matrix A with dimensions 2x2, using TensorFlow's random_normal function. Display the values of matrix A."
   ]
  },
  {
   "cell_type": "code",
   "execution_count": 3,
   "id": "c0435bad-4ea8-437c-af7d-f518a49561ae",
   "metadata": {},
   "outputs": [
    {
     "name": "stdout",
     "output_type": "stream",
     "text": [
      "Matrix A:\n",
      " tf.Tensor(\n",
      "[[-0.19418694 -0.67237973]\n",
      " [ 0.04147089 -0.3035688 ]], shape=(2, 2), dtype=float32)\n"
     ]
    }
   ],
   "source": [
    "import tensorflow as tf\n",
    "\n",
    "A = tf.random.normal([2, 2])\n",
    "print(\"Matrix A:\\n\", A)\n"
   ]
  },
  {
   "cell_type": "code",
   "execution_count": null,
   "id": "fde46ac6-eec7-4784-90b6-257a14e54331",
   "metadata": {},
   "outputs": [],
   "source": []
  },
  {
   "cell_type": "markdown",
   "id": "e8136bc4-a635-49d0-bd10-a2402f8e364e",
   "metadata": {},
   "source": [
    "#### 2. Create a Gaussian matrix B with dimensions 2x2, using TensorFlow's truncated_normal function. Display the values of matrix B."
   ]
  },
  {
   "cell_type": "code",
   "execution_count": 4,
   "id": "34ae61b3-ed83-4114-94ba-4e02c6546c2a",
   "metadata": {},
   "outputs": [
    {
     "name": "stdout",
     "output_type": "stream",
     "text": [
      "Matrix B:\n",
      " tf.Tensor(\n",
      "[[ 0.06368832  0.00738523]\n",
      " [ 0.5687476  -1.5849042 ]], shape=(2, 2), dtype=float32)\n"
     ]
    }
   ],
   "source": [
    "B = tf.random.truncated_normal([2, 2])\n",
    "print(\"Matrix B:\\n\", B)\n"
   ]
  },
  {
   "cell_type": "code",
   "execution_count": null,
   "id": "82f0f8ae-8780-4ac4-9847-0127b7938f62",
   "metadata": {},
   "outputs": [],
   "source": []
  },
  {
   "cell_type": "markdown",
   "id": "286ccd78-a395-402d-9262-4dd5587c9f8e",
   "metadata": {},
   "source": [
    "#### 3. Create a matrix C with dimensions 2x2, where the values are drawn from a normal distribution with a mean of 2 and a standard deviation of 0.5, using TensorFlow's random.normal function. Display the values of matrix C."
   ]
  },
  {
   "cell_type": "code",
   "execution_count": 5,
   "id": "cbbfb8d4-8de6-4833-bd84-663db9ac2ee9",
   "metadata": {},
   "outputs": [
    {
     "name": "stdout",
     "output_type": "stream",
     "text": [
      "Matrix C:\n",
      " tf.Tensor(\n",
      "[[1.4163885 2.0113058]\n",
      " [2.2940893 1.5956438]], shape=(2, 2), dtype=float32)\n"
     ]
    }
   ],
   "source": [
    "C = tf.random.normal([2, 2], mean=2, stddev=0.5)\n",
    "print(\"Matrix C:\\n\", C)\n"
   ]
  },
  {
   "cell_type": "code",
   "execution_count": null,
   "id": "bdf0d479-b7d1-4c61-88e2-883e69e2cb7e",
   "metadata": {},
   "outputs": [],
   "source": []
  },
  {
   "cell_type": "markdown",
   "id": "db1bf12b-ab40-4505-80ba-a6f020fec29a",
   "metadata": {},
   "source": [
    "#### 4. Perform matrix addition between matrix A and matrix B, and store the result in matrix D."
   ]
  },
  {
   "cell_type": "code",
   "execution_count": 6,
   "id": "310f0e9a-18ab-46f7-9783-fd7fc0fc4967",
   "metadata": {},
   "outputs": [
    {
     "name": "stdout",
     "output_type": "stream",
     "text": [
      "Matrix D (A + B):\n",
      " tf.Tensor(\n",
      "[[-0.13049862 -0.6649945 ]\n",
      " [ 0.61021847 -1.888473  ]], shape=(2, 2), dtype=float32)\n"
     ]
    }
   ],
   "source": [
    "D = tf.add(A, B)\n",
    "print(\"Matrix D (A + B):\\n\", D)\n"
   ]
  },
  {
   "cell_type": "code",
   "execution_count": null,
   "id": "6958d6b7-8b5b-42b9-b1c8-3035f928c055",
   "metadata": {},
   "outputs": [],
   "source": []
  },
  {
   "cell_type": "markdown",
   "id": "5569ceae-533a-427c-a588-a545bdfcad3a",
   "metadata": {},
   "source": [
    "#### 5. Perform matrix multiplication between matrix C and matrix D, and store the result in matrix E."
   ]
  },
  {
   "cell_type": "code",
   "execution_count": 7,
   "id": "87f523c7-b3fa-4b76-8613-83e773e93839",
   "metadata": {},
   "outputs": [
    {
     "name": "stdout",
     "output_type": "stream",
     "text": [
      "Matrix E (C * D):\n",
      " tf.Tensor(\n",
      "[[ 1.0424992 -4.740187 ]\n",
      " [ 0.6743158 -4.538887 ]], shape=(2, 2), dtype=float32)\n"
     ]
    }
   ],
   "source": [
    "E = tf.matmul(C, D)\n",
    "print(\"Matrix E (C * D):\\n\", E)\n"
   ]
  },
  {
   "cell_type": "code",
   "execution_count": null,
   "id": "70d7346e-0b61-468f-87c4-41e65db2322d",
   "metadata": {},
   "outputs": [],
   "source": []
  },
  {
   "cell_type": "code",
   "execution_count": null,
   "id": "ce2fa7b8-ebdb-41d5-a622-00fa5ace9c4f",
   "metadata": {},
   "outputs": [],
   "source": []
  },
  {
   "cell_type": "markdown",
   "id": "938bd4a5-8be4-4c71-8113-f9ebc7702c64",
   "metadata": {},
   "source": [
    "### Task 2: Performing Additional Matrix Operations"
   ]
  },
  {
   "cell_type": "markdown",
   "id": "6a208b0f-95bb-47d2-854c-9d1aabfea53c",
   "metadata": {},
   "source": [
    "#### 1. Create a matrix F with dimensions 2x2, initialized with random values using TensorFlow's random_uniform function."
   ]
  },
  {
   "cell_type": "code",
   "execution_count": 8,
   "id": "24bc30ce-73eb-470b-b993-1eec8e925d65",
   "metadata": {},
   "outputs": [
    {
     "name": "stdout",
     "output_type": "stream",
     "text": [
      "Matrix F:\n",
      " tf.Tensor(\n",
      "[[0.8317392  0.6056981 ]\n",
      " [0.73288524 0.19762564]], shape=(2, 2), dtype=float32)\n"
     ]
    }
   ],
   "source": [
    "F = tf.random.uniform([2, 2])\n",
    "print(\"Matrix F:\\n\", F)\n"
   ]
  },
  {
   "cell_type": "code",
   "execution_count": null,
   "id": "0e47d1f0-5f5c-4a19-9424-d0c34d5c5d26",
   "metadata": {},
   "outputs": [],
   "source": []
  },
  {
   "cell_type": "markdown",
   "id": "f8632c94-0822-4ad7-8a0a-15c59a36357e",
   "metadata": {},
   "source": [
    "#### 2. Calculate the transpose of matrix F and store the result in matrix G."
   ]
  },
  {
   "cell_type": "code",
   "execution_count": 9,
   "id": "66076542-8b7d-47ec-aa70-2a4be7efcf4c",
   "metadata": {},
   "outputs": [
    {
     "name": "stdout",
     "output_type": "stream",
     "text": [
      "Matrix G (transpose of F):\n",
      " tf.Tensor(\n",
      "[[0.8317392  0.73288524]\n",
      " [0.6056981  0.19762564]], shape=(2, 2), dtype=float32)\n"
     ]
    }
   ],
   "source": [
    "G = tf.transpose(F)\n",
    "print(\"Matrix G (transpose of F):\\n\", G)\n"
   ]
  },
  {
   "cell_type": "code",
   "execution_count": null,
   "id": "6e86dfbe-62fe-4318-aea2-364934e85200",
   "metadata": {},
   "outputs": [],
   "source": []
  },
  {
   "cell_type": "markdown",
   "id": "590391eb-c7bb-47fd-a167-939c5810644d",
   "metadata": {},
   "source": [
    "#### 3. Calculate the element-wise exponential of matrix F and store the result in matrix H."
   ]
  },
  {
   "cell_type": "code",
   "execution_count": 10,
   "id": "4cc1a0a0-1ed7-4282-a020-a2115e417aad",
   "metadata": {},
   "outputs": [
    {
     "name": "stdout",
     "output_type": "stream",
     "text": [
      "Matrix H (element-wise exponential of F):\n",
      " tf.Tensor(\n",
      "[[2.2973108 1.8325311]\n",
      " [2.0810764 1.2185061]], shape=(2, 2), dtype=float32)\n"
     ]
    }
   ],
   "source": [
    "H = tf.exp(F)\n",
    "print(\"Matrix H (element-wise exponential of F):\\n\", H)\n"
   ]
  },
  {
   "cell_type": "code",
   "execution_count": null,
   "id": "3504a582-da00-47ce-87a4-87c9eb217420",
   "metadata": {},
   "outputs": [],
   "source": []
  },
  {
   "cell_type": "markdown",
   "id": "658280a9-acb4-4875-b22b-d5aaa83666dc",
   "metadata": {},
   "source": [
    "#### 4. Create a matrix I by concatenating matrix F and matrix G horizontally."
   ]
  },
  {
   "cell_type": "code",
   "execution_count": 11,
   "id": "670dbe93-7752-48af-a68c-e9eae6293478",
   "metadata": {},
   "outputs": [
    {
     "name": "stdout",
     "output_type": "stream",
     "text": [
      "Matrix I (F concatenated with G horizontally):\n",
      " tf.Tensor(\n",
      "[[0.8317392  0.6056981  0.8317392  0.73288524]\n",
      " [0.73288524 0.19762564 0.6056981  0.19762564]], shape=(2, 4), dtype=float32)\n"
     ]
    }
   ],
   "source": [
    "I = tf.concat([F, G], axis=1)\n",
    "print(\"Matrix I (F concatenated with G horizontally):\\n\", I)\n"
   ]
  },
  {
   "cell_type": "code",
   "execution_count": null,
   "id": "596737b6-df1f-47bd-9a11-744230b1aa8f",
   "metadata": {},
   "outputs": [],
   "source": []
  },
  {
   "cell_type": "markdown",
   "id": "72b344a4-0bc0-4307-b470-f944fb1d7de8",
   "metadata": {},
   "source": [
    "#### 5. Create a matrix J by concatenating matrix F and matrix H vertically."
   ]
  },
  {
   "cell_type": "code",
   "execution_count": 12,
   "id": "343a54ba-6897-48ce-b721-5bba68518094",
   "metadata": {},
   "outputs": [
    {
     "name": "stdout",
     "output_type": "stream",
     "text": [
      "Matrix J (F concatenated with H vertically):\n",
      " tf.Tensor(\n",
      "[[0.8317392  0.6056981 ]\n",
      " [0.73288524 0.19762564]\n",
      " [2.2973108  1.8325311 ]\n",
      " [2.0810764  1.2185061 ]], shape=(4, 2), dtype=float32)\n"
     ]
    }
   ],
   "source": [
    "J = tf.concat([F, H], axis=0)\n",
    "print(\"Matrix J (F concatenated with H vertically):\\n\", J)\n"
   ]
  },
  {
   "cell_type": "code",
   "execution_count": null,
   "id": "6d55b56f-41a0-4939-aa92-28b8b3cdda94",
   "metadata": {},
   "outputs": [],
   "source": []
  },
  {
   "cell_type": "code",
   "execution_count": null,
   "id": "4cddb4d7-5db5-41d9-9dd4-8fe10e882cec",
   "metadata": {},
   "outputs": [],
   "source": []
  },
  {
   "cell_type": "code",
   "execution_count": null,
   "id": "29837cbf-9abd-4ab0-b879-2a2250161664",
   "metadata": {},
   "outputs": [],
   "source": []
  },
  {
   "cell_type": "code",
   "execution_count": null,
   "id": "25e81212-6a46-436f-888c-2502c6ce9f77",
   "metadata": {},
   "outputs": [],
   "source": []
  },
  {
   "cell_type": "code",
   "execution_count": null,
   "id": "4e232411-420b-4a41-9de5-53dab34d41a3",
   "metadata": {},
   "outputs": [],
   "source": []
  }
 ],
 "metadata": {
  "kernelspec": {
   "display_name": "Python 3 (ipykernel)",
   "language": "python",
   "name": "python3"
  },
  "language_info": {
   "codemirror_mode": {
    "name": "ipython",
    "version": 3
   },
   "file_extension": ".py",
   "mimetype": "text/x-python",
   "name": "python",
   "nbconvert_exporter": "python",
   "pygments_lexer": "ipython3",
   "version": "3.10.8"
  }
 },
 "nbformat": 4,
 "nbformat_minor": 5
}
