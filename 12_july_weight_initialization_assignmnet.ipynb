{
 "cells": [
  {
   "cell_type": "markdown",
   "id": "ba043384-148f-4a0d-ae19-58649f934bb0",
   "metadata": {},
   "source": []
  },
  {
   "cell_type": "markdown",
   "id": "c7b7e1c4-b5c8-4004-8aa4-1083518f82ce",
   "metadata": {},
   "source": [
    "## Part 1: Understanding Weight Initialization\n",
    "\n",
    "### 1. Explain the importance of weight initialization in artificial neural networks. Why is it necessary to initialize the weights carefully?\n",
    "### Ans: \n",
    "Weight initialization is a critical step in training artificial neural networks because it sets the initial conditions for the learning process. Proper weight initialization helps in:\n",
    "\n",
    "- **Preventing vanishing/exploding gradients**: By carefully initializing the weights, we can avoid situations where gradients become too small (vanishing) or too large (exploding), which can hinder effective training.\n",
    "- **Ensuring faster convergence**: Good initialization can place the network in a region of the parameter space where optimization can proceed more efficiently, leading to faster convergence.\n",
    "- **Breaking symmetry**: Proper initialization ensures that each neuron starts with different weights, allowing the network to learn diverse features. If all weights are initialized to the same value, all neurons in a layer will learn the same thing, which is not desirable."
   ]
  },
  {
   "cell_type": "markdown",
   "id": "6a6840a2-b5b2-42b0-b79b-bf577f2a220d",
   "metadata": {},
   "source": []
  },
  {
   "cell_type": "markdown",
   "id": "57a8ea70-f983-4207-9ec5-d7eee15a1176",
   "metadata": {},
   "source": [
    "### 2. Describe the challenges associated with improper weight initialization. How do these issues affect model training and convergence?\n",
    "### Ans: \n",
    "Improper weight initialization can lead to several challenges:\n",
    "\n",
    "- **Vanishing gradients**: If the weights are initialized too small, the gradients during backpropagation can diminish to near zero as they propagate through the layers. This makes it difficult for the network to learn, as weight updates become negligible.\n",
    "- **Exploding gradients**: Conversely, if the weights are initialized too large, the gradients can grow exponentially as they propagate, leading to very large updates. This can cause the network to become unstable and fail to converge.\n",
    "- **Slow convergence**: Poor initialization can cause the optimization process to start far from the optimal point, requiring more epochs to converge.\n",
    "- **Symmetry problem**: If all weights are initialized to the same value, neurons in the same layer will update in the same way during training, limiting the network’s ability to learn effectively."
   ]
  },
  {
   "cell_type": "markdown",
   "id": "0fada51f-b2a8-4786-9f96-e3e69f381b43",
   "metadata": {},
   "source": []
  },
  {
   "cell_type": "markdown",
   "id": "4f7c4145-afa0-4488-975d-a5e4393bd601",
   "metadata": {},
   "source": [
    "### 3. Discuss the concept of variance and how it relates to weight initialization. Why is it crucial to consider the variance of weights during initialization?\n",
    "### Ans: \n",
    "Variance plays a crucial role in weight initialization as it affects the distribution of activations and gradients throughout the network:\n",
    "\n",
    "- **Maintaining activation variance**: Proper initialization ensures that the variance of the activations remains roughly constant across layers, preventing the activations from shrinking to zero or exploding.\n",
    "- **Maintaining gradient variance**: Similarly, maintaining the variance of the gradients helps in stable and efficient training, preventing vanishing or exploding gradients.\n",
    "- **Initialization schemes**: Techniques like Xavier (Glorot) and He initialization are designed to maintain the variance of activations and gradients by scaling the weights according to the size of the previous layer (number of input units). This helps in maintaining a healthy flow of information through the network, facilitating effective learning and faster convergence."
   ]
  },
  {
   "cell_type": "code",
   "execution_count": null,
   "id": "f8b8685c-f053-4f37-9356-b7d2a556689c",
   "metadata": {},
   "outputs": [],
   "source": []
  },
  {
   "cell_type": "code",
   "execution_count": null,
   "id": "5b436c28-2f72-4e6d-b8b3-70a9c13964ee",
   "metadata": {},
   "outputs": [],
   "source": []
  },
  {
   "cell_type": "markdown",
   "id": "a713a6b5-7da3-4caa-89ab-f22ee93fdfe6",
   "metadata": {},
   "source": [
    "## Part 2: Weight Initialization Techniques\n",
    "\n",
    "### 4. Explain the concept of zero initialization. Discuss its potential limitations and when it can be appropriate to use.\n",
    "### Ans:\n",
    "- **Zero Initialization**: This technique involves initializing all the weights in the network to zero.\n",
    "  - **Limitations**: Zero initialization leads to symmetry breaking issues. When all weights are initialized to zero, all neurons in a layer will receive the same gradient during backpropagation, causing them to update in the same way and learn the same features. This makes the network equivalent to a single neuron and severely limits its learning capacity.\n",
    "  - **Appropriate Use**: Zero initialization is rarely used for weights due to the symmetry problem. However, it can be used for initializing bias terms, which do not suffer from the same issues."
   ]
  },
  {
   "cell_type": "markdown",
   "id": "8d694e6b-4da3-46f6-a7bc-849d1b4fe214",
   "metadata": {},
   "source": []
  },
  {
   "cell_type": "markdown",
   "id": "88390ad0-8434-49bb-acbf-4c89ec73a02b",
   "metadata": {},
   "source": [
    "### 5. Describe the process of random initialization. How can random initialization be adjusted to mitigate potential issues like saturation or vanishing/exploding gradients?\n",
    "### Ans: \n",
    "- **Random Initialization**: Involves initializing weights with random values from a specific distribution, typically a normal or uniform distribution.\n",
    "  - **Mitigating Issues**: To avoid saturation (where neurons output values near the extremes of the activation function) or vanishing/exploding gradients, the random values can be scaled appropriately.\n",
    "    - **Standard Normal Initialization**: Random values are drawn from a normal distribution with mean 0 and standard deviation 1. This can be further scaled to fit the needs of the network.\n",
    "    - **Scaled Initialization**: Techniques like Xavier (Glorot) and He initialization adjust the variance of the random values based on the number of input and/or output units in a layer. This scaling helps maintain a healthy flow of activations and gradients."
   ]
  },
  {
   "cell_type": "markdown",
   "id": "8ca2e045-642c-418c-8359-3a49039c26ee",
   "metadata": {},
   "source": []
  },
  {
   "cell_type": "markdown",
   "id": "92c69318-dfdf-46fe-964f-84373e7a5b2c",
   "metadata": {},
   "source": [
    "### 6. Discuss the concept of Xavier/Glorot initialization. Explain how it addresses the challenges of improper weight initialization and the underlying theory behind it.\n",
    "### Ans:\n",
    "- **Xavier/Glorot Initialization**: Named after Xavier Glorot, this technique initializes weights from a distribution with a variance of \\( \\frac{2}{n_{in} + n_{out}} \\), where \\( n_{in} \\) is the number of input units and \\( n_{out} \\) is the number of output units for a layer.\n",
    "  - **Challenges Addressed**: By scaling the weights based on the number of input and output units, Xavier initialization maintains the variance of activations and gradients across layers, preventing vanishing and exploding gradients.\n",
    "  - **Underlying Theory**: The method is based on the assumption that the weights should be initialized in a way that keeps the variance of the inputs and outputs across layers roughly equal. This helps in maintaining a balanced flow of information through the network, ensuring that gradients neither vanish nor explode, facilitating effective learning and faster convergence."
   ]
  },
  {
   "cell_type": "markdown",
   "id": "34573d51-dbd8-40a6-954b-04d295e92cf7",
   "metadata": {},
   "source": []
  },
  {
   "cell_type": "markdown",
   "id": "859096c2-f792-4afd-ab2a-bd33e4cbe666",
   "metadata": {},
   "source": [
    "### 7. Explain the concept of He initialization. How does it differ from Xavier initialization, and when is it preferred?\n",
    "### Ans:\n",
    "- **He Initialization**: Named after Kaiming He, this technique initializes weights from a distribution with a variance of \\( \\frac{2}{n_{in}} \\), where \\( n_{in} \\) is the number of input units for a layer.\n",
    "  - **Differences from Xavier Initialization**: He initialization focuses only on the number of input units, leading to larger initial weights compared to Xavier initialization. This is particularly useful for activation functions like ReLU that tend to zero out negative inputs.\n",
    "  - **Preferred Use**: He initialization is preferred when using activation functions like ReLU or its variants (e.g., Leaky ReLU, ELU). These functions can cause a significant portion of the neurons to become inactive (outputting zero) if the weights are not initialized properly. He initialization helps in maintaining the variance of activations in networks with ReLU, ensuring a good balance of active neurons and effective gradient flow."
   ]
  },
  {
   "cell_type": "code",
   "execution_count": null,
   "id": "ea71fe28-23e3-44c9-a154-6d6d648d82f4",
   "metadata": {},
   "outputs": [],
   "source": []
  },
  {
   "cell_type": "code",
   "execution_count": null,
   "id": "dcb8fa90-594e-4a5b-8357-eb67a0d66d73",
   "metadata": {},
   "outputs": [],
   "source": []
  },
  {
   "cell_type": "markdown",
   "id": "bfdb9df6-5809-4725-9582-87c5a8bc93a7",
   "metadata": {},
   "source": [
    "## Part 3: Applying Weight Initialization\n",
    "### 8. Implement different weight initialization techniques (zero initialization, random initialization, Xavier initialization, and He initialization) in a neural network using a framework of your choice. Train the model on a suitable dataset and compare the performance of the initialized models."
   ]
  },
  {
   "cell_type": "markdown",
   "id": "a5c0d4da-af53-4dce-8e9a-b1fc5848e18c",
   "metadata": {},
   "source": [
    "#### Importing Libraries"
   ]
  },
  {
   "cell_type": "code",
   "execution_count": 1,
   "id": "07bacc53-08d4-47dd-90e1-3dded3daa12a",
   "metadata": {},
   "outputs": [
    {
     "name": "stderr",
     "output_type": "stream",
     "text": [
      "2024-08-04 17:44:27.112722: I external/local_xla/xla/tsl/cuda/cudart_stub.cc:32] Could not find cuda drivers on your machine, GPU will not be used.\n",
      "2024-08-04 17:44:27.118358: I external/local_xla/xla/tsl/cuda/cudart_stub.cc:32] Could not find cuda drivers on your machine, GPU will not be used.\n",
      "2024-08-04 17:44:27.137270: E external/local_xla/xla/stream_executor/cuda/cuda_fft.cc:485] Unable to register cuFFT factory: Attempting to register factory for plugin cuFFT when one has already been registered\n",
      "2024-08-04 17:44:27.168810: E external/local_xla/xla/stream_executor/cuda/cuda_dnn.cc:8454] Unable to register cuDNN factory: Attempting to register factory for plugin cuDNN when one has already been registered\n",
      "2024-08-04 17:44:27.178191: E external/local_xla/xla/stream_executor/cuda/cuda_blas.cc:1452] Unable to register cuBLAS factory: Attempting to register factory for plugin cuBLAS when one has already been registered\n",
      "2024-08-04 17:44:27.201773: I tensorflow/core/platform/cpu_feature_guard.cc:210] This TensorFlow binary is optimized to use available CPU instructions in performance-critical operations.\n",
      "To enable the following instructions: AVX2 FMA, in other operations, rebuild TensorFlow with the appropriate compiler flags.\n",
      "2024-08-04 17:44:28.766890: W tensorflow/compiler/tf2tensorrt/utils/py_utils.cc:38] TF-TRT Warning: Could not find TensorRT\n"
     ]
    }
   ],
   "source": [
    "import tensorflow as tf\n",
    "from tensorflow.keras.layers import Dense\n",
    "from tensorflow.keras.models import Sequential\n",
    "from tensorflow.keras.initializers import Zeros, RandomNormal, GlorotNormal, HeNormal\n",
    "from tensorflow.keras.datasets import mnist\n",
    "from tensorflow.keras.utils import to_categorical\n",
    "import matplotlib.pyplot as plt\n"
   ]
  },
  {
   "cell_type": "code",
   "execution_count": null,
   "id": "2c54536c-61de-4623-9752-07b861e428cb",
   "metadata": {},
   "outputs": [],
   "source": []
  },
  {
   "cell_type": "markdown",
   "id": "21d57e78-d7eb-4835-9849-cc49d62ee35b",
   "metadata": {},
   "source": [
    "####  Loading and Preprocessing the MNIST Dataset"
   ]
  },
  {
   "cell_type": "code",
   "execution_count": 2,
   "id": "f6bd069e-6871-4437-a567-368f6ff756be",
   "metadata": {},
   "outputs": [
    {
     "name": "stdout",
     "output_type": "stream",
     "text": [
      "Downloading data from https://storage.googleapis.com/tensorflow/tf-keras-datasets/mnist.npz\n",
      "\u001b[1m11490434/11490434\u001b[0m \u001b[32m━━━━━━━━━━━━━━━━━━━━\u001b[0m\u001b[37m\u001b[0m \u001b[1m3s\u001b[0m 0us/step\n"
     ]
    }
   ],
   "source": [
    "# Load and preprocess the MNIST dataset\n",
    "(x_train, y_train), (x_test, y_test) = mnist.load_data()\n",
    "\n",
    "# Normalize the images to the range [0, 1]\n",
    "x_train, x_test = x_train / 255.0, x_test / 255.0\n",
    "\n",
    "# Flatten the images from (28, 28) to (784,)\n",
    "x_train, x_test = x_train.reshape(-1, 784), x_test.reshape(-1, 784)\n",
    "\n",
    "# One-hot encode the labels\n",
    "y_train, y_test = to_categorical(y_train), to_categorical(y_test)\n"
   ]
  },
  {
   "cell_type": "code",
   "execution_count": null,
   "id": "2a927ec3-9ebd-47ed-a375-f092ebfcedf4",
   "metadata": {},
   "outputs": [],
   "source": []
  },
  {
   "cell_type": "markdown",
   "id": "470e09ce-da73-4d40-b141-c9389fc62390",
   "metadata": {},
   "source": [
    "#### Defining the Model Creation Function"
   ]
  },
  {
   "cell_type": "code",
   "execution_count": 3,
   "id": "546bc30e-d3e5-448c-985d-4e445c776109",
   "metadata": {},
   "outputs": [],
   "source": [
    "def create_model(initializer):\n",
    "    model = Sequential([\n",
    "        Dense(256, activation='relu', kernel_initializer=initializer, input_shape=(784,)),\n",
    "        Dense(128, activation='relu', kernel_initializer=initializer),\n",
    "        Dense(10, activation='softmax')\n",
    "    ])\n",
    "    model.compile(optimizer='adam', loss='categorical_crossentropy', metrics=['accuracy'])\n",
    "    return model\n"
   ]
  },
  {
   "cell_type": "code",
   "execution_count": null,
   "id": "1641ab21-5f41-46fc-96bf-bdab52e62d4c",
   "metadata": {},
   "outputs": [],
   "source": []
  },
  {
   "cell_type": "markdown",
   "id": "dd65ea30-e956-4e13-aa16-94d479f25cd3",
   "metadata": {},
   "source": [
    "####  Initializing the Different Weight Initialization Techniques"
   ]
  },
  {
   "cell_type": "code",
   "execution_count": 4,
   "id": "435cf77d-c405-46c4-8756-47176737eb66",
   "metadata": {},
   "outputs": [],
   "source": [
    "initializers = {\n",
    "    'Zero Initialization': Zeros(),\n",
    "    'Random Initialization': RandomNormal(mean=0.0, stddev=0.05),\n",
    "    'Xavier Initialization': GlorotNormal(),\n",
    "    'He Initialization': HeNormal()\n",
    "}\n"
   ]
  },
  {
   "cell_type": "code",
   "execution_count": null,
   "id": "3d9f8267-6e95-4d9c-be26-6ee878269479",
   "metadata": {},
   "outputs": [],
   "source": []
  },
  {
   "cell_type": "markdown",
   "id": "33dce547-6e03-4c36-868e-57d2ae2f194b",
   "metadata": {},
   "source": [
    "#### Training the Models with Different Initializers"
   ]
  },
  {
   "cell_type": "code",
   "execution_count": 5,
   "id": "77a261cb-9698-4913-a4bd-d52abb83f2df",
   "metadata": {},
   "outputs": [
    {
     "name": "stdout",
     "output_type": "stream",
     "text": [
      "Training with Zero Initialization\n"
     ]
    },
    {
     "name": "stderr",
     "output_type": "stream",
     "text": [
      "/opt/conda/lib/python3.10/site-packages/keras/src/layers/core/dense.py:87: UserWarning: Do not pass an `input_shape`/`input_dim` argument to a layer. When using Sequential models, prefer using an `Input(shape)` object as the first layer in the model instead.\n",
      "  super().__init__(activity_regularizer=activity_regularizer, **kwargs)\n"
     ]
    },
    {
     "name": "stdout",
     "output_type": "stream",
     "text": [
      "Epoch 1/5\n",
      "1875/1875 - 9s - 5ms/step - accuracy: 0.1117 - loss: 2.3015 - val_accuracy: 0.1135 - val_loss: 2.3012\n",
      "Epoch 2/5\n",
      "1875/1875 - 7s - 4ms/step - accuracy: 0.1124 - loss: 2.3014 - val_accuracy: 0.1135 - val_loss: 2.3010\n",
      "Epoch 3/5\n",
      "1875/1875 - 7s - 4ms/step - accuracy: 0.1124 - loss: 2.3014 - val_accuracy: 0.1135 - val_loss: 2.3010\n",
      "Epoch 4/5\n",
      "1875/1875 - 7s - 4ms/step - accuracy: 0.1124 - loss: 2.3013 - val_accuracy: 0.1135 - val_loss: 2.3011\n",
      "Epoch 5/5\n",
      "1875/1875 - 7s - 4ms/step - accuracy: 0.1124 - loss: 2.3013 - val_accuracy: 0.1135 - val_loss: 2.3010\n",
      "Training with Random Initialization\n",
      "Epoch 1/5\n",
      "1875/1875 - 8s - 5ms/step - accuracy: 0.9374 - loss: 0.2107 - val_accuracy: 0.9639 - val_loss: 0.1142\n",
      "Epoch 2/5\n",
      "1875/1875 - 7s - 4ms/step - accuracy: 0.9746 - loss: 0.0828 - val_accuracy: 0.9743 - val_loss: 0.0834\n",
      "Epoch 3/5\n",
      "1875/1875 - 7s - 4ms/step - accuracy: 0.9819 - loss: 0.0578 - val_accuracy: 0.9754 - val_loss: 0.0833\n",
      "Epoch 4/5\n",
      "1875/1875 - 7s - 4ms/step - accuracy: 0.9862 - loss: 0.0436 - val_accuracy: 0.9758 - val_loss: 0.0771\n",
      "Epoch 5/5\n",
      "1875/1875 - 7s - 4ms/step - accuracy: 0.9889 - loss: 0.0340 - val_accuracy: 0.9759 - val_loss: 0.0865\n",
      "Training with Xavier Initialization\n",
      "Epoch 1/5\n",
      "1875/1875 - 9s - 5ms/step - accuracy: 0.9389 - loss: 0.2061 - val_accuracy: 0.9702 - val_loss: 0.0986\n",
      "Epoch 2/5\n",
      "1875/1875 - 7s - 4ms/step - accuracy: 0.9735 - loss: 0.0844 - val_accuracy: 0.9716 - val_loss: 0.0922\n",
      "Epoch 3/5\n",
      "1875/1875 - 7s - 4ms/step - accuracy: 0.9815 - loss: 0.0587 - val_accuracy: 0.9726 - val_loss: 0.0850\n",
      "Epoch 4/5\n",
      "1875/1875 - 7s - 4ms/step - accuracy: 0.9861 - loss: 0.0434 - val_accuracy: 0.9755 - val_loss: 0.0807\n",
      "Epoch 5/5\n",
      "1875/1875 - 7s - 4ms/step - accuracy: 0.9888 - loss: 0.0338 - val_accuracy: 0.9779 - val_loss: 0.0765\n",
      "Training with He Initialization\n",
      "Epoch 1/5\n",
      "1875/1875 - 8s - 4ms/step - accuracy: 0.9412 - loss: 0.1973 - val_accuracy: 0.9700 - val_loss: 0.0957\n",
      "Epoch 2/5\n",
      "1875/1875 - 7s - 4ms/step - accuracy: 0.9740 - loss: 0.0851 - val_accuracy: 0.9703 - val_loss: 0.0936\n",
      "Epoch 3/5\n",
      "1875/1875 - 7s - 4ms/step - accuracy: 0.9812 - loss: 0.0592 - val_accuracy: 0.9797 - val_loss: 0.0687\n",
      "Epoch 4/5\n",
      "1875/1875 - 7s - 4ms/step - accuracy: 0.9854 - loss: 0.0429 - val_accuracy: 0.9790 - val_loss: 0.0750\n",
      "Epoch 5/5\n",
      "1875/1875 - 7s - 4ms/step - accuracy: 0.9891 - loss: 0.0339 - val_accuracy: 0.9787 - val_loss: 0.0808\n"
     ]
    }
   ],
   "source": [
    "results = {}\n",
    "\n",
    "for name, initializer in initializers.items():\n",
    "    print(f\"Training with {name}\")\n",
    "    model = create_model(initializer)\n",
    "    history = model.fit(x_train, y_train, epochs=5, validation_data=(x_test, y_test), verbose=2)\n",
    "    results[name] = history.history\n"
   ]
  },
  {
   "cell_type": "code",
   "execution_count": null,
   "id": "e21c357a-7972-4e4a-83f6-fbe7ef5ff419",
   "metadata": {},
   "outputs": [],
   "source": []
  },
  {
   "cell_type": "markdown",
   "id": "adbaa6f1-d5eb-415f-a782-7af595918f50",
   "metadata": {},
   "source": [
    "#### Comparing the Performance of Different Initializers"
   ]
  },
  {
   "cell_type": "code",
   "execution_count": 6,
   "id": "dd7ac9c4-7afd-499d-b1c9-7848ccf6e01c",
   "metadata": {},
   "outputs": [
    {
     "data": {
      "image/png": "[encoded data removed]",
      "text/plain": [
       "<Figure size 640x480 with 1 Axes>"
      ]
     },
     "metadata": {},
     "output_type": "display_data"
    }
   ],
   "source": [
    "for name, history in results.items():\n",
    "    plt.plot(history['val_accuracy'], label=name)\n",
    "\n",
    "plt.title('Validation Accuracy Comparison')\n",
    "plt.xlabel('Epochs')\n",
    "plt.ylabel('Accuracy')\n",
    "plt.legend()\n",
    "plt.show()\n"
   ]
  },
  {
   "cell_type": "code",
   "execution_count": null,
   "id": "fb8ab5d1-069c-454a-842e-fe19a1c1ddf5",
   "metadata": {},
   "outputs": [],
   "source": []
  },
  {
   "cell_type": "markdown",
   "id": "1cee5e82-7d4b-4280-bbf7-85fb1804402f",
   "metadata": {},
   "source": [
    "### 9.  Discuss the considerations and tradeoffs when choosing the appropriate weight initialization technique for a given neural network architecture and task.\n",
    "### Ans : \n",
    "* Architecture: Different architectures may benefit from different initializations (e.g., deeper networks may need He initialization for ReLU activations).\n",
    "\n",
    "\n",
    "* Task: Some tasks might be more sensitive to initialization, requiring careful tuning.\n",
    "\n",
    "\n",
    "* Activation Function: The choice of activation function (e.g., sigmoid vs. ReLU) influences the appropriate initialization method.\n",
    "\n",
    "\n",
    "* Training Speed: Initializations that maintain variance can lead to faster convergence.\n",
    "\n",
    "\n",
    "* Stability: Proper initialization helps in maintaining training stability, especially in deeper networks.\n"
   ]
  },
  {
   "cell_type": "code",
   "execution_count": null,
   "id": "9454a436-c564-4b51-b5b9-5d8782a6b93a",
   "metadata": {},
   "outputs": [],
   "source": []
  },
  {
   "cell_type": "code",
   "execution_count": null,
   "id": "359c76c0-5c76-4fe2-a4c9-eaf619cd9c0a",
   "metadata": {},
   "outputs": [],
   "source": []
  }
 ],
 "metadata": {
  "kernelspec": {
   "display_name": "Python 3 (ipykernel)",
   "language": "python",
   "name": "python3"
  },
  "language_info": {
   "codemirror_mode": {
    "name": "ipython",
    "version": 3
   },
   "file_extension": ".py",
   "mimetype": "text/x-python",
   "name": "python",
   "nbconvert_exporter": "python",
   "pygments_lexer": "ipython3",
   "version": "3.10.8"
  }
 },
 "nbformat": 4,
 "nbformat_minor": 5
}
