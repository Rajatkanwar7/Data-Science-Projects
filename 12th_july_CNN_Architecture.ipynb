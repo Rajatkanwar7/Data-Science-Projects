{
 "cells": [
  {
   "cell_type": "markdown",
   "id": "87f6558a-1f75-4e20-8d6c-8e5924e6bcab",
   "metadata": {
    "tags": []
   },
   "source": [
    "## TOPIC: Understanding Pooling and Padding in CNN"
   ]
  },
  {
   "cell_type": "markdown",
   "id": "675ac5a2-baa3-451a-852c-27cd55275096",
   "metadata": {
    "tags": []
   },
   "source": [
    "### Q1. Describe the Purpose and Benefits of Pooling in CNNs\n",
    "###  Ans: \n",
    "**Pooling** is a crucial operation in Convolutional Neural Networks (CNNs) used to reduce the spatial dimensions (width and height) of the input volume for the next layers. This operation helps in:\n",
    "\n",
    "1. **Dimensionality Reduction**: Reduces the computational load by decreasing the number of parameters and operations in the network.\n",
    "2. **Feature Extraction**: Helps in retaining essential features while discarding less important details, thus providing a form of translation invariance.\n",
    "3. **Control Overfitting**: By reducing the size of the feature maps, pooling layers help prevent overfitting during training."
   ]
  },
  {
   "cell_type": "markdown",
   "id": "8a2d6bd9-d58e-4ebd-8e2b-19a8d1da5271",
   "metadata": {},
   "source": []
  },
  {
   "cell_type": "markdown",
   "id": "cef48c4f-2dba-45df-ba1e-fef3ca0592f6",
   "metadata": {},
   "source": [
    "### Q2. Explain the Difference Between Average Pooling and Max Pooling\n",
    "### Ans: \n",
    "**Max Pooling** and **Average Pooling** are the two primary types of pooling operations used in CNNs.\n",
    "\n",
    "- **Max Pooling**: Takes the maximum value from each window of the input feature map. It highlights the most prominent features and provides robustness to position variations of features within the input.\n",
    "- **Average Pooling**: Calculates the average value from each window of the input feature map. It provides a smoothing effect and retains overall feature information, often used in tasks where the presence of features is more critical than their maximum activation."
   ]
  },
  {
   "cell_type": "markdown",
   "id": "283b45a3-0372-439b-9fd5-5e440c622019",
   "metadata": {},
   "source": []
  },
  {
   "cell_type": "markdown",
   "id": "6d6f81e8-dd52-42cc-ad70-19c447ce5734",
   "metadata": {},
   "source": [
    "### Q3.  Discuss the Concept of Padding in CNNs and Its Significance.\n",
    "### Ans: \n",
    "**Padding** is the process of adding extra pixels (usually zeros) around the input image before applying convolution. The significance of padding includes:\n",
    "\n",
    "1. **Control Output Size**: Padding helps in preserving the spatial dimensions of the input image after convolution, especially when the convolution operation would otherwise reduce the size.\n",
    "2. **Preserve Border Information**: Without padding, the information at the borders and corners of the image would be less effectively utilized.\n",
    "3. **Enable Deep Networks**: By controlling the size reduction through padding, it becomes feasible to stack more layers without excessively reducing the feature map size."
   ]
  },
  {
   "cell_type": "markdown",
   "id": "66a7b8be-63f5-4294-b3f4-95660485dd6b",
   "metadata": {},
   "source": []
  },
  {
   "cell_type": "markdown",
   "id": "10f5528b-3492-44bf-a552-96e700cf963d",
   "metadata": {},
   "source": [
    "### Q4.  Compare and Contrast Zero-Padding and Valid-Padding in terms on their effect on output feature map size.\n",
    "### Ans: \n",
    "- **Zero-Padding**: Also known as \"same padding,\" this type of padding adds zeros around the input so that the output feature map has the same spatial dimensions as the input feature map (assuming stride = 1). This allows the CNN to preserve the spatial size of the input throughout the network, which is essential for certain tasks requiring fine-grained spatial information.\n",
    "\n",
    "- **Valid-Padding**: Also known as \"no padding,\" this type of padding does not add any extra pixels around the input. Consequently, the output feature map size is reduced compared to the input, based on the kernel size. This approach results in fewer computations but also a reduced feature map size, which may lose some border information."
   ]
  },
  {
   "cell_type": "markdown",
   "id": "5f6ca258-5e49-41e2-bf50-f9a350675cb1",
   "metadata": {},
   "source": [
    "### Effects on Output Feature Map Size\n",
    "\n",
    "- **Zero-Padding**:\n",
    "  - Preserves the spatial dimensions of the input.\n",
    "  - Formula for output dimensions with zero-padding: \n",
    "    \n",
    "    Output Size =(Input size/Stride)\n",
    "    \n",
    "\n",
    "- **Valid-Padding**:\n",
    "  - Reduces the spatial dimensions of the input.\n",
    "  - Formula for output dimensions with valid-padding: \n",
    "    \n",
    "    Output Size = (Input Size - Kernel Size + 1)/ Stride\n",
    "    "
   ]
  },
  {
   "cell_type": "markdown",
   "id": "cec8d605-9f34-4dac-9572-0ff3896e0ded",
   "metadata": {},
   "source": []
  },
  {
   "cell_type": "code",
   "execution_count": null,
   "id": "f1fe4448-1a80-44f9-9070-b0549d1bd98c",
   "metadata": {},
   "outputs": [],
   "source": []
  },
  {
   "cell_type": "markdown",
   "id": "4fd4073a-5774-4ff9-9343-74346fd64d0e",
   "metadata": {},
   "source": [
    "## TOPIC: Exploring LeNet"
   ]
  },
  {
   "cell_type": "markdown",
   "id": "4aa41cf4-6dc2-4061-8dcf-c10e346a1bf8",
   "metadata": {},
   "source": [
    "### Q1. Provide a breif overview of LeNet-5 architecture."
   ]
  },
  {
   "cell_type": "markdown",
   "id": "69e6bc0e-01b7-439d-a40f-83fbb1576857",
   "metadata": {},
   "source": [
    "### Ans: \n",
    "### Overview of LeNet-5 Architecture\n",
    "\n",
    "LeNet-5, developed by Yann LeCun and his colleagues in 1998, is one of the pioneering convolutional neural network architectures designed primarily for handwritten digit recognition in the MNIST dataset. It consists of seven layers (excluding the input layer) with trainable parameters, including convolutional layers, pooling layers, and fully connected layers."
   ]
  },
  {
   "cell_type": "markdown",
   "id": "ba077a00-c52a-4afb-985b-146d2607f653",
   "metadata": {},
   "source": []
  },
  {
   "cell_type": "markdown",
   "id": "7bd511ad-6c5a-429c-90a4-e9a494721556",
   "metadata": {},
   "source": [
    "### Q2. Describe  the key components oj LeNet-5 and their respective purposes."
   ]
  },
  {
   "cell_type": "markdown",
   "id": "35938e01-e604-49ff-96a6-656b3732e2e9",
   "metadata": {},
   "source": [
    "### Ans: \n",
    "\n",
    "### Key Components of LeNet-5 and Their Purposes\n",
    "\n",
    "1. **Input Layer**:\n",
    "   - **Size**: 32x32 pixels\n",
    "   - **Purpose**: Standardizes the input image size to ensure consistency throughout the network.\n",
    "\n",
    "2. **C1 - First Convolutional Layer**:\n",
    "   - **Filters**: 6 filters of size 5x5\n",
    "   - **Output**: 28x28x6 feature maps\n",
    "   - **Purpose**: Detects low-level features such as edges and textures.\n",
    "\n",
    "3. **S2 - First Subsampling (Pooling) Layer**:\n",
    "   - **Type**: Average pooling with a 2x2 filter and stride of 2\n",
    "   - **Output**: 14x14x6 feature maps\n",
    "   - **Purpose**: Reduces the spatial dimensions, thus decreasing computational complexity and introducing some translation invariance.\n",
    "\n",
    "4. **C3 - Second Convolutional Layer**:\n",
    "   - **Filters**: 16 filters of size 5x5\n",
    "   - **Output**: 10x10x16 feature maps\n",
    "   - **Purpose**: Detects more complex features by combining the low-level features extracted in C1.\n",
    "\n",
    "5. **S4 - Second Subsampling (Pooling) Layer**:\n",
    "   - **Type**: Average pooling with a 2x2 filter and stride of 2\n",
    "   - **Output**: 5x5x16 feature maps\n",
    "   - **Purpose**: Further reduces the spatial dimensions and computational load, while retaining essential features.\n",
    "\n",
    "6. **C5 - Third Convolutional Layer**:\n",
    "   - **Filters**: 120 filters of size 5x5\n",
    "   - **Output**: 1x1x120 feature maps\n",
    "   - **Purpose**: Acts as a fully connected layer, performing a dot product with the input.\n",
    "\n",
    "7. **F6 - Fully Connected Layer**:\n",
    "   - **Neurons**: 84 neurons\n",
    "   - **Purpose**: Combines features to prepare for classification.\n",
    "\n",
    "8. **Output Layer**:\n",
    "   - **Neurons**: 10 neurons (one for each digit 0-9)\n",
    "   - **Activation**: Softmax\n",
    "   - **Purpose**: Produces the final classification probabilities for each class."
   ]
  },
  {
   "cell_type": "markdown",
   "id": "d87308f0-65ca-4382-a598-88314896c666",
   "metadata": {},
   "source": []
  },
  {
   "cell_type": "markdown",
   "id": "94675d5b-15be-4713-b761-b6fb9981b37e",
   "metadata": {},
   "source": [
    "### Q3. Discuss the advantages and limitations oj LeNet-5 in the context oj image classification tasks."
   ]
  },
  {
   "cell_type": "markdown",
   "id": "490e5517-47ce-41cf-b4c1-e397666de292",
   "metadata": {
    "tags": []
   },
   "source": [
    "### Ans: \n",
    "\n",
    "### Advantages and Limitations of LeNet-5 in Image Classification\n",
    "\n",
    "**Advantages**:\n",
    "1. **Pioneering Architecture**: Set the foundation for modern CNNs.\n",
    "2. **Efficient for Small Datasets**: Performs well on small, low-resolution images like MNIST.\n",
    "3. **Simple and Effective**: Achieves high accuracy with a relatively simple architecture.\n",
    "\n",
    "**Limitations**:\n",
    "1. **Scalability**: Not suitable for large, high-resolution images or complex datasets.\n",
    "2. **Depth**: Shallow compared to modern deep networks, limiting its ability to learn complex features.\n",
    "3. **Computational Efficiency**: Modern architectures are optimized for better performance on current hardware."
   ]
  },
  {
   "cell_type": "markdown",
   "id": "29e798fe-12d6-4e54-9a24-856460af7572",
   "metadata": {
    "tags": []
   },
   "source": []
  },
  {
   "cell_type": "markdown",
   "id": "d9e15d4e-2dae-44bc-b948-2885c710567c",
   "metadata": {
    "tags": []
   },
   "source": [
    "### Q4. Implement LeNet-5 using a deep learning framework of your choice (e.g., TensorFlow, PyTocch) and train it on apublicaly available dataset (e.g., MNIST). Evaluate its performance and provide insights."
   ]
  },
  {
   "cell_type": "code",
   "execution_count": 2,
   "id": "00b29a06-2e02-40d4-a836-431566acc8bd",
   "metadata": {},
   "outputs": [
    {
     "name": "stdout",
     "output_type": "stream",
     "text": [
      "Collecting tensorflow\n",
      "  Downloading tensorflow-2.17.0-cp310-cp310-manylinux_2_17_x86_64.manylinux2014_x86_64.whl (601.3 MB)\n",
      "\u001b[2K     \u001b[90m━━━━━━━━━━━━━━━━━━━━━━━━━━━━━━━━━━━━━━━\u001b[0m \u001b[32m601.3/601.3 MB\u001b[0m \u001b[31m2.8 MB/s\u001b[0m eta \u001b[36m0:00:00\u001b[0m00:01\u001b[0m00:01\u001b[0m\n",
      "\u001b[?25hCollecting astunparse>=1.6.0\n",
      "  Downloading astunparse-1.6.3-py2.py3-none-any.whl (12 kB)\n",
      "Requirement already satisfied: typing-extensions>=3.6.6 in /opt/conda/lib/python3.10/site-packages (from tensorflow) (4.4.0)\n",
      "Collecting termcolor>=1.1.0\n",
      "  Downloading termcolor-2.4.0-py3-none-any.whl (7.7 kB)\n",
      "Collecting google-pasta>=0.1.1\n",
      "  Downloading google_pasta-0.2.0-py3-none-any.whl (57 kB)\n",
      "\u001b[2K     \u001b[90m━━━━━━━━━━━━━━━━━━━━━━━━━━━━━━━━━━━━━━━━\u001b[0m \u001b[32m57.5/57.5 kB\u001b[0m \u001b[31m9.4 MB/s\u001b[0m eta \u001b[36m0:00:00\u001b[0m\n",
      "\u001b[?25hCollecting tensorboard<2.18,>=2.17\n",
      "  Downloading tensorboard-2.17.0-py3-none-any.whl (5.5 MB)\n",
      "\u001b[2K     \u001b[90m━━━━━━━━━━━━━━━━━━━━━━━━━━━━━━━━━━━━━━━━\u001b[0m \u001b[32m5.5/5.5 MB\u001b[0m \u001b[31m40.9 MB/s\u001b[0m eta \u001b[36m0:00:00\u001b[0m00:01\u001b[0m:00:01\u001b[0m\n",
      "\u001b[?25hRequirement already satisfied: protobuf!=4.21.0,!=4.21.1,!=4.21.2,!=4.21.3,!=4.21.4,!=4.21.5,<5.0.0dev,>=3.20.3 in /opt/conda/lib/python3.10/site-packages (from tensorflow) (4.21.11)\n",
      "Collecting libclang>=13.0.0\n",
      "  Downloading libclang-18.1.1-py2.py3-none-manylinux2010_x86_64.whl (24.5 MB)\n",
      "\u001b[2K     \u001b[90m━━━━━━━━━━━━━━━━━━━━━━━━━━━━━━━━━━━━━━━━\u001b[0m \u001b[32m24.5/24.5 MB\u001b[0m \u001b[31m39.3 MB/s\u001b[0m eta \u001b[36m0:00:00\u001b[0m00:01\u001b[0m00:01\u001b[0m\n",
      "\u001b[?25hCollecting opt-einsum>=2.3.2\n",
      "  Downloading opt_einsum-3.3.0-py3-none-any.whl (65 kB)\n",
      "\u001b[2K     \u001b[90m━━━━━━━━━━━━━━━━━━━━━━━━━━━━━━━━━━━━━━━━\u001b[0m \u001b[32m65.5/65.5 kB\u001b[0m \u001b[31m10.0 MB/s\u001b[0m eta \u001b[36m0:00:00\u001b[0m\n",
      "\u001b[?25hCollecting h5py>=3.10.0\n",
      "  Downloading h5py-3.11.0-cp310-cp310-manylinux_2_17_x86_64.manylinux2014_x86_64.whl (5.3 MB)\n",
      "\u001b[2K     \u001b[90m━━━━━━━━━━━━━━━━━━━━━━━━━━━━━━━━━━━━━━━━\u001b[0m \u001b[32m5.3/5.3 MB\u001b[0m \u001b[31m61.7 MB/s\u001b[0m eta \u001b[36m0:00:00\u001b[0m:00:01\u001b[0m00:01\u001b[0m\n",
      "\u001b[?25hRequirement already satisfied: requests<3,>=2.21.0 in /opt/conda/lib/python3.10/site-packages (from tensorflow) (2.28.1)\n",
      "Collecting gast!=0.5.0,!=0.5.1,!=0.5.2,>=0.2.1\n",
      "  Downloading gast-0.6.0-py3-none-any.whl (21 kB)\n",
      "Collecting ml-dtypes<0.5.0,>=0.3.1\n",
      "  Downloading ml_dtypes-0.4.0-cp310-cp310-manylinux_2_17_x86_64.manylinux2014_x86_64.whl (2.2 MB)\n",
      "\u001b[2K     \u001b[90m━━━━━━━━━━━━━━━━━━━━━━━━━━━━━━━━━━━━━━━━\u001b[0m \u001b[32m2.2/2.2 MB\u001b[0m \u001b[31m57.8 MB/s\u001b[0m eta \u001b[36m0:00:00\u001b[0m:00:01\u001b[0m\n",
      "\u001b[?25hRequirement already satisfied: packaging in /opt/conda/lib/python3.10/site-packages (from tensorflow) (22.0)\n",
      "Requirement already satisfied: setuptools in /opt/conda/lib/python3.10/site-packages (from tensorflow) (65.5.1)\n",
      "Collecting absl-py>=1.0.0\n",
      "  Downloading absl_py-2.1.0-py3-none-any.whl (133 kB)\n",
      "\u001b[2K     \u001b[90m━━━━━━━━━━━━━━━━━━━━━━━━━━━━━━━━━━━━━━\u001b[0m \u001b[32m133.7/133.7 kB\u001b[0m \u001b[31m18.7 MB/s\u001b[0m eta \u001b[36m0:00:00\u001b[0m\n",
      "\u001b[?25hCollecting flatbuffers>=24.3.25\n",
      "  Downloading flatbuffers-24.3.25-py2.py3-none-any.whl (26 kB)\n",
      "Requirement already satisfied: six>=1.12.0 in /opt/conda/lib/python3.10/site-packages (from tensorflow) (1.16.0)\n",
      "Collecting keras>=3.2.0\n",
      "  Downloading keras-3.4.1-py3-none-any.whl (1.1 MB)\n",
      "\u001b[2K     \u001b[90m━━━━━━━━━━━━━━━━━━━━━━━━━━━━━━━━━━━━━━━━\u001b[0m \u001b[32m1.1/1.1 MB\u001b[0m \u001b[31m55.4 MB/s\u001b[0m eta \u001b[36m0:00:00\u001b[0m\n",
      "\u001b[?25hCollecting tensorflow-io-gcs-filesystem>=0.23.1\n",
      "  Downloading tensorflow_io_gcs_filesystem-0.37.1-cp310-cp310-manylinux_2_17_x86_64.manylinux2014_x86_64.whl (5.1 MB)\n",
      "\u001b[2K     \u001b[90m━━━━━━━━━━━━━━━━━━━━━━━━━━━━━━━━━━━━━━━━\u001b[0m \u001b[32m5.1/5.1 MB\u001b[0m \u001b[31m64.3 MB/s\u001b[0m eta \u001b[36m0:00:00\u001b[0m00:01\u001b[0m00:01\u001b[0m\n",
      "\u001b[?25hCollecting wrapt>=1.11.0\n",
      "  Downloading wrapt-1.16.0-cp310-cp310-manylinux_2_5_x86_64.manylinux1_x86_64.manylinux_2_17_x86_64.manylinux2014_x86_64.whl (80 kB)\n",
      "\u001b[2K     \u001b[90m━━━━━━━━━━━━━━━━━━━━━━━━━━━━━━━━━━━━━━━━\u001b[0m \u001b[32m80.3/80.3 kB\u001b[0m \u001b[31m12.7 MB/s\u001b[0m eta \u001b[36m0:00:00\u001b[0m\n",
      "\u001b[?25hRequirement already satisfied: numpy<2.0.0,>=1.23.5 in /opt/conda/lib/python3.10/site-packages (from tensorflow) (1.23.5)\n",
      "Collecting grpcio<2.0,>=1.24.3\n",
      "  Downloading grpcio-1.65.4-cp310-cp310-manylinux_2_17_x86_64.manylinux2014_x86_64.whl (5.7 MB)\n",
      "\u001b[2K     \u001b[90m━━━━━━━━━━━━━━━━━━━━━━━━━━━━━━━━━━━━━━━━\u001b[0m \u001b[32m5.7/5.7 MB\u001b[0m \u001b[31m67.1 MB/s\u001b[0m eta \u001b[36m0:00:00\u001b[0m:00:01\u001b[0m00:01\u001b[0m\n",
      "\u001b[?25hRequirement already satisfied: wheel<1.0,>=0.23.0 in /opt/conda/lib/python3.10/site-packages (from astunparse>=1.6.0->tensorflow) (0.38.4)\n",
      "Collecting optree\n",
      "  Downloading optree-0.12.1-cp310-cp310-manylinux_2_17_x86_64.manylinux2014_x86_64.whl (347 kB)\n",
      "\u001b[2K     \u001b[90m━━━━━━━━━━━━━━━━━━━━━━━━━━━━━━━━━━━━━━\u001b[0m \u001b[32m347.7/347.7 kB\u001b[0m \u001b[31m27.7 MB/s\u001b[0m eta \u001b[36m0:00:00\u001b[0m\n",
      "\u001b[?25hCollecting namex\n",
      "  Downloading namex-0.0.8-py3-none-any.whl (5.8 kB)\n",
      "Collecting rich\n",
      "  Downloading rich-13.7.1-py3-none-any.whl (240 kB)\n",
      "\u001b[2K     \u001b[90m━━━━━━━━━━━━━━━━━━━━━━━━━━━━━━━━━━━━━━\u001b[0m \u001b[32m240.7/240.7 kB\u001b[0m \u001b[31m26.6 MB/s\u001b[0m eta \u001b[36m0:00:00\u001b[0m\n",
      "\u001b[?25hRequirement already satisfied: urllib3<1.27,>=1.21.1 in /opt/conda/lib/python3.10/site-packages (from requests<3,>=2.21.0->tensorflow) (1.26.13)\n",
      "Requirement already satisfied: idna<4,>=2.5 in /opt/conda/lib/python3.10/site-packages (from requests<3,>=2.21.0->tensorflow) (3.4)\n",
      "Requirement already satisfied: certifi>=2017.4.17 in /opt/conda/lib/python3.10/site-packages (from requests<3,>=2.21.0->tensorflow) (2022.12.7)\n",
      "Requirement already satisfied: charset-normalizer<3,>=2 in /opt/conda/lib/python3.10/site-packages (from requests<3,>=2.21.0->tensorflow) (2.1.1)\n",
      "Collecting tensorboard-data-server<0.8.0,>=0.7.0\n",
      "  Downloading tensorboard_data_server-0.7.2-py3-none-manylinux_2_31_x86_64.whl (6.6 MB)\n",
      "\u001b[2K     \u001b[90m━━━━━━━━━━━━━━━━━━━━━━━━━━━━━━━━━━━━━━━━\u001b[0m \u001b[32m6.6/6.6 MB\u001b[0m \u001b[31m68.2 MB/s\u001b[0m eta \u001b[36m0:00:00\u001b[0m:00:01\u001b[0m00:01\u001b[0m\n",
      "\u001b[?25hCollecting markdown>=2.6.8\n",
      "  Downloading Markdown-3.6-py3-none-any.whl (105 kB)\n",
      "\u001b[2K     \u001b[90m━━━━━━━━━━━━━━━━━━━━━━━━━━━━━━━━━━━━━━\u001b[0m \u001b[32m105.4/105.4 kB\u001b[0m \u001b[31m15.6 MB/s\u001b[0m eta \u001b[36m0:00:00\u001b[0m\n",
      "\u001b[?25hCollecting werkzeug>=1.0.1\n",
      "  Downloading werkzeug-3.0.3-py3-none-any.whl (227 kB)\n",
      "\u001b[2K     \u001b[90m━━━━━━━━━━━━━━━━━━━━━━━━━━━━━━━━━━━━━━\u001b[0m \u001b[32m227.3/227.3 kB\u001b[0m \u001b[31m26.4 MB/s\u001b[0m eta \u001b[36m0:00:00\u001b[0m\n",
      "\u001b[?25hRequirement already satisfied: MarkupSafe>=2.1.1 in /opt/conda/lib/python3.10/site-packages (from werkzeug>=1.0.1->tensorboard<2.18,>=2.17->tensorflow) (2.1.1)\n",
      "Collecting typing-extensions>=3.6.6\n",
      "  Downloading typing_extensions-4.12.2-py3-none-any.whl (37 kB)\n",
      "Collecting markdown-it-py>=2.2.0\n",
      "  Downloading markdown_it_py-3.0.0-py3-none-any.whl (87 kB)\n",
      "\u001b[2K     \u001b[90m━━━━━━━━━━━━━━━━━━━━━━━━━━━━━━━━━━━━━━━━\u001b[0m \u001b[32m87.5/87.5 kB\u001b[0m \u001b[31m14.7 MB/s\u001b[0m eta \u001b[36m0:00:00\u001b[0m\n",
      "\u001b[?25hRequirement already satisfied: pygments<3.0.0,>=2.13.0 in /opt/conda/lib/python3.10/site-packages (from rich->keras>=3.2.0->tensorflow) (2.13.0)\n",
      "Collecting mdurl~=0.1\n",
      "  Downloading mdurl-0.1.2-py3-none-any.whl (10.0 kB)\n",
      "Installing collected packages: namex, libclang, flatbuffers, wrapt, werkzeug, typing-extensions, termcolor, tensorflow-io-gcs-filesystem, tensorboard-data-server, opt-einsum, ml-dtypes, mdurl, markdown, h5py, grpcio, google-pasta, gast, astunparse, absl-py, tensorboard, optree, markdown-it-py, rich, keras, tensorflow\n",
      "  Attempting uninstall: typing-extensions\n",
      "    Found existing installation: typing_extensions 4.4.0\n",
      "    Uninstalling typing_extensions-4.4.0:\n",
      "      Successfully uninstalled typing_extensions-4.4.0\n",
      "  Attempting uninstall: h5py\n",
      "    Found existing installation: h5py 3.7.0\n",
      "    Uninstalling h5py-3.7.0:\n",
      "      Successfully uninstalled h5py-3.7.0\n",
      "Successfully installed absl-py-2.1.0 astunparse-1.6.3 flatbuffers-24.3.25 gast-0.6.0 google-pasta-0.2.0 grpcio-1.65.4 h5py-3.11.0 keras-3.4.1 libclang-18.1.1 markdown-3.6 markdown-it-py-3.0.0 mdurl-0.1.2 ml-dtypes-0.4.0 namex-0.0.8 opt-einsum-3.3.0 optree-0.12.1 rich-13.7.1 tensorboard-2.17.0 tensorboard-data-server-0.7.2 tensorflow-2.17.0 tensorflow-io-gcs-filesystem-0.37.1 termcolor-2.4.0 typing-extensions-4.12.2 werkzeug-3.0.3 wrapt-1.16.0\n"
     ]
    }
   ],
   "source": [
    "!pip install tensorflow"
   ]
  },
  {
   "cell_type": "code",
   "execution_count": 8,
   "id": "2b8bc9bb-2b77-4a2b-a9cd-0a09cb4373c8",
   "metadata": {},
   "outputs": [],
   "source": [
    "### Implementation of LeNet-5 using TensorFlow and Evaluation\n",
    "import tensorflow as tf\n",
    "from tensorflow.keras import layers, models, datasets, utils"
   ]
  },
  {
   "cell_type": "code",
   "execution_count": 9,
   "id": "fc187779-ebbd-4f6f-a482-73c7658f65bb",
   "metadata": {},
   "outputs": [],
   "source": [
    "from PIL import Image\n",
    "import numpy as np"
   ]
  },
  {
   "cell_type": "code",
   "execution_count": 10,
   "id": "7b792235-5418-4dbc-bc0c-a744b4a1786a",
   "metadata": {},
   "outputs": [],
   "source": [
    "# Load and preprocess the MNIST dataset\n",
    "(train_images, train_labels), (test_images, test_labels) = datasets.mnist.load_data()"
   ]
  },
  {
   "cell_type": "code",
   "execution_count": 11,
   "id": "6ef25ade-e3de-4602-9e6d-38281dd0aaa2",
   "metadata": {},
   "outputs": [],
   "source": [
    "# Resize images from 28x28 to 32x32\n",
    "def resize_images(images):\n",
    "    resized_images = np.zeros((images.shape[0], 32, 32, 1), dtype='float32')\n",
    "    for i in range(images.shape[0]):\n",
    "        img = Image.fromarray(images[i])\n",
    "        img = img.resize((32, 32))\n",
    "        resized_images[i] = np.expand_dims(np.array(img), axis=-1)\n",
    "    return resized_images\n",
    "\n",
    "train_images = resize_images(train_images)\n",
    "test_images = resize_images(test_images)\n",
    "\n",
    "# Normalize the images\n",
    "train_images /= 255.0\n",
    "test_images /= 255.0"
   ]
  },
  {
   "cell_type": "code",
   "execution_count": 12,
   "id": "3d4dd200-5d43-4948-9b44-32fe84f5c42f",
   "metadata": {},
   "outputs": [],
   "source": [
    "# Convert labels to categorical format\n",
    "train_labels = utils.to_categorical(train_labels)\n",
    "test_labels = utils.to_categorical(test_labels)"
   ]
  },
  {
   "cell_type": "code",
   "execution_count": 13,
   "id": "79005c1d-4c5b-4977-88ce-fd73d0589a5f",
   "metadata": {},
   "outputs": [
    {
     "name": "stderr",
     "output_type": "stream",
     "text": [
      "/opt/conda/lib/python3.10/site-packages/keras/src/layers/convolutional/base_conv.py:107: UserWarning: Do not pass an `input_shape`/`input_dim` argument to a layer. When using Sequential models, prefer using an `Input(shape)` object as the first layer in the model instead.\n",
      "  super().__init__(activity_regularizer=activity_regularizer, **kwargs)\n"
     ]
    }
   ],
   "source": [
    "# Define the LeNet-5 model\n",
    "model = models.Sequential([\n",
    "    layers.Conv2D(6, (5, 5), activation='relu', input_shape=(32, 32, 1)),\n",
    "    layers.AveragePooling2D((2, 2)),\n",
    "    layers.Conv2D(16, (5, 5), activation='relu'),\n",
    "    layers.AveragePooling2D((2, 2)),\n",
    "    layers.Conv2D(120, (5, 5), activation='relu'),\n",
    "    layers.Flatten(),\n",
    "    layers.Dense(84, activation='relu'),\n",
    "    layers.Dense(10, activation='softmax')\n",
    "])"
   ]
  },
  {
   "cell_type": "code",
   "execution_count": 14,
   "id": "7d2365b0-bd53-49d7-ae95-b49dd0011160",
   "metadata": {},
   "outputs": [],
   "source": [
    "# Compile the model\n",
    "model.compile(optimizer='adam', loss='categorical_crossentropy', metrics=['accuracy'])"
   ]
  },
  {
   "cell_type": "code",
   "execution_count": 15,
   "id": "918940e9-363c-4934-97ae-6d70b76afcfd",
   "metadata": {},
   "outputs": [
    {
     "name": "stdout",
     "output_type": "stream",
     "text": [
      "Epoch 1/10\n",
      "\u001b[1m469/469\u001b[0m \u001b[32m━━━━━━━━━━━━━━━━━━━━\u001b[0m\u001b[37m\u001b[0m \u001b[1m9s\u001b[0m 15ms/step - accuracy: 0.7721 - loss: 0.7396 - val_accuracy: 0.9574 - val_loss: 0.1363\n",
      "Epoch 2/10\n",
      "\u001b[1m469/469\u001b[0m \u001b[32m━━━━━━━━━━━━━━━━━━━━\u001b[0m\u001b[37m\u001b[0m \u001b[1m6s\u001b[0m 14ms/step - accuracy: 0.9594 - loss: 0.1318 - val_accuracy: 0.9777 - val_loss: 0.0694\n",
      "Epoch 3/10\n",
      "\u001b[1m469/469\u001b[0m \u001b[32m━━━━━━━━━━━━━━━━━━━━\u001b[0m\u001b[37m\u001b[0m \u001b[1m6s\u001b[0m 14ms/step - accuracy: 0.9766 - loss: 0.0748 - val_accuracy: 0.9823 - val_loss: 0.0533\n",
      "Epoch 4/10\n",
      "\u001b[1m469/469\u001b[0m \u001b[32m━━━━━━━━━━━━━━━━━━━━\u001b[0m\u001b[37m\u001b[0m \u001b[1m6s\u001b[0m 13ms/step - accuracy: 0.9811 - loss: 0.0621 - val_accuracy: 0.9836 - val_loss: 0.0505\n",
      "Epoch 5/10\n",
      "\u001b[1m469/469\u001b[0m \u001b[32m━━━━━━━━━━━━━━━━━━━━\u001b[0m\u001b[37m\u001b[0m \u001b[1m6s\u001b[0m 13ms/step - accuracy: 0.9864 - loss: 0.0448 - val_accuracy: 0.9850 - val_loss: 0.0479\n",
      "Epoch 6/10\n",
      "\u001b[1m469/469\u001b[0m \u001b[32m━━━━━━━━━━━━━━━━━━━━\u001b[0m\u001b[37m\u001b[0m \u001b[1m6s\u001b[0m 13ms/step - accuracy: 0.9871 - loss: 0.0417 - val_accuracy: 0.9867 - val_loss: 0.0415\n",
      "Epoch 7/10\n",
      "\u001b[1m469/469\u001b[0m \u001b[32m━━━━━━━━━━━━━━━━━━━━\u001b[0m\u001b[37m\u001b[0m \u001b[1m6s\u001b[0m 14ms/step - accuracy: 0.9887 - loss: 0.0363 - val_accuracy: 0.9871 - val_loss: 0.0387\n",
      "Epoch 8/10\n",
      "\u001b[1m469/469\u001b[0m \u001b[32m━━━━━━━━━━━━━━━━━━━━\u001b[0m\u001b[37m\u001b[0m \u001b[1m6s\u001b[0m 14ms/step - accuracy: 0.9897 - loss: 0.0328 - val_accuracy: 0.9887 - val_loss: 0.0350\n",
      "Epoch 9/10\n",
      "\u001b[1m469/469\u001b[0m \u001b[32m━━━━━━━━━━━━━━━━━━━━\u001b[0m\u001b[37m\u001b[0m \u001b[1m7s\u001b[0m 14ms/step - accuracy: 0.9914 - loss: 0.0265 - val_accuracy: 0.9896 - val_loss: 0.0304\n",
      "Epoch 10/10\n",
      "\u001b[1m469/469\u001b[0m \u001b[32m━━━━━━━━━━━━━━━━━━━━\u001b[0m\u001b[37m\u001b[0m \u001b[1m6s\u001b[0m 14ms/step - accuracy: 0.9926 - loss: 0.0235 - val_accuracy: 0.9900 - val_loss: 0.0319\n"
     ]
    }
   ],
   "source": [
    "# Train the model\n",
    "history = model.fit(train_images, train_labels, epochs=10, batch_size=128, validation_data=(test_images, test_labels))"
   ]
  },
  {
   "cell_type": "code",
   "execution_count": 16,
   "id": "e4f0fa97-d2fe-4d3d-885e-6d897e0347d3",
   "metadata": {},
   "outputs": [
    {
     "name": "stdout",
     "output_type": "stream",
     "text": [
      "\u001b[1m313/313\u001b[0m \u001b[32m━━━━━━━━━━━━━━━━━━━━\u001b[0m\u001b[37m\u001b[0m \u001b[1m1s\u001b[0m 4ms/step - accuracy: 0.9878 - loss: 0.0397\n",
      "Test accuracy: 0.9900\n"
     ]
    }
   ],
   "source": [
    "# Evaluate the model\n",
    "test_loss, test_acc = model.evaluate(test_images, test_labels)\n",
    "print(f'Test accuracy: {test_acc:.4f}')"
   ]
  },
  {
   "cell_type": "code",
   "execution_count": 17,
   "id": "8fca3c80-d6e5-4065-af49-407df7c1b572",
   "metadata": {},
   "outputs": [
    {
     "data": {
      "image/png": "[encoded data removed]",
      "text/plain": [
       "<Figure size 1200x400 with 2 Axes>"
      ]
     },
     "metadata": {},
     "output_type": "display_data"
    }
   ],
   "source": [
    "# Plot training & validation accuracy and loss\n",
    "import matplotlib.pyplot as plt\n",
    "\n",
    "plt.figure(figsize=(12, 4))\n",
    "plt.subplot(1, 2, 1)\n",
    "plt.plot(history.history['accuracy'])\n",
    "plt.plot(history.history['val_accuracy'])\n",
    "plt.title('Model accuracy')\n",
    "plt.ylabel('Accuracy')\n",
    "plt.xlabel('Epoch')\n",
    "plt.legend(['Train', 'Test'], loc='upper left')\n",
    "\n",
    "plt.subplot(1, 2, 2)\n",
    "plt.plot(history.history['loss'])\n",
    "plt.plot(history.history['val_loss'])\n",
    "plt.title('Model loss')\n",
    "plt.ylabel('Loss')\n",
    "plt.xlabel('Epoch')\n",
    "plt.legend(['Train', 'Test'], loc='upper left')\n",
    "\n",
    "plt.show()"
   ]
  },
  {
   "cell_type": "code",
   "execution_count": null,
   "id": "985eae45-1f97-4d97-8348-b6542a2ce801",
   "metadata": {},
   "outputs": [],
   "source": []
  },
  {
   "cell_type": "markdown",
   "id": "e9296b03-b166-41e3-ba68-9b6e78ac07a8",
   "metadata": {},
   "source": [
    "### Insights"
   ]
  },
  {
   "cell_type": "markdown",
   "id": "2f401fb8-3f86-4aa6-9b31-a2696951ee13",
   "metadata": {},
   "source": [
    "- **Accuracy**: LeNet-5 achieves high accuracy on the MNIST dataset, demonstrating its effectiveness for simple digit recognition tasks.\n",
    "- **Convergence**: The model converges quickly within a few epochs, indicating efficient learning from the data.\n",
    "- **Training and Validation Trends**: Consistent trends between training and validation metrics suggest good generalization without significant overfitting.\n",
    "\n",
    "This implementation highlights the strengths of LeNet-5 in handling simple image classification tasks and its limitations when applied to more complex, high-dimensional datasets."
   ]
  },
  {
   "cell_type": "code",
   "execution_count": null,
   "id": "f6efaf80-48b0-4e02-99c9-09a232284ae2",
   "metadata": {},
   "outputs": [],
   "source": []
  },
  {
   "cell_type": "code",
   "execution_count": null,
   "id": "4a1c99b9-bccf-4e19-9658-44151fc76e54",
   "metadata": {},
   "outputs": [],
   "source": []
  },
  {
   "cell_type": "markdown",
   "id": "6cd06acf-ddac-4c48-8cb6-baef73274b4a",
   "metadata": {},
   "source": [
    "## TOPIC: Analyzing AlexNet"
   ]
  },
  {
   "cell_type": "markdown",
   "id": "4f1670ef-17b7-4bb7-8f66-fb52a66b1559",
   "metadata": {},
   "source": [
    "### Q1. Present an overview of the AlexNet architecture."
   ]
  },
  {
   "cell_type": "markdown",
   "id": "f30652e6-3a18-41d1-be23-c38bf55c9892",
   "metadata": {},
   "source": [
    "### Ans: \n",
    "### Overview of the AlexNet Architecture\n",
    "\n",
    "AlexNet, developed by Alex Krizhevsky, Ilya Sutskever, and Geoffrey Hinton, won the ImageNet Large Scale Visual Recognition Challenge (ILSVRC) in 2012. It marked a significant advancement in deep learning and convolutional neural networks. The architecture consists of eight layers: five convolutional layers followed by three fully connected layers."
   ]
  },
  {
   "cell_type": "markdown",
   "id": "bdfc4af1-bbd8-4931-980f-00a2c16a0164",
   "metadata": {},
   "source": []
  },
  {
   "cell_type": "markdown",
   "id": "2753a871-31fa-434d-89a8-f525d476475d",
   "metadata": {},
   "source": [
    "### Q2. Explain the architectucal innovations intcoduced in AlexNet that contciruted to its breaakthrough performance."
   ]
  },
  {
   "cell_type": "markdown",
   "id": "69fb7927-7fcd-4d09-b8a7-8a55148f7678",
   "metadata": {},
   "source": [
    "### Ans: \n",
    "### Architectural Innovations in AlexNet\n",
    "\n",
    "1. **ReLU Activation**: Utilized Rectified Linear Units (ReLU) instead of traditional sigmoid or tanh activations, which helped accelerate training by mitigating the vanishing gradient problem.\n",
    "2. **GPU Utilization**: Leveraged two GPUs to parallelize computations, significantly speeding up the training process.\n",
    "3. **Overlapping Pooling**: Introduced overlapping max pooling, which helped reduce overfitting and improved the network's ability to generalize.\n",
    "4. **Dropout**: Implemented dropout in the fully connected layers to prevent overfitting by randomly setting a fraction of the input units to zero at each update during training.\n",
    "5. **Data Augmentation**: Employed extensive data augmentation techniques, such as image translations, horizontal reflections, and patch extractions, to increase the effective size of the training set.\n",
    "6. **Large Convolutional Filters**: Used large convolutional filters (11x11) in the first layer, which allowed the network to capture more spatial information from the images."
   ]
  },
  {
   "cell_type": "markdown",
   "id": "a67230ca-4574-498e-97ba-a8b31899ad56",
   "metadata": {},
   "source": []
  },
  {
   "cell_type": "markdown",
   "id": "805f21e3-84e7-4c3d-8da2-b78404a16d49",
   "metadata": {},
   "source": [
    "### Q3. Discuss the role of convolutional layecs, pooling layecs, and fully connected layecs in AlexNetp."
   ]
  },
  {
   "cell_type": "markdown",
   "id": "ec80dabd-a33b-41c2-b0ef-566c06236867",
   "metadata": {},
   "source": [
    "### Ans: \n",
    "### Roles of Convolutional Layers, Pooling Layers, and Fully Connected Layers in AlexNet\n",
    "\n",
    "1. **Convolutional Layers**:\n",
    "   - **Purpose**: Detect features from the input images by applying convolutional filters that learn spatial hierarchies of patterns.\n",
    "   - **AlexNet Usage**: Five convolutional layers extract increasingly complex features. Early layers capture low-level features like edges and textures, while deeper layers capture high-level features like shapes and objects.\n",
    "\n",
    "2. **Pooling Layers**:\n",
    "   - **Purpose**: Reduce the spatial dimensions of the feature maps, which decreases the number of parameters and computations in the network. Pooling also helps achieve translation invariance.\n",
    "   - **AlexNet Usage**: Uses max pooling layers to down-sample the feature maps and control overfitting. Overlapping pooling further enhances feature extraction.\n",
    "\n",
    "3. **Fully Connected Layers**:\n",
    "   - **Purpose**: Combine the extracted features to perform classification. These layers interpret the high-level features and output class probabilities.\n",
    "   - **AlexNet Usage**: Three fully connected layers, with the final layer using a softmax activation function to output class probabilities."
   ]
  },
  {
   "cell_type": "code",
   "execution_count": null,
   "id": "6816f63e-a5ea-4e37-9ecf-5ac231ffe634",
   "metadata": {},
   "outputs": [],
   "source": []
  },
  {
   "cell_type": "code",
   "execution_count": null,
   "id": "c55db112-df0f-468a-8dd5-dc95367a9a39",
   "metadata": {},
   "outputs": [],
   "source": []
  },
  {
   "cell_type": "code",
   "execution_count": null,
   "id": "6d4ad146-719d-4e85-97e3-4dda0104c5d2",
   "metadata": {},
   "outputs": [],
   "source": []
  }
 ],
 "metadata": {
  "kernelspec": {
   "display_name": "Python 3 (ipykernel)",
   "language": "python",
   "name": "python3"
  },
  "language_info": {
   "codemirror_mode": {
    "name": "ipython",
    "version": 3
   },
   "file_extension": ".py",
   "mimetype": "text/x-python",
   "name": "python",
   "nbconvert_exporter": "python",
   "pygments_lexer": "ipython3",
   "version": "3.10.8"
  }
 },
 "nbformat": 4,
 "nbformat_minor": 5
}
