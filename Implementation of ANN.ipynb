{
 "cells": [
  {
   "cell_type": "markdown",
   "id": "dc7823eb-6c0a-40a9-bc59-e4ca03b75fce",
   "metadata": {},
   "source": [
    "### Q1. Install and load the latest versions of TensorFlow and Keras. Print their versions."
   ]
  },
  {
   "cell_type": "code",
   "execution_count": 27,
   "id": "15c8affc-890a-4a6e-90b3-6b446e544f1c",
   "metadata": {},
   "outputs": [
    {
     "name": "stdout",
     "output_type": "stream",
     "text": [
      "Requirement already satisfied: tensorflow in /opt/conda/lib/python3.10/site-packages (2.17.0)\n",
      "Requirement already satisfied: ml-dtypes<0.5.0,>=0.3.1 in /opt/conda/lib/python3.10/site-packages (from tensorflow) (0.4.0)\n",
      "Requirement already satisfied: flatbuffers>=24.3.25 in /opt/conda/lib/python3.10/site-packages (from tensorflow) (24.3.25)\n",
      "Requirement already satisfied: typing-extensions>=3.6.6 in /opt/conda/lib/python3.10/site-packages (from tensorflow) (4.12.2)\n",
      "Requirement already satisfied: opt-einsum>=2.3.2 in /opt/conda/lib/python3.10/site-packages (from tensorflow) (3.3.0)\n",
      "Requirement already satisfied: numpy<2.0.0,>=1.23.5 in /opt/conda/lib/python3.10/site-packages (from tensorflow) (1.23.5)\n",
      "Requirement already satisfied: termcolor>=1.1.0 in /opt/conda/lib/python3.10/site-packages (from tensorflow) (2.4.0)\n",
      "Requirement already satisfied: wrapt>=1.11.0 in /opt/conda/lib/python3.10/site-packages (from tensorflow) (1.16.0)\n",
      "Requirement already satisfied: grpcio<2.0,>=1.24.3 in /opt/conda/lib/python3.10/site-packages (from tensorflow) (1.65.4)\n",
      "Requirement already satisfied: packaging in /opt/conda/lib/python3.10/site-packages (from tensorflow) (22.0)\n",
      "Requirement already satisfied: tensorflow-io-gcs-filesystem>=0.23.1 in /opt/conda/lib/python3.10/site-packages (from tensorflow) (0.37.1)\n",
      "Requirement already satisfied: google-pasta>=0.1.1 in /opt/conda/lib/python3.10/site-packages (from tensorflow) (0.2.0)\n",
      "Requirement already satisfied: protobuf!=4.21.0,!=4.21.1,!=4.21.2,!=4.21.3,!=4.21.4,!=4.21.5,<5.0.0dev,>=3.20.3 in /opt/conda/lib/python3.10/site-packages (from tensorflow) (4.21.11)\n",
      "Requirement already satisfied: libclang>=13.0.0 in /opt/conda/lib/python3.10/site-packages (from tensorflow) (18.1.1)\n",
      "Requirement already satisfied: absl-py>=1.0.0 in /opt/conda/lib/python3.10/site-packages (from tensorflow) (2.1.0)\n",
      "Requirement already satisfied: tensorboard<2.18,>=2.17 in /opt/conda/lib/python3.10/site-packages (from tensorflow) (2.17.0)\n",
      "Requirement already satisfied: gast!=0.5.0,!=0.5.1,!=0.5.2,>=0.2.1 in /opt/conda/lib/python3.10/site-packages (from tensorflow) (0.6.0)\n",
      "Requirement already satisfied: h5py>=3.10.0 in /opt/conda/lib/python3.10/site-packages (from tensorflow) (3.11.0)\n",
      "Requirement already satisfied: keras>=3.2.0 in /opt/conda/lib/python3.10/site-packages (from tensorflow) (3.4.1)\n",
      "Requirement already satisfied: astunparse>=1.6.0 in /opt/conda/lib/python3.10/site-packages (from tensorflow) (1.6.3)\n",
      "Requirement already satisfied: setuptools in /opt/conda/lib/python3.10/site-packages (from tensorflow) (65.5.1)\n",
      "Requirement already satisfied: requests<3,>=2.21.0 in /opt/conda/lib/python3.10/site-packages (from tensorflow) (2.28.1)\n",
      "Requirement already satisfied: six>=1.12.0 in /opt/conda/lib/python3.10/site-packages (from tensorflow) (1.16.0)\n",
      "Requirement already satisfied: wheel<1.0,>=0.23.0 in /opt/conda/lib/python3.10/site-packages (from astunparse>=1.6.0->tensorflow) (0.38.4)\n",
      "Requirement already satisfied: rich in /opt/conda/lib/python3.10/site-packages (from keras>=3.2.0->tensorflow) (13.7.1)\n",
      "Requirement already satisfied: namex in /opt/conda/lib/python3.10/site-packages (from keras>=3.2.0->tensorflow) (0.0.8)\n",
      "Requirement already satisfied: optree in /opt/conda/lib/python3.10/site-packages (from keras>=3.2.0->tensorflow) (0.12.1)\n",
      "Requirement already satisfied: charset-normalizer<3,>=2 in /opt/conda/lib/python3.10/site-packages (from requests<3,>=2.21.0->tensorflow) (2.1.1)\n",
      "Requirement already satisfied: certifi>=2017.4.17 in /opt/conda/lib/python3.10/site-packages (from requests<3,>=2.21.0->tensorflow) (2022.12.7)\n",
      "Requirement already satisfied: urllib3<1.27,>=1.21.1 in /opt/conda/lib/python3.10/site-packages (from requests<3,>=2.21.0->tensorflow) (1.26.13)\n",
      "Requirement already satisfied: idna<4,>=2.5 in /opt/conda/lib/python3.10/site-packages (from requests<3,>=2.21.0->tensorflow) (3.4)\n",
      "Requirement already satisfied: markdown>=2.6.8 in /opt/conda/lib/python3.10/site-packages (from tensorboard<2.18,>=2.17->tensorflow) (3.6)\n",
      "Requirement already satisfied: tensorboard-data-server<0.8.0,>=0.7.0 in /opt/conda/lib/python3.10/site-packages (from tensorboard<2.18,>=2.17->tensorflow) (0.7.2)\n",
      "Requirement already satisfied: werkzeug>=1.0.1 in /opt/conda/lib/python3.10/site-packages (from tensorboard<2.18,>=2.17->tensorflow) (3.0.3)\n",
      "Requirement already satisfied: MarkupSafe>=2.1.1 in /opt/conda/lib/python3.10/site-packages (from werkzeug>=1.0.1->tensorboard<2.18,>=2.17->tensorflow) (2.1.1)\n",
      "Requirement already satisfied: markdown-it-py>=2.2.0 in /opt/conda/lib/python3.10/site-packages (from rich->keras>=3.2.0->tensorflow) (3.0.0)\n",
      "Requirement already satisfied: pygments<3.0.0,>=2.13.0 in /opt/conda/lib/python3.10/site-packages (from rich->keras>=3.2.0->tensorflow) (2.13.0)\n",
      "Requirement already satisfied: mdurl~=0.1 in /opt/conda/lib/python3.10/site-packages (from markdown-it-py>=2.2.0->rich->keras>=3.2.0->tensorflow) (0.1.2)\n",
      "Note: you may need to restart the kernel to use updated packages.\n"
     ]
    }
   ],
   "source": [
    "pip install tensorflow"
   ]
  },
  {
   "cell_type": "code",
   "execution_count": 25,
   "id": "405275a4-012f-4f2e-99cf-163a05c37a45",
   "metadata": {},
   "outputs": [
    {
     "name": "stdout",
     "output_type": "stream",
     "text": [
      "Requirement already satisfied: optree in /opt/conda/lib/python3.10/site-packages (0.12.1)\n",
      "Requirement already satisfied: typing-extensions>=4.5.0 in /opt/conda/lib/python3.10/site-packages (from optree) (4.12.2)\n",
      "Note: you may need to restart the kernel to use updated packages.\n"
     ]
    }
   ],
   "source": [
    "pip install optree\n"
   ]
  },
  {
   "cell_type": "code",
   "execution_count": 1,
   "id": "1601cc32-200d-4688-a238-5ad0035c7cbf",
   "metadata": {},
   "outputs": [
    {
     "name": "stderr",
     "output_type": "stream",
     "text": [
      "2024-08-04 14:24:18.454508: I external/local_xla/xla/tsl/cuda/cudart_stub.cc:32] Could not find cuda drivers on your machine, GPU will not be used.\n",
      "2024-08-04 14:24:18.460532: I external/local_xla/xla/tsl/cuda/cudart_stub.cc:32] Could not find cuda drivers on your machine, GPU will not be used.\n",
      "2024-08-04 14:24:18.479870: E external/local_xla/xla/stream_executor/cuda/cuda_fft.cc:485] Unable to register cuFFT factory: Attempting to register factory for plugin cuFFT when one has already been registered\n",
      "2024-08-04 14:24:18.511451: E external/local_xla/xla/stream_executor/cuda/cuda_dnn.cc:8454] Unable to register cuDNN factory: Attempting to register factory for plugin cuDNN when one has already been registered\n",
      "2024-08-04 14:24:18.520964: E external/local_xla/xla/stream_executor/cuda/cuda_blas.cc:1452] Unable to register cuBLAS factory: Attempting to register factory for plugin cuBLAS when one has already been registered\n",
      "2024-08-04 14:24:18.545396: I tensorflow/core/platform/cpu_feature_guard.cc:210] This TensorFlow binary is optimized to use available CPU instructions in performance-critical operations.\n",
      "To enable the following instructions: AVX2 FMA, in other operations, rebuild TensorFlow with the appropriate compiler flags.\n",
      "2024-08-04 14:24:20.034669: W tensorflow/compiler/tf2tensorrt/utils/py_utils.cc:38] TF-TRT Warning: Could not find TensorRT\n"
     ]
    },
    {
     "name": "stdout",
     "output_type": "stream",
     "text": [
      "TensorFlow version: 2.17.0\n",
      "Keras version: 3.4.1\n"
     ]
    }
   ],
   "source": [
    "import tensorflow as tf\n",
    "\n",
    "# Print TensorFlow version\n",
    "print(\"TensorFlow version:\", tf.__version__)\n",
    "\n",
    "# Keras is included within TensorFlow\n",
    "from tensorflow.keras import __version__ as keras_version\n",
    "\n",
    "# Print Keras version\n",
    "print(\"Keras version:\", keras_version)\n"
   ]
  },
  {
   "cell_type": "code",
   "execution_count": null,
   "id": "601397c5-b50b-4807-ab92-eda77f58581a",
   "metadata": {},
   "outputs": [],
   "source": []
  },
  {
   "cell_type": "markdown",
   "id": "1d26264a-1ac6-4d22-973a-5da30cd032ad",
   "metadata": {},
   "source": [
    "## Q2. Load the Wine Quality dataset and explore its dimensions."
   ]
  },
  {
   "cell_type": "markdown",
   "id": "1ebb59e6-3134-44e4-a08a-e0037ac6eff9",
   "metadata": {},
   "source": [
    "#### Dataset link: https://www.kaggle.com/datasets/nareshbhat/wine-quality-binary-classification"
   ]
  },
  {
   "cell_type": "code",
   "execution_count": 3,
   "id": "705bdc84-4477-4250-a5e5-c1f052ecb854",
   "metadata": {},
   "outputs": [],
   "source": [
    "import pandas as pd\n",
    "import numpy as np"
   ]
  },
  {
   "cell_type": "code",
   "execution_count": 4,
   "id": "a580daa1-b180-4c8f-be28-444300fa6ab9",
   "metadata": {},
   "outputs": [
    {
     "name": "stdout",
     "output_type": "stream",
     "text": [
      "Dataset dimensions: (1599, 12)\n"
     ]
    },
    {
     "data": {
      "text/html": [
       "<div>\n",
       "<style scoped>\n",
       "    .dataframe tbody tr th:only-of-type {\n",
       "        vertical-align: middle;\n",
       "    }\n",
       "\n",
       "    .dataframe tbody tr th {\n",
       "        vertical-align: top;\n",
       "    }\n",
       "\n",
       "    .dataframe thead th {\n",
       "        text-align: right;\n",
       "    }\n",
       "</style>\n",
       "<table border=\"1\" class=\"dataframe\">\n",
       "  <thead>\n",
       "    <tr style=\"text-align: right;\">\n",
       "      <th></th>\n",
       "      <th>fixed acidity</th>\n",
       "      <th>volatile acidity</th>\n",
       "      <th>citric acid</th>\n",
       "      <th>residual sugar</th>\n",
       "      <th>chlorides</th>\n",
       "      <th>free sulfur dioxide</th>\n",
       "      <th>total sulfur dioxide</th>\n",
       "      <th>density</th>\n",
       "      <th>pH</th>\n",
       "      <th>sulphates</th>\n",
       "      <th>alcohol</th>\n",
       "      <th>quality</th>\n",
       "    </tr>\n",
       "  </thead>\n",
       "  <tbody>\n",
       "    <tr>\n",
       "      <th>0</th>\n",
       "      <td>7.4</td>\n",
       "      <td>0.70</td>\n",
       "      <td>0.00</td>\n",
       "      <td>1.9</td>\n",
       "      <td>0.076</td>\n",
       "      <td>11.0</td>\n",
       "      <td>34.0</td>\n",
       "      <td>0.9978</td>\n",
       "      <td>3.51</td>\n",
       "      <td>0.56</td>\n",
       "      <td>9.4</td>\n",
       "      <td>bad</td>\n",
       "    </tr>\n",
       "    <tr>\n",
       "      <th>1</th>\n",
       "      <td>7.8</td>\n",
       "      <td>0.88</td>\n",
       "      <td>0.00</td>\n",
       "      <td>2.6</td>\n",
       "      <td>0.098</td>\n",
       "      <td>25.0</td>\n",
       "      <td>67.0</td>\n",
       "      <td>0.9968</td>\n",
       "      <td>3.20</td>\n",
       "      <td>0.68</td>\n",
       "      <td>9.8</td>\n",
       "      <td>bad</td>\n",
       "    </tr>\n",
       "    <tr>\n",
       "      <th>2</th>\n",
       "      <td>7.8</td>\n",
       "      <td>0.76</td>\n",
       "      <td>0.04</td>\n",
       "      <td>2.3</td>\n",
       "      <td>0.092</td>\n",
       "      <td>15.0</td>\n",
       "      <td>54.0</td>\n",
       "      <td>0.9970</td>\n",
       "      <td>3.26</td>\n",
       "      <td>0.65</td>\n",
       "      <td>9.8</td>\n",
       "      <td>bad</td>\n",
       "    </tr>\n",
       "    <tr>\n",
       "      <th>3</th>\n",
       "      <td>11.2</td>\n",
       "      <td>0.28</td>\n",
       "      <td>0.56</td>\n",
       "      <td>1.9</td>\n",
       "      <td>0.075</td>\n",
       "      <td>17.0</td>\n",
       "      <td>60.0</td>\n",
       "      <td>0.9980</td>\n",
       "      <td>3.16</td>\n",
       "      <td>0.58</td>\n",
       "      <td>9.8</td>\n",
       "      <td>good</td>\n",
       "    </tr>\n",
       "    <tr>\n",
       "      <th>4</th>\n",
       "      <td>7.4</td>\n",
       "      <td>0.70</td>\n",
       "      <td>0.00</td>\n",
       "      <td>1.9</td>\n",
       "      <td>0.076</td>\n",
       "      <td>11.0</td>\n",
       "      <td>34.0</td>\n",
       "      <td>0.9978</td>\n",
       "      <td>3.51</td>\n",
       "      <td>0.56</td>\n",
       "      <td>9.4</td>\n",
       "      <td>bad</td>\n",
       "    </tr>\n",
       "  </tbody>\n",
       "</table>\n",
       "</div>"
      ],
      "text/plain": [
       "   fixed acidity  volatile acidity  citric acid  residual sugar  chlorides  \\\n",
       "0            7.4              0.70         0.00             1.9      0.076   \n",
       "1            7.8              0.88         0.00             2.6      0.098   \n",
       "2            7.8              0.76         0.04             2.3      0.092   \n",
       "3           11.2              0.28         0.56             1.9      0.075   \n",
       "4            7.4              0.70         0.00             1.9      0.076   \n",
       "\n",
       "   free sulfur dioxide  total sulfur dioxide  density    pH  sulphates  \\\n",
       "0                 11.0                  34.0   0.9978  3.51       0.56   \n",
       "1                 25.0                  67.0   0.9968  3.20       0.68   \n",
       "2                 15.0                  54.0   0.9970  3.26       0.65   \n",
       "3                 17.0                  60.0   0.9980  3.16       0.58   \n",
       "4                 11.0                  34.0   0.9978  3.51       0.56   \n",
       "\n",
       "   alcohol quality  \n",
       "0      9.4     bad  \n",
       "1      9.8     bad  \n",
       "2      9.8     bad  \n",
       "3      9.8    good  \n",
       "4      9.4     bad  "
      ]
     },
     "execution_count": 4,
     "metadata": {},
     "output_type": "execute_result"
    }
   ],
   "source": [
    "data = pd.read_csv(\"wine.csv\")\n",
    "\n",
    "# Explore dimensions\n",
    "print(\"Dataset dimensions:\", data.shape)\n",
    "data.head()"
   ]
  },
  {
   "cell_type": "code",
   "execution_count": null,
   "id": "f27bfc93-dea0-4a52-8b92-9b06d597a8e6",
   "metadata": {},
   "outputs": [],
   "source": []
  },
  {
   "cell_type": "code",
   "execution_count": null,
   "id": "bde13eb5-5135-4975-864a-af96d5394de9",
   "metadata": {},
   "outputs": [],
   "source": []
  },
  {
   "cell_type": "markdown",
   "id": "8ee26fcb-86e6-4fc8-a52e-e717a1637fcb",
   "metadata": {},
   "source": [
    "## Q3. Check for null values, identify categorical variables, and encode them."
   ]
  },
  {
   "cell_type": "code",
   "execution_count": 5,
   "id": "b7175d7a-21d4-41ce-9e89-a1063176f4ed",
   "metadata": {},
   "outputs": [
    {
     "data": {
      "text/plain": [
       "fixed acidity           0\n",
       "volatile acidity        0\n",
       "citric acid             0\n",
       "residual sugar          0\n",
       "chlorides               0\n",
       "free sulfur dioxide     0\n",
       "total sulfur dioxide    0\n",
       "density                 0\n",
       "pH                      0\n",
       "sulphates               0\n",
       "alcohol                 0\n",
       "quality                 0\n",
       "dtype: int64"
      ]
     },
     "execution_count": 5,
     "metadata": {},
     "output_type": "execute_result"
    }
   ],
   "source": [
    "data.isnull().sum()"
   ]
  },
  {
   "cell_type": "code",
   "execution_count": 6,
   "id": "9445333c-6752-4eb6-be36-30bc45764556",
   "metadata": {},
   "outputs": [
    {
     "data": {
      "text/plain": [
       "array(['bad', 'good'], dtype=object)"
      ]
     },
     "execution_count": 6,
     "metadata": {},
     "output_type": "execute_result"
    }
   ],
   "source": [
    "data[\"quality\"].unique()"
   ]
  },
  {
   "cell_type": "markdown",
   "id": "c45089a9-5bc7-4e79-8ece-b010ce49b30f",
   "metadata": {},
   "source": [
    "####  no null values\n",
    "#### Quality column is categorial."
   ]
  },
  {
   "cell_type": "code",
   "execution_count": 7,
   "id": "21585144-2ce3-42b8-8f01-61bcee046b77",
   "metadata": {},
   "outputs": [],
   "source": [
    "## Encoding\n",
    "data['quality']=np.where(data['quality'].str.contains(\"bad\"),0,1)"
   ]
  },
  {
   "cell_type": "code",
   "execution_count": 8,
   "id": "d22d593f-16e0-409d-ba0a-98e7e7b8b14f",
   "metadata": {},
   "outputs": [
    {
     "data": {
      "text/plain": [
       "1    855\n",
       "0    744\n",
       "Name: quality, dtype: int64"
      ]
     },
     "execution_count": 8,
     "metadata": {},
     "output_type": "execute_result"
    }
   ],
   "source": [
    "data['quality'].value_counts()"
   ]
  },
  {
   "cell_type": "code",
   "execution_count": null,
   "id": "abb4ae14-0b2a-4821-9d86-72073c6cb346",
   "metadata": {},
   "outputs": [],
   "source": []
  },
  {
   "cell_type": "markdown",
   "id": "73f4b8c3-b3ee-46a0-9aba-e4af74cefbfb",
   "metadata": {},
   "source": [
    "### Q4. Separate the features and target variables from the dataset."
   ]
  },
  {
   "cell_type": "code",
   "execution_count": 9,
   "id": "d8d021b3-4cb2-4af9-95ac-76806d3a382f",
   "metadata": {},
   "outputs": [],
   "source": [
    "# Independent and dependent Variables\n",
    "X=data.drop('quality',axis=1)\n",
    "y=data['quality']"
   ]
  },
  {
   "cell_type": "code",
   "execution_count": 10,
   "id": "834c86b6-3d77-4418-a4e6-ebd6a8801547",
   "metadata": {},
   "outputs": [
    {
     "data": {
      "text/html": [
       "<div>\n",
       "<style scoped>\n",
       "    .dataframe tbody tr th:only-of-type {\n",
       "        vertical-align: middle;\n",
       "    }\n",
       "\n",
       "    .dataframe tbody tr th {\n",
       "        vertical-align: top;\n",
       "    }\n",
       "\n",
       "    .dataframe thead th {\n",
       "        text-align: right;\n",
       "    }\n",
       "</style>\n",
       "<table border=\"1\" class=\"dataframe\">\n",
       "  <thead>\n",
       "    <tr style=\"text-align: right;\">\n",
       "      <th></th>\n",
       "      <th>fixed acidity</th>\n",
       "      <th>volatile acidity</th>\n",
       "      <th>citric acid</th>\n",
       "      <th>residual sugar</th>\n",
       "      <th>chlorides</th>\n",
       "      <th>free sulfur dioxide</th>\n",
       "      <th>total sulfur dioxide</th>\n",
       "      <th>density</th>\n",
       "      <th>pH</th>\n",
       "      <th>sulphates</th>\n",
       "      <th>alcohol</th>\n",
       "    </tr>\n",
       "  </thead>\n",
       "  <tbody>\n",
       "    <tr>\n",
       "      <th>0</th>\n",
       "      <td>7.4</td>\n",
       "      <td>0.70</td>\n",
       "      <td>0.00</td>\n",
       "      <td>1.9</td>\n",
       "      <td>0.076</td>\n",
       "      <td>11.0</td>\n",
       "      <td>34.0</td>\n",
       "      <td>0.9978</td>\n",
       "      <td>3.51</td>\n",
       "      <td>0.56</td>\n",
       "      <td>9.4</td>\n",
       "    </tr>\n",
       "    <tr>\n",
       "      <th>1</th>\n",
       "      <td>7.8</td>\n",
       "      <td>0.88</td>\n",
       "      <td>0.00</td>\n",
       "      <td>2.6</td>\n",
       "      <td>0.098</td>\n",
       "      <td>25.0</td>\n",
       "      <td>67.0</td>\n",
       "      <td>0.9968</td>\n",
       "      <td>3.20</td>\n",
       "      <td>0.68</td>\n",
       "      <td>9.8</td>\n",
       "    </tr>\n",
       "    <tr>\n",
       "      <th>2</th>\n",
       "      <td>7.8</td>\n",
       "      <td>0.76</td>\n",
       "      <td>0.04</td>\n",
       "      <td>2.3</td>\n",
       "      <td>0.092</td>\n",
       "      <td>15.0</td>\n",
       "      <td>54.0</td>\n",
       "      <td>0.9970</td>\n",
       "      <td>3.26</td>\n",
       "      <td>0.65</td>\n",
       "      <td>9.8</td>\n",
       "    </tr>\n",
       "    <tr>\n",
       "      <th>3</th>\n",
       "      <td>11.2</td>\n",
       "      <td>0.28</td>\n",
       "      <td>0.56</td>\n",
       "      <td>1.9</td>\n",
       "      <td>0.075</td>\n",
       "      <td>17.0</td>\n",
       "      <td>60.0</td>\n",
       "      <td>0.9980</td>\n",
       "      <td>3.16</td>\n",
       "      <td>0.58</td>\n",
       "      <td>9.8</td>\n",
       "    </tr>\n",
       "    <tr>\n",
       "      <th>4</th>\n",
       "      <td>7.4</td>\n",
       "      <td>0.70</td>\n",
       "      <td>0.00</td>\n",
       "      <td>1.9</td>\n",
       "      <td>0.076</td>\n",
       "      <td>11.0</td>\n",
       "      <td>34.0</td>\n",
       "      <td>0.9978</td>\n",
       "      <td>3.51</td>\n",
       "      <td>0.56</td>\n",
       "      <td>9.4</td>\n",
       "    </tr>\n",
       "  </tbody>\n",
       "</table>\n",
       "</div>"
      ],
      "text/plain": [
       "   fixed acidity  volatile acidity  citric acid  residual sugar  chlorides  \\\n",
       "0            7.4              0.70         0.00             1.9      0.076   \n",
       "1            7.8              0.88         0.00             2.6      0.098   \n",
       "2            7.8              0.76         0.04             2.3      0.092   \n",
       "3           11.2              0.28         0.56             1.9      0.075   \n",
       "4            7.4              0.70         0.00             1.9      0.076   \n",
       "\n",
       "   free sulfur dioxide  total sulfur dioxide  density    pH  sulphates  \\\n",
       "0                 11.0                  34.0   0.9978  3.51       0.56   \n",
       "1                 25.0                  67.0   0.9968  3.20       0.68   \n",
       "2                 15.0                  54.0   0.9970  3.26       0.65   \n",
       "3                 17.0                  60.0   0.9980  3.16       0.58   \n",
       "4                 11.0                  34.0   0.9978  3.51       0.56   \n",
       "\n",
       "   alcohol  \n",
       "0      9.4  \n",
       "1      9.8  \n",
       "2      9.8  \n",
       "3      9.8  \n",
       "4      9.4  "
      ]
     },
     "execution_count": 10,
     "metadata": {},
     "output_type": "execute_result"
    }
   ],
   "source": [
    "X.head()"
   ]
  },
  {
   "cell_type": "code",
   "execution_count": 11,
   "id": "5b9dcef8-9ddb-4517-9eb3-486f2925f829",
   "metadata": {},
   "outputs": [
    {
     "data": {
      "text/plain": [
       "0       0\n",
       "1       0\n",
       "2       0\n",
       "3       1\n",
       "4       0\n",
       "       ..\n",
       "1594    0\n",
       "1595    1\n",
       "1596    1\n",
       "1597    0\n",
       "1598    1\n",
       "Name: quality, Length: 1599, dtype: int64"
      ]
     },
     "execution_count": 11,
     "metadata": {},
     "output_type": "execute_result"
    }
   ],
   "source": [
    "y"
   ]
  },
  {
   "cell_type": "code",
   "execution_count": null,
   "id": "619f09d2-4462-47cd-beb5-19a578f12ad9",
   "metadata": {},
   "outputs": [],
   "source": []
  },
  {
   "cell_type": "markdown",
   "id": "c0ddd55d-430d-41d9-9481-20cd82b8c174",
   "metadata": {},
   "source": [
    "### Q5. Perform a train-test split, dividing the data into training, validation, and test datasets."
   ]
  },
  {
   "cell_type": "code",
   "execution_count": 12,
   "id": "7595c420-a03a-4dc7-9def-220954eb4969",
   "metadata": {},
   "outputs": [],
   "source": [
    "from sklearn.model_selection import train_test_split\n",
    "\n",
    "# Split into training and test sets\n",
    "X_train, X_test, y_train, y_test = train_test_split(X, y, test_size=0.2, random_state=42)\n",
    "\n",
    "# Further split the training set into training and validation sets\n",
    "X_train, X_val, y_train, y_val = train_test_split(X_train, y_train, test_size=0.2, random_state=42)\n"
   ]
  },
  {
   "cell_type": "code",
   "execution_count": null,
   "id": "7049482d-624c-43c8-ac18-9176390c21bb",
   "metadata": {},
   "outputs": [],
   "source": []
  },
  {
   "cell_type": "markdown",
   "id": "95cba09b-ab3a-4eb2-aa53-a1047152a990",
   "metadata": {},
   "source": [
    "### Q6. Scale the dataset using an appropriate scaling technique."
   ]
  },
  {
   "cell_type": "code",
   "execution_count": 13,
   "id": "7298c623-dc8e-47a6-b8ff-9efc80aabf45",
   "metadata": {},
   "outputs": [],
   "source": [
    "from sklearn.preprocessing import StandardScaler\n",
    "# Initialize the scaler\n",
    "scaler = StandardScaler()\n",
    "\n",
    "# Fit on training data and transform all sets\n",
    "X_train_scaled = scaler.fit_transform(X_train)\n",
    "X_val_scaled = scaler.transform(X_val)\n",
    "X_test_scaled = scaler.transform(X_test)\n"
   ]
  },
  {
   "cell_type": "code",
   "execution_count": null,
   "id": "606451ec-1f96-4cc6-8f1d-2c55ecdf504b",
   "metadata": {},
   "outputs": [],
   "source": []
  },
  {
   "cell_type": "markdown",
   "id": "39e0718f-f685-454c-a8b6-7c9db0548781",
   "metadata": {},
   "source": [
    "### Q7. Design and implement at least two hidden layers and an output layer for the binary categorical variables."
   ]
  },
  {
   "cell_type": "code",
   "execution_count": 14,
   "id": "a7879424-be22-48d8-a6f6-beef4789fc74",
   "metadata": {},
   "outputs": [
    {
     "name": "stderr",
     "output_type": "stream",
     "text": [
      "/opt/conda/lib/python3.10/site-packages/keras/src/layers/core/dense.py:87: UserWarning: Do not pass an `input_shape`/`input_dim` argument to a layer. When using Sequential models, prefer using an `Input(shape)` object as the first layer in the model instead.\n",
      "  super().__init__(activity_regularizer=activity_regularizer, **kwargs)\n"
     ]
    }
   ],
   "source": [
    "from tensorflow.keras.models import Sequential\n",
    "from tensorflow.keras.layers import Dense\n",
    "\n",
    "# Define the model\n",
    "model = Sequential([\n",
    "    Dense(64, activation='relu', input_shape=(X_train_scaled.shape[1],)),\n",
    "    Dense(32, activation='relu'),\n",
    "    Dense(1, activation='sigmoid')  # Output layer for binary classification\n",
    "])\n"
   ]
  },
  {
   "cell_type": "code",
   "execution_count": null,
   "id": "48e17c8f-94fb-4ebf-999e-4612a0115c17",
   "metadata": {},
   "outputs": [],
   "source": []
  },
  {
   "cell_type": "markdown",
   "id": "302a0d5e-b073-4c2a-a722-cde2c8c998ac",
   "metadata": {},
   "source": [
    "### Q9. Print the summary of the model architecture."
   ]
  },
  {
   "cell_type": "code",
   "execution_count": 15,
   "id": "fdb08dc0-2bc6-426c-b47f-7a85c986d1fd",
   "metadata": {},
   "outputs": [
    {
     "data": {
      "text/html": [
       "<pre style=\"white-space:pre;overflow-x:auto;line-height:normal;font-family:Menlo,'DejaVu Sans Mono',consolas,'Courier New',monospace\"><span style=\"font-weight: bold\">Model: \"sequential\"</span>\n",
       "</pre>\n"
      ],
      "text/plain": [
       "\u001b[1mModel: \"sequential\"\u001b[0m\n"
      ]
     },
     "metadata": {},
     "output_type": "display_data"
    },
    {
     "data": {
      "text/html": [
       "<pre style=\"white-space:pre;overflow-x:auto;line-height:normal;font-family:Menlo,'DejaVu Sans Mono',consolas,'Courier New',monospace\">┏━━━━━━━━━━━━━━━━━━━━━━━━━━━━━━━━━┳━━━━━━━━━━━━━━━━━━━━━━━━┳━━━━━━━━━━━━━━━┓\n",
       "┃<span style=\"font-weight: bold\"> Layer (type)                    </span>┃<span style=\"font-weight: bold\"> Output Shape           </span>┃<span style=\"font-weight: bold\">       Param # </span>┃\n",
       "┡━━━━━━━━━━━━━━━━━━━━━━━━━━━━━━━━━╇━━━━━━━━━━━━━━━━━━━━━━━━╇━━━━━━━━━━━━━━━┩\n",
       "│ dense (<span style=\"color: #0087ff; text-decoration-color: #0087ff\">Dense</span>)                   │ (<span style=\"color: #00d7ff; text-decoration-color: #00d7ff\">None</span>, <span style=\"color: #00af00; text-decoration-color: #00af00\">64</span>)             │           <span style=\"color: #00af00; text-decoration-color: #00af00\">768</span> │\n",
       "├─────────────────────────────────┼────────────────────────┼───────────────┤\n",
       "│ dense_1 (<span style=\"color: #0087ff; text-decoration-color: #0087ff\">Dense</span>)                 │ (<span style=\"color: #00d7ff; text-decoration-color: #00d7ff\">None</span>, <span style=\"color: #00af00; text-decoration-color: #00af00\">32</span>)             │         <span style=\"color: #00af00; text-decoration-color: #00af00\">2,080</span> │\n",
       "├─────────────────────────────────┼────────────────────────┼───────────────┤\n",
       "│ dense_2 (<span style=\"color: #0087ff; text-decoration-color: #0087ff\">Dense</span>)                 │ (<span style=\"color: #00d7ff; text-decoration-color: #00d7ff\">None</span>, <span style=\"color: #00af00; text-decoration-color: #00af00\">1</span>)              │            <span style=\"color: #00af00; text-decoration-color: #00af00\">33</span> │\n",
       "└─────────────────────────────────┴────────────────────────┴───────────────┘\n",
       "</pre>\n"
      ],
      "text/plain": [
       "┏━━━━━━━━━━━━━━━━━━━━━━━━━━━━━━━━━┳━━━━━━━━━━━━━━━━━━━━━━━━┳━━━━━━━━━━━━━━━┓\n",
       "┃\u001b[1m \u001b[0m\u001b[1mLayer (type)                   \u001b[0m\u001b[1m \u001b[0m┃\u001b[1m \u001b[0m\u001b[1mOutput Shape          \u001b[0m\u001b[1m \u001b[0m┃\u001b[1m \u001b[0m\u001b[1m      Param #\u001b[0m\u001b[1m \u001b[0m┃\n",
       "┡━━━━━━━━━━━━━━━━━━━━━━━━━━━━━━━━━╇━━━━━━━━━━━━━━━━━━━━━━━━╇━━━━━━━━━━━━━━━┩\n",
       "│ dense (\u001b[38;5;33mDense\u001b[0m)                   │ (\u001b[38;5;45mNone\u001b[0m, \u001b[38;5;34m64\u001b[0m)             │           \u001b[38;5;34m768\u001b[0m │\n",
       "├─────────────────────────────────┼────────────────────────┼───────────────┤\n",
       "│ dense_1 (\u001b[38;5;33mDense\u001b[0m)                 │ (\u001b[38;5;45mNone\u001b[0m, \u001b[38;5;34m32\u001b[0m)             │         \u001b[38;5;34m2,080\u001b[0m │\n",
       "├─────────────────────────────────┼────────────────────────┼───────────────┤\n",
       "│ dense_2 (\u001b[38;5;33mDense\u001b[0m)                 │ (\u001b[38;5;45mNone\u001b[0m, \u001b[38;5;34m1\u001b[0m)              │            \u001b[38;5;34m33\u001b[0m │\n",
       "└─────────────────────────────────┴────────────────────────┴───────────────┘\n"
      ]
     },
     "metadata": {},
     "output_type": "display_data"
    },
    {
     "data": {
      "text/html": [
       "<pre style=\"white-space:pre;overflow-x:auto;line-height:normal;font-family:Menlo,'DejaVu Sans Mono',consolas,'Courier New',monospace\"><span style=\"font-weight: bold\"> Total params: </span><span style=\"color: #00af00; text-decoration-color: #00af00\">2,881</span> (11.25 KB)\n",
       "</pre>\n"
      ],
      "text/plain": [
       "\u001b[1m Total params: \u001b[0m\u001b[38;5;34m2,881\u001b[0m (11.25 KB)\n"
      ]
     },
     "metadata": {},
     "output_type": "display_data"
    },
    {
     "data": {
      "text/html": [
       "<pre style=\"white-space:pre;overflow-x:auto;line-height:normal;font-family:Menlo,'DejaVu Sans Mono',consolas,'Courier New',monospace\"><span style=\"font-weight: bold\"> Trainable params: </span><span style=\"color: #00af00; text-decoration-color: #00af00\">2,881</span> (11.25 KB)\n",
       "</pre>\n"
      ],
      "text/plain": [
       "\u001b[1m Trainable params: \u001b[0m\u001b[38;5;34m2,881\u001b[0m (11.25 KB)\n"
      ]
     },
     "metadata": {},
     "output_type": "display_data"
    },
    {
     "data": {
      "text/html": [
       "<pre style=\"white-space:pre;overflow-x:auto;line-height:normal;font-family:Menlo,'DejaVu Sans Mono',consolas,'Courier New',monospace\"><span style=\"font-weight: bold\"> Non-trainable params: </span><span style=\"color: #00af00; text-decoration-color: #00af00\">0</span> (0.00 B)\n",
       "</pre>\n"
      ],
      "text/plain": [
       "\u001b[1m Non-trainable params: \u001b[0m\u001b[38;5;34m0\u001b[0m (0.00 B)\n"
      ]
     },
     "metadata": {},
     "output_type": "display_data"
    }
   ],
   "source": [
    "model.summary()\n"
   ]
  },
  {
   "cell_type": "code",
   "execution_count": null,
   "id": "be1a817f-8103-476c-b34f-8a2b7bee22a8",
   "metadata": {},
   "outputs": [],
   "source": []
  },
  {
   "cell_type": "markdown",
   "id": "a2f62f40-ae76-4513-9918-d52d780bc4b7",
   "metadata": {},
   "source": [
    "### Q10. Set the loss function(‘binary_crossentropy’), optimizer, and include the accuracy metric in the model.\n",
    "### Q11. Compile the model with the specified loss function, optimizer, and metrics."
   ]
  },
  {
   "cell_type": "code",
   "execution_count": 16,
   "id": "1b9afe70-7b1d-4d4e-84fe-4f6343072ce8",
   "metadata": {},
   "outputs": [],
   "source": [
    "model.compile(\n",
    "    loss='binary_crossentropy',\n",
    "    optimizer='adam',\n",
    "    metrics=['accuracy']\n",
    ")\n"
   ]
  },
  {
   "cell_type": "code",
   "execution_count": null,
   "id": "345c4115-80f8-4b2b-8469-6bbf9606715c",
   "metadata": {},
   "outputs": [],
   "source": []
  },
  {
   "cell_type": "markdown",
   "id": "689e9edc-35df-4abc-b283-a9fd0ee3b11f",
   "metadata": {},
   "source": [
    "### Q12. Fit the model to the training data using appropriate batch size and number of epochs."
   ]
  },
  {
   "cell_type": "code",
   "execution_count": 17,
   "id": "d76c4edd-835b-4f9e-a13e-9887be7301e9",
   "metadata": {},
   "outputs": [
    {
     "name": "stdout",
     "output_type": "stream",
     "text": [
      "Epoch 1/20\n",
      "\u001b[1m32/32\u001b[0m \u001b[32m━━━━━━━━━━━━━━━━━━━━\u001b[0m\u001b[37m\u001b[0m \u001b[1m2s\u001b[0m 9ms/step - accuracy: 0.5084 - loss: 0.7202 - val_accuracy: 0.6914 - val_loss: 0.6080\n",
      "Epoch 2/20\n",
      "\u001b[1m32/32\u001b[0m \u001b[32m━━━━━━━━━━━━━━━━━━━━\u001b[0m\u001b[37m\u001b[0m \u001b[1m0s\u001b[0m 3ms/step - accuracy: 0.7213 - loss: 0.5537 - val_accuracy: 0.7188 - val_loss: 0.5621\n",
      "Epoch 3/20\n",
      "\u001b[1m32/32\u001b[0m \u001b[32m━━━━━━━━━━━━━━━━━━━━\u001b[0m\u001b[37m\u001b[0m \u001b[1m0s\u001b[0m 3ms/step - accuracy: 0.7366 - loss: 0.5201 - val_accuracy: 0.7461 - val_loss: 0.5440\n",
      "Epoch 4/20\n",
      "\u001b[1m32/32\u001b[0m \u001b[32m━━━━━━━━━━━━━━━━━━━━\u001b[0m\u001b[37m\u001b[0m \u001b[1m0s\u001b[0m 3ms/step - accuracy: 0.7367 - loss: 0.5141 - val_accuracy: 0.7422 - val_loss: 0.5401\n",
      "Epoch 5/20\n",
      "\u001b[1m32/32\u001b[0m \u001b[32m━━━━━━━━━━━━━━━━━━━━\u001b[0m\u001b[37m\u001b[0m \u001b[1m0s\u001b[0m 3ms/step - accuracy: 0.7313 - loss: 0.5081 - val_accuracy: 0.7500 - val_loss: 0.5360\n",
      "Epoch 6/20\n",
      "\u001b[1m32/32\u001b[0m \u001b[32m━━━━━━━━━━━━━━━━━━━━\u001b[0m\u001b[37m\u001b[0m \u001b[1m0s\u001b[0m 3ms/step - accuracy: 0.7507 - loss: 0.4874 - val_accuracy: 0.7617 - val_loss: 0.5326\n",
      "Epoch 7/20\n",
      "\u001b[1m32/32\u001b[0m \u001b[32m━━━━━━━━━━━━━━━━━━━━\u001b[0m\u001b[37m\u001b[0m \u001b[1m0s\u001b[0m 3ms/step - accuracy: 0.7317 - loss: 0.5111 - val_accuracy: 0.7773 - val_loss: 0.5326\n",
      "Epoch 8/20\n",
      "\u001b[1m32/32\u001b[0m \u001b[32m━━━━━━━━━━━━━━━━━━━━\u001b[0m\u001b[37m\u001b[0m \u001b[1m0s\u001b[0m 3ms/step - accuracy: 0.7579 - loss: 0.4886 - val_accuracy: 0.7695 - val_loss: 0.5255\n",
      "Epoch 9/20\n",
      "\u001b[1m32/32\u001b[0m \u001b[32m━━━━━━━━━━━━━━━━━━━━\u001b[0m\u001b[37m\u001b[0m \u001b[1m0s\u001b[0m 3ms/step - accuracy: 0.7660 - loss: 0.4825 - val_accuracy: 0.7891 - val_loss: 0.5267\n",
      "Epoch 10/20\n",
      "\u001b[1m32/32\u001b[0m \u001b[32m━━━━━━━━━━━━━━━━━━━━\u001b[0m\u001b[37m\u001b[0m \u001b[1m0s\u001b[0m 3ms/step - accuracy: 0.7679 - loss: 0.4836 - val_accuracy: 0.7891 - val_loss: 0.5248\n",
      "Epoch 11/20\n",
      "\u001b[1m32/32\u001b[0m \u001b[32m━━━━━━━━━━━━━━━━━━━━\u001b[0m\u001b[37m\u001b[0m \u001b[1m0s\u001b[0m 3ms/step - accuracy: 0.7664 - loss: 0.4636 - val_accuracy: 0.7969 - val_loss: 0.5328\n",
      "Epoch 12/20\n",
      "\u001b[1m32/32\u001b[0m \u001b[32m━━━━━━━━━━━━━━━━━━━━\u001b[0m\u001b[37m\u001b[0m \u001b[1m0s\u001b[0m 3ms/step - accuracy: 0.7784 - loss: 0.4698 - val_accuracy: 0.7969 - val_loss: 0.5296\n",
      "Epoch 13/20\n",
      "\u001b[1m32/32\u001b[0m \u001b[32m━━━━━━━━━━━━━━━━━━━━\u001b[0m\u001b[37m\u001b[0m \u001b[1m0s\u001b[0m 3ms/step - accuracy: 0.7771 - loss: 0.4477 - val_accuracy: 0.7656 - val_loss: 0.5201\n",
      "Epoch 14/20\n",
      "\u001b[1m32/32\u001b[0m \u001b[32m━━━━━━━━━━━━━━━━━━━━\u001b[0m\u001b[37m\u001b[0m \u001b[1m0s\u001b[0m 3ms/step - accuracy: 0.7680 - loss: 0.4632 - val_accuracy: 0.7969 - val_loss: 0.5327\n",
      "Epoch 15/20\n",
      "\u001b[1m32/32\u001b[0m \u001b[32m━━━━━━━━━━━━━━━━━━━━\u001b[0m\u001b[37m\u001b[0m \u001b[1m0s\u001b[0m 3ms/step - accuracy: 0.7803 - loss: 0.4624 - val_accuracy: 0.7852 - val_loss: 0.5329\n",
      "Epoch 16/20\n",
      "\u001b[1m32/32\u001b[0m \u001b[32m━━━━━━━━━━━━━━━━━━━━\u001b[0m\u001b[37m\u001b[0m \u001b[1m0s\u001b[0m 3ms/step - accuracy: 0.7938 - loss: 0.4451 - val_accuracy: 0.7773 - val_loss: 0.5263\n",
      "Epoch 17/20\n",
      "\u001b[1m32/32\u001b[0m \u001b[32m━━━━━━━━━━━━━━━━━━━━\u001b[0m\u001b[37m\u001b[0m \u001b[1m0s\u001b[0m 3ms/step - accuracy: 0.7653 - loss: 0.4726 - val_accuracy: 0.7891 - val_loss: 0.5319\n",
      "Epoch 18/20\n",
      "\u001b[1m32/32\u001b[0m \u001b[32m━━━━━━━━━━━━━━━━━━━━\u001b[0m\u001b[37m\u001b[0m \u001b[1m0s\u001b[0m 3ms/step - accuracy: 0.7962 - loss: 0.4322 - val_accuracy: 0.7812 - val_loss: 0.5235\n",
      "Epoch 19/20\n",
      "\u001b[1m32/32\u001b[0m \u001b[32m━━━━━━━━━━━━━━━━━━━━\u001b[0m\u001b[37m\u001b[0m \u001b[1m0s\u001b[0m 3ms/step - accuracy: 0.7976 - loss: 0.4170 - val_accuracy: 0.7852 - val_loss: 0.5229\n",
      "Epoch 20/20\n",
      "\u001b[1m32/32\u001b[0m \u001b[32m━━━━━━━━━━━━━━━━━━━━\u001b[0m\u001b[37m\u001b[0m \u001b[1m0s\u001b[0m 3ms/step - accuracy: 0.7908 - loss: 0.4414 - val_accuracy: 0.7812 - val_loss: 0.5263\n"
     ]
    }
   ],
   "source": [
    "history = model.fit(\n",
    "    X_train_scaled, y_train,\n",
    "    epochs=20,  # Adjust based on needs\n",
    "    batch_size=32,\n",
    "    validation_data=(X_val_scaled, y_val)\n",
    ")\n"
   ]
  },
  {
   "cell_type": "code",
   "execution_count": null,
   "id": "de83b8e0-c6e4-4235-a072-e24a22a291ac",
   "metadata": {},
   "outputs": [],
   "source": []
  },
  {
   "cell_type": "markdown",
   "id": "7caf30e6-921e-4578-b725-8c988b3b000e",
   "metadata": {},
   "source": [
    "### Q13. Obtain the model's parameters (weights and biases)."
   ]
  },
  {
   "cell_type": "code",
   "execution_count": 18,
   "id": "454c128b-2f6c-456c-913d-d5990b5358d1",
   "metadata": {},
   "outputs": [
    {
     "name": "stdout",
     "output_type": "stream",
     "text": [
      "Model weights and biases: [array([[ 0.06642915,  0.10818976,  0.06331846, -0.14251095,  0.15252997,\n",
      "        -0.09405292, -0.13189769,  0.10495654, -0.24561866,  0.05555776,\n",
      "         0.08415487, -0.13953045,  0.18495615,  0.03630647, -0.17730458,\n",
      "         0.09667142, -0.07183762,  0.15079258,  0.16311301,  0.21247098,\n",
      "         0.06767232, -0.08424287, -0.05041287, -0.18101533, -0.03289685,\n",
      "        -0.2908496 ,  0.13745126,  0.08227709,  0.12873624,  0.19973107,\n",
      "        -0.03749513,  0.07934983, -0.2974784 , -0.01699808, -0.08372051,\n",
      "        -0.11549035, -0.18006127, -0.23118001,  0.22622445, -0.14941971,\n",
      "         0.17592226, -0.11481085, -0.18624005,  0.24906386, -0.17986302,\n",
      "         0.3008456 , -0.3275863 , -0.09163113,  0.18365383, -0.11452226,\n",
      "         0.18905199, -0.30262896, -0.24091269,  0.13379385, -0.01031498,\n",
      "         0.1928447 ,  0.06903426,  0.05855478,  0.27967742,  0.26339534,\n",
      "        -0.0787179 ,  0.22635345,  0.2678342 ,  0.09923371],\n",
      "       [-0.42392305,  0.13432415, -0.02300249, -0.1325153 , -0.20065346,\n",
      "         0.06761897, -0.21790661,  0.19626957, -0.05543176,  0.03508529,\n",
      "        -0.01515663,  0.27936915,  0.25190657,  0.32538188, -0.35301948,\n",
      "        -0.3209874 , -0.09843069,  0.07805293, -0.1726152 ,  0.29114506,\n",
      "         0.20186168, -0.19008346, -0.14288662, -0.3349368 ,  0.23808159,\n",
      "        -0.01177352, -0.07535057, -0.13914032, -0.12984498, -0.14667052,\n",
      "        -0.24028556, -0.02313769, -0.05996609,  0.17085052, -0.12697986,\n",
      "         0.17557909,  0.1020351 ,  0.22147526, -0.11943862,  0.05243322,\n",
      "         0.1153523 , -0.07534831,  0.12159056, -0.17445947, -0.10001636,\n",
      "         0.1794026 ,  0.28940436, -0.05407152,  0.07015946,  0.12862764,\n",
      "        -0.11186173, -0.02116825, -0.08483908,  0.3214666 ,  0.23958965,\n",
      "        -0.01647539,  0.19574398,  0.35802048,  0.04007923,  0.05644524,\n",
      "        -0.19950017, -0.28520375,  0.01648218, -0.0950798 ],\n",
      "       [-0.2085297 ,  0.24122973, -0.18153314,  0.24567689, -0.14213704,\n",
      "         0.08633549, -0.15879951, -0.17014024, -0.18709457,  0.1769517 ,\n",
      "         0.0622464 ,  0.06408706, -0.20348163,  0.03805214, -0.19534627,\n",
      "         0.39786613,  0.0192438 ,  0.20013514,  0.06099913,  0.06624489,\n",
      "        -0.22341798,  0.00537822,  0.2513723 ,  0.13478982, -0.00099789,\n",
      "        -0.0412188 ,  0.22403842, -0.02559684, -0.14494972, -0.10718577,\n",
      "         0.0634409 ,  0.06714122, -0.1074305 , -0.34404254, -0.1951826 ,\n",
      "        -0.32749888,  0.08910271, -0.19800907, -0.11985774,  0.19485174,\n",
      "         0.13820289,  0.29162595, -0.21855831, -0.27463925, -0.03399209,\n",
      "         0.07080703, -0.07380223, -0.0986141 , -0.16892686, -0.11084776,\n",
      "         0.29721433, -0.241943  ,  0.1009694 , -0.30408993, -0.25721815,\n",
      "         0.14059372,  0.04110525, -0.11909589, -0.14659064,  0.15484913,\n",
      "         0.30526412,  0.20690016, -0.14822377,  0.12536329],\n",
      "       [-0.22631133,  0.04759414,  0.12155909,  0.08671132,  0.17085283,\n",
      "        -0.20921142,  0.14015955, -0.08484706,  0.17920536,  0.10468661,\n",
      "         0.12106762, -0.33195135,  0.2299251 , -0.3159509 , -0.09294461,\n",
      "         0.03853011, -0.20994835,  0.00143463, -0.07844859, -0.00394108,\n",
      "         0.10580843, -0.14149345,  0.01395881,  0.21804798,  0.00787609,\n",
      "        -0.10454515,  0.276114  ,  0.06906033,  0.12385795, -0.16503933,\n",
      "        -0.067776  ,  0.03206173, -0.04022183, -0.29956317,  0.24786526,\n",
      "        -0.33290267,  0.20532727, -0.03022256,  0.09051825, -0.17843705,\n",
      "         0.24564983, -0.3057978 ,  0.2520722 ,  0.12802015,  0.1138185 ,\n",
      "        -0.14204682, -0.03429187,  0.08685058, -0.23898004,  0.08159517,\n",
      "        -0.07146344, -0.1814072 , -0.09129144,  0.05351665,  0.23815712,\n",
      "        -0.19046742,  0.2776039 , -0.07320482, -0.11661746,  0.0052645 ,\n",
      "         0.10884222,  0.08467639, -0.28527576,  0.30089727],\n",
      "       [-0.15615341, -0.22529498, -0.11031266,  0.10724193,  0.03437114,\n",
      "         0.1368465 ,  0.05515573,  0.04259373, -0.06308491,  0.08426493,\n",
      "         0.01254596,  0.04379318, -0.07943814, -0.15162049, -0.29430267,\n",
      "        -0.02993807, -0.13470945,  0.13877311, -0.0924337 , -0.13424388,\n",
      "        -0.19464411, -0.1588057 , -0.23556492, -0.19698763, -0.27850968,\n",
      "         0.18134518,  0.21775106, -0.0478317 ,  0.04658853,  0.20654947,\n",
      "         0.07545276, -0.00477671, -0.1649198 ,  0.24608523,  0.1196703 ,\n",
      "         0.16322803, -0.28277463,  0.24604645,  0.08281146,  0.12702452,\n",
      "        -0.28005806,  0.12921596, -0.01270333, -0.03573364, -0.23516524,\n",
      "        -0.00815031, -0.19970074,  0.04804442,  0.04995495,  0.21989094,\n",
      "         0.2267562 , -0.03495101,  0.25963306,  0.14997268, -0.11889452,\n",
      "         0.04155758,  0.22652686, -0.03227236,  0.32134917, -0.13513114,\n",
      "         0.15037236, -0.26692402,  0.30565667, -0.07889861],\n",
      "       [-0.1853091 , -0.24049097,  0.12961294,  0.03686158,  0.01447328,\n",
      "         0.07621735,  0.01402372,  0.16413596, -0.01014715,  0.34620494,\n",
      "        -0.20528117, -0.28600228, -0.23600942,  0.14899674,  0.13301505,\n",
      "         0.22369805, -0.24587198,  0.11935288,  0.17697854, -0.09145103,\n",
      "        -0.12605184,  0.19607335,  0.17771825,  0.02957976,  0.0826656 ,\n",
      "         0.24923453, -0.1878812 , -0.38375756,  0.12399421,  0.1005135 ,\n",
      "        -0.1517914 ,  0.30285275,  0.01177632,  0.10606182, -0.24413514,\n",
      "         0.17107256, -0.04294528,  0.11126222, -0.16555573, -0.12821828,\n",
      "         0.01437911, -0.02425074, -0.22569615,  0.22386882, -0.25393298,\n",
      "        -0.11858755,  0.28556752, -0.08484794,  0.25352418,  0.16897953,\n",
      "        -0.34782284, -0.17259347, -0.01649395, -0.21195748, -0.28149286,\n",
      "         0.00143169, -0.28195667,  0.00923278, -0.02262599,  0.01553482,\n",
      "         0.06733511,  0.0450565 , -0.08494059,  0.23147474],\n",
      "       [ 0.23056914,  0.05446735,  0.03300624,  0.30266842, -0.3127511 ,\n",
      "        -0.31402802, -0.16847971,  0.10345943, -0.24469323,  0.09296025,\n",
      "        -0.1276739 ,  0.10800599,  0.01899352,  0.1608079 , -0.12283507,\n",
      "        -0.13875683,  0.25371766, -0.1931548 , -0.17555714, -0.1596681 ,\n",
      "        -0.03827178, -0.3043678 ,  0.0101226 , -0.38199747,  0.21161133,\n",
      "         0.0637475 , -0.20857567,  0.1407581 ,  0.02102165, -0.17507905,\n",
      "         0.07788539, -0.2422069 ,  0.2917099 ,  0.18958998,  0.2280968 ,\n",
      "        -0.34241602, -0.16117644, -0.07813834, -0.3103866 ,  0.32658836,\n",
      "         0.17966287, -0.1478749 , -0.23259859,  0.24483739,  0.21494597,\n",
      "         0.21641545, -0.05892358,  0.12949641,  0.22816831,  0.1877566 ,\n",
      "         0.23781313, -0.12102502, -0.26618987, -0.14787775, -0.25536042,\n",
      "        -0.21249302,  0.10115243,  0.28967276,  0.08146507, -0.09198456,\n",
      "        -0.02605289, -0.25550213,  0.02533287,  0.1756321 ],\n",
      "       [-0.02706146,  0.01852731, -0.28721726,  0.12271923,  0.07126036,\n",
      "        -0.18946178,  0.05325455,  0.15977357, -0.2239127 ,  0.13590528,\n",
      "        -0.1605183 ,  0.19155248, -0.04728173,  0.16271847,  0.03985434,\n",
      "        -0.1427748 ,  0.1234576 , -0.20285363, -0.17056033,  0.28339198,\n",
      "         0.22977339, -0.28460988,  0.10264795, -0.08213668,  0.27925703,\n",
      "        -0.31960618, -0.155887  ,  0.0707036 , -0.07311597,  0.33925423,\n",
      "         0.1253806 ,  0.24666634,  0.03398973, -0.23171988, -0.21723662,\n",
      "         0.1564043 , -0.19263875,  0.01370949,  0.21900798,  0.01351718,\n",
      "         0.00440713, -0.21026535,  0.1915146 , -0.02461572,  0.20385936,\n",
      "         0.186093  ,  0.08651297, -0.2984456 , -0.00466536,  0.12786257,\n",
      "        -0.1961041 ,  0.24792087,  0.2946559 ,  0.30427712,  0.12657948,\n",
      "        -0.40634322,  0.0640007 ,  0.01442246, -0.21983282, -0.24691026,\n",
      "         0.12509727,  0.2100414 , -0.0725972 ,  0.15842007],\n",
      "       [ 0.23422605,  0.04149116,  0.00986093,  0.15975155, -0.20929493,\n",
      "         0.0025399 , -0.19261359, -0.01309225, -0.11705483,  0.23336004,\n",
      "         0.02038882, -0.12998438, -0.0927218 , -0.186678  , -0.22773637,\n",
      "        -0.13163938,  0.2947043 , -0.19621687,  0.06359645,  0.02667757,\n",
      "         0.2004938 ,  0.06767196, -0.18053545,  0.20875101, -0.05518452,\n",
      "         0.06805254,  0.08765814,  0.19766012, -0.22913608, -0.18907273,\n",
      "        -0.16255718,  0.22235486,  0.343386  , -0.07300656,  0.09721294,\n",
      "        -0.23288119,  0.2160563 , -0.06886086, -0.08468831,  0.20115663,\n",
      "        -0.16389737,  0.29044715,  0.18813084, -0.22458383,  0.09337328,\n",
      "         0.05628387,  0.13924737,  0.02023089, -0.10916665,  0.03431178,\n",
      "        -0.0403803 , -0.03446016,  0.08610122, -0.1855425 ,  0.288285  ,\n",
      "         0.15032132, -0.18851459, -0.02440893, -0.15402529, -0.27694455,\n",
      "         0.01579525, -0.10608266, -0.02524367, -0.05793234],\n",
      "       [ 0.16109268, -0.24422891, -0.11422996, -0.02994244,  0.1872828 ,\n",
      "        -0.36654523,  0.23365414, -0.24979223, -0.38963008,  0.08908416,\n",
      "        -0.30499277, -0.0505727 ,  0.122336  ,  0.13378714,  0.02619576,\n",
      "        -0.08246363, -0.23433676,  0.19424456,  0.14142905,  0.18736713,\n",
      "        -0.01227264,  0.04169446,  0.22042951,  0.1092648 , -0.12492401,\n",
      "         0.22416908,  0.23571788, -0.26502618, -0.00546255,  0.0599722 ,\n",
      "        -0.20288913,  0.09595745,  0.21097286,  0.32195163,  0.121806  ,\n",
      "         0.04800236, -0.18882546,  0.07837394, -0.5157534 ,  0.323638  ,\n",
      "         0.13561572, -0.3164552 ,  0.24371417,  0.16484794,  0.0894555 ,\n",
      "        -0.3155657 , -0.20209278,  0.01759641, -0.22909528,  0.02791871,\n",
      "         0.05094356, -0.04657333, -0.15677531, -0.03332496, -0.5057071 ,\n",
      "         0.22772934,  0.00094256, -0.11935405,  0.0079048 ,  0.10660243,\n",
      "        -0.06070188,  0.15152238,  0.0672183 , -0.26770848],\n",
      "       [ 0.2038228 , -0.14827389, -0.18495396,  0.2158743 , -0.06766325,\n",
      "        -0.19905685,  0.30543467,  0.0168716 , -0.18312174, -0.07509786,\n",
      "        -0.18204811,  0.04575428, -0.04599849, -0.19808227, -0.03967725,\n",
      "        -0.07622611,  0.07155527, -0.09183096,  0.08258378,  0.29369375,\n",
      "         0.07133508,  0.2691558 , -0.13531551,  0.03586372,  0.27331278,\n",
      "         0.21974458,  0.06951816,  0.09038405,  0.48618063, -0.17765625,\n",
      "         0.13256314,  0.19182646, -0.16454948,  0.05934155,  0.03526835,\n",
      "        -0.19342972,  0.0889402 , -0.01899479,  0.10364088,  0.13533768,\n",
      "        -0.07818193,  0.14941776, -0.01667207,  0.08400091,  0.33079177,\n",
      "        -0.18409188, -0.19996484,  0.18235397, -0.3434591 , -0.10751761,\n",
      "         0.20912784,  0.03051979, -0.03546528,  0.25356194, -0.05512763,\n",
      "         0.3462003 , -0.1055323 , -0.21360713, -0.21402642,  0.2941425 ,\n",
      "        -0.11988424,  0.28500506, -0.11843865, -0.25828254]],\n",
      "      dtype=float32), array([ 0.07237586,  0.02563036, -0.01091312,  0.04831585,  0.00311174,\n",
      "        0.04047678,  0.10209445,  0.002582  , -0.07335111, -0.03837951,\n",
      "       -0.01940362, -0.01518857, -0.05786236,  0.0141304 ,  0.02487181,\n",
      "        0.05962307,  0.03803994, -0.01633938,  0.08273019,  0.03361606,\n",
      "       -0.02888893,  0.06418692, -0.0071032 ,  0.08006897, -0.0305829 ,\n",
      "        0.05241543,  0.03263611, -0.02387661,  0.09257296,  0.01711445,\n",
      "        0.02219173,  0.08813917,  0.064833  ,  0.10152055,  0.01391439,\n",
      "        0.0334176 ,  0.08191985,  0.01872566,  0.01465996, -0.00912524,\n",
      "       -0.03729238, -0.10065348,  0.08755263, -0.05665212,  0.0627666 ,\n",
      "       -0.04994338, -0.03924118,  0.08597201, -0.02572434, -0.05494816,\n",
      "        0.0148609 , -0.07169407, -0.10269162,  0.12465453,  0.07218241,\n",
      "        0.02719543,  0.08975534, -0.03043417,  0.03994587,  0.06957663,\n",
      "        0.0271879 , -0.02781842,  0.0012329 ,  0.01036809], dtype=float32), array([[-0.00332892,  0.07202542,  0.00224071, ..., -0.00739889,\n",
      "         0.01792656,  0.32437313],\n",
      "       [ 0.30859783, -0.00928891, -0.14989667, ...,  0.1230772 ,\n",
      "         0.02359753,  0.10616042],\n",
      "       [-0.04242064,  0.15680388, -0.13334209, ...,  0.16430345,\n",
      "        -0.15584728, -0.03974163],\n",
      "       ...,\n",
      "       [ 0.10418688,  0.0904332 , -0.14652857, ...,  0.1240823 ,\n",
      "        -0.18836413, -0.02553255],\n",
      "       [-0.25590083, -0.30442744,  0.2781087 , ...,  0.04774471,\n",
      "         0.04948336,  0.11261909],\n",
      "       [ 0.1728371 , -0.03866912, -0.06790068, ..., -0.17954007,\n",
      "         0.18053395, -0.08477536]], dtype=float32), array([-0.02073619, -0.0292178 , -0.05698592, -0.05072503, -0.02768938,\n",
      "        0.08197566,  0.1051094 , -0.06770302, -0.00937922,  0.08090472,\n",
      "        0.05143746, -0.06508697,  0.08474515, -0.03311456,  0.0516541 ,\n",
      "       -0.01402119, -0.02127974,  0.05319877,  0.06564597,  0.02135169,\n",
      "        0.01749423, -0.01166056,  0.00795473, -0.04923877,  0.03196055,\n",
      "       -0.00639875, -0.06485294,  0.01839079, -0.05353069,  0.08130629,\n",
      "       -0.02250929,  0.07144652], dtype=float32), array([[-0.49453378],\n",
      "       [-0.1744038 ],\n",
      "       [-0.32518613],\n",
      "       [-0.11275228],\n",
      "       [-0.16926484],\n",
      "       [ 0.21394747],\n",
      "       [ 0.31897184],\n",
      "       [-0.26964894],\n",
      "       [-0.6229755 ],\n",
      "       [ 0.35995466],\n",
      "       [ 0.3437371 ],\n",
      "       [-0.24703564],\n",
      "       [ 0.37946618],\n",
      "       [ 0.561145  ],\n",
      "       [ 0.11412646],\n",
      "       [-0.5267055 ],\n",
      "       [-0.39365712],\n",
      "       [ 0.11076213],\n",
      "       [ 0.45284745],\n",
      "       [-0.4513894 ],\n",
      "       [ 0.1753763 ],\n",
      "       [-0.20507656],\n",
      "       [-0.11668673],\n",
      "       [-0.2626499 ],\n",
      "       [-0.45829818],\n",
      "       [ 0.2307745 ],\n",
      "       [-0.2867465 ],\n",
      "       [-0.21888706],\n",
      "       [-0.35783213],\n",
      "       [ 0.36267513],\n",
      "       [-0.3630785 ],\n",
      "       [ 0.4641714 ]], dtype=float32), array([0.07015072], dtype=float32)]\n"
     ]
    }
   ],
   "source": [
    "weights = model.get_weights()\n",
    "print(\"Model weights and biases:\", weights)\n"
   ]
  },
  {
   "cell_type": "code",
   "execution_count": null,
   "id": "cf0c3f7c-dd8b-40b8-9e90-5d07e8d6765d",
   "metadata": {},
   "outputs": [],
   "source": []
  },
  {
   "cell_type": "markdown",
   "id": "205db5ec-4800-4142-a8af-a969c6afb24c",
   "metadata": {},
   "source": [
    "### Q14. Store the model's training history as a Pandas DataFrame."
   ]
  },
  {
   "cell_type": "code",
   "execution_count": 19,
   "id": "a3206b69-cde0-4739-8fa1-bf7d5ff0fd23",
   "metadata": {},
   "outputs": [
    {
     "name": "stdout",
     "output_type": "stream",
     "text": [
      "   accuracy      loss  val_accuracy  val_loss\n",
      "0  0.589443  0.666396      0.691406  0.607957\n",
      "1  0.720430  0.554406      0.718750  0.562125\n",
      "2  0.731183  0.525280      0.746094  0.543959\n",
      "3  0.739980  0.511569      0.742188  0.540094\n",
      "4  0.737048  0.502373      0.750000  0.536034\n"
     ]
    }
   ],
   "source": [
    "history_df = pd.DataFrame(history.history)\n",
    "print(history_df.head())\n"
   ]
  },
  {
   "cell_type": "code",
   "execution_count": null,
   "id": "45fba007-1289-4e54-8d8f-7b3d241b4ed9",
   "metadata": {},
   "outputs": [],
   "source": []
  },
  {
   "cell_type": "markdown",
   "id": "effc0e67-da6f-4e74-975c-3cf2d8cd22be",
   "metadata": {},
   "source": [
    "### Q15. Plot the training history (e.g., accuracy and loss) using suitable visualization techniques."
   ]
  },
  {
   "cell_type": "code",
   "execution_count": 20,
   "id": "5d352998-0576-44d9-b3db-f280c3c7b729",
   "metadata": {},
   "outputs": [
    {
     "data": {
      "image/png": "[encoded data removed]",
      "text/plain": [
       "<Figure size 1200x600 with 2 Axes>"
      ]
     },
     "metadata": {},
     "output_type": "display_data"
    }
   ],
   "source": [
    "import matplotlib.pyplot as plt\n",
    "\n",
    "# Plot accuracy and loss\n",
    "plt.figure(figsize=(12, 6))\n",
    "\n",
    "plt.subplot(1, 2, 1)\n",
    "plt.plot(history_df['accuracy'], label='Accuracy')\n",
    "plt.plot(history_df['val_accuracy'], label='Validation Accuracy')\n",
    "plt.xlabel('Epochs')\n",
    "plt.ylabel('Accuracy')\n",
    "plt.legend()\n",
    "\n",
    "plt.subplot(1, 2, 2)\n",
    "plt.plot(history_df['loss'], label='Loss')\n",
    "plt.plot(history_df['val_loss'], label='Validation Loss')\n",
    "plt.xlabel('Epochs')\n",
    "plt.ylabel('Loss')\n",
    "plt.legend()\n",
    "\n",
    "plt.show()\n"
   ]
  },
  {
   "cell_type": "code",
   "execution_count": null,
   "id": "153e8394-00c5-4e19-8a3e-a8078daf6db0",
   "metadata": {},
   "outputs": [],
   "source": []
  },
  {
   "cell_type": "markdown",
   "id": "ee4d1cf9-76d7-486b-be03-d8ba0939f612",
   "metadata": {},
   "source": [
    "### Q16. Evaluate the model's performance using the test dataset and report relevant metrics."
   ]
  },
  {
   "cell_type": "code",
   "execution_count": 25,
   "id": "16157bfe-7c1d-4bc0-88f9-54b3444e833d",
   "metadata": {},
   "outputs": [
    {
     "name": "stdout",
     "output_type": "stream",
     "text": [
      "\u001b[1m10/10\u001b[0m \u001b[32m━━━━━━━━━━━━━━━━━━━━\u001b[0m\u001b[37m\u001b[0m \u001b[1m0s\u001b[0m 1ms/step - accuracy: 0.7366 - loss: 0.4856 \n",
      "Test Loss: 0.4938887655735016\n",
      "Test Accuracy: 0.737500011920929\n"
     ]
    }
   ],
   "source": [
    "test_loss, test_accuracy = model.evaluate(X_test_scaled, y_test)\n",
    "print(f\"Test Loss: {test_loss}\")\n",
    "print(f\"Test Accuracy: {test_accuracy}\")\n"
   ]
  },
  {
   "cell_type": "code",
   "execution_count": null,
   "id": "4c310a75-1a6f-4f5e-b454-e87cfff5a5d6",
   "metadata": {},
   "outputs": [],
   "source": []
  }
 ],
 "metadata": {
  "kernelspec": {
   "display_name": "Python 3 (ipykernel)",
   "language": "python",
   "name": "python3"
  },
  "language_info": {
   "codemirror_mode": {
    "name": "ipython",
    "version": 3
   },
   "file_extension": ".py",
   "mimetype": "text/x-python",
   "name": "python",
   "nbconvert_exporter": "python",
   "pygments_lexer": "ipython3",
   "version": "3.10.8"
  }
 },
 "nbformat": 4,
 "nbformat_minor": 5
}
